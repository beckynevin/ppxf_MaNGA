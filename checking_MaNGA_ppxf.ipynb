{
 "cells": [
  {
   "cell_type": "code",
   "execution_count": 1,
   "metadata": {
    "collapsed": false
   },
   "outputs": [
    {
     "data": {
      "text/plain": [
       "'this code will compare the results from LOGCUBE to a run of pPXF I do myself'"
      ]
     },
     "execution_count": 1,
     "metadata": {},
     "output_type": "execute_result"
    }
   ],
   "source": [
    "'''this code will compare the results from LOGCUBE to a run of pPXF I do myself'''"
   ]
  },
  {
   "cell_type": "code",
   "execution_count": 1,
   "metadata": {
    "collapsed": true
   },
   "outputs": [],
   "source": [
    "import pyfits\n",
    "import matplotlib.pyplot as plt\n",
    "\n",
    "import heapq\n",
    "import pyfits\n",
    "import matplotlib as plt\n",
    "from pylab import *\n",
    "import numpy as np\n",
    "from decimal import *\n",
    "import numpy\n",
    "from scipy.optimize import curve_fit\n",
    "from scipy.integrate import quad\n",
    "import matplotlib.pyplot as plt\n",
    "from astropy.modeling import models, fitting\n",
    "from pylab import *\n",
    "from scipy import stats\n",
    "from scipy.stats import chisquare\n",
    "import matplotlib.patches as patches\n",
    "from astropy.io import fits\n",
    "\n",
    "\n",
    "from astropy.cosmology import WMAP9 as cosmo\n",
    "\n",
    "import pyfits\n",
    "import matplotlib.pyplot as plt\n",
    "\n",
    "import heapq\n",
    "import pyfits\n",
    "import matplotlib as plt\n",
    "from pylab import *\n",
    "import numpy as np\n",
    "from decimal import *\n",
    "import numpy\n",
    "from scipy.optimize import curve_fit\n",
    "from scipy.integrate import quad\n",
    "import matplotlib.pyplot as plt\n",
    "from astropy.modeling import models, fitting\n",
    "from pylab import *\n",
    "from scipy import stats\n",
    "from scipy.stats import chisquare\n",
    "import matplotlib.patches as patches\n",
    "\n",
    "import sys \n",
    "\n",
    "sys.path.append('/usr/local/lib/python2.7/site-packages/ppxf')\n",
    "sys.path\n",
    "\n",
    "from __future__ import print_function\n",
    "\n",
    "from astropy.io import fits\n",
    "import numpy as np\n",
    "import glob\n",
    "from time import clock\n",
    "from os import path\n",
    "\n",
    "from ppxf import ppxf\n",
    "import ppxf_util as util\n",
    "plt.clf()\n",
    "\n",
    "\n"
   ]
  },
  {
   "cell_type": "code",
   "execution_count": 2,
   "metadata": {
    "collapsed": true
   },
   "outputs": [],
   "source": [
    "file='../MaNGA_code/practice_logcube/manga-8459-3702-LOGCUBE.fits'\n",
    "file='../MaNGA_code/practice_logcube/manga-8459-3702-LOGCUBE-SPX-GAU-MILESHC.fits'"
   ]
  },
  {
   "cell_type": "code",
   "execution_count": 3,
   "metadata": {
    "collapsed": false
   },
   "outputs": [
    {
     "name": "stdout",
     "output_type": "stream",
     "text": [
      "DAP VERSION 2.0.2\n",
      "REFF 4.0408902\n",
      "SN min in fit 1.0\n",
      "Input Vel 21648.163\n",
      "Input Sigma 100.0\n",
      "Number of Stellar Templates 798\n",
      "Type of Fitting stellar_kinematics\n",
      "PpXF?  ppxf\n",
      "Template lib MILESHC\n",
      "Bias value None\n",
      "Cleaned? False\n",
      "Moments 2\n",
      "Polynomial Degree 8\n",
      "Multiplicative Polynomial Degree -1\n"
     ]
    }
   ],
   "source": [
    "logcube=pyfits.open(file)\n",
    "#print(logcube[0].header)\n",
    "print('DAP VERSION', logcube[0].header['VERSDAP'])\n",
    "\n",
    "print('REFF', logcube[0].header['REFF'])\n",
    "#print('Binning?', logcube[0].header['BINTYPE'])\n",
    "print('SN min in fit', logcube[0].header['SCMINSN'])\n",
    "print('Input Vel', logcube[0].header['SCINPVEL'])\n",
    "print('Input Sigma', logcube[0].header['SCINPSIG'])\n",
    "print('Number of Stellar Templates', logcube[0].header['NSCMOD'])\n",
    "print('Type of Fitting', logcube[0].header['SCTYPE'])\n",
    "print('PpXF? ', logcube[0].header['SCMETH'])\n",
    "print('Template lib', logcube[0].header['PPXFTPLK'])\n",
    "print('Bias value', logcube[0].header['PPXFBIAS'])\n",
    "print('Cleaned?', logcube[0].header['PPXFCLN'])\n",
    "print('Moments', logcube[0].header['PPXFMOM'])\n",
    "print('Polynomial Degree', logcube[0].header['PPXFDEG'])\n",
    "print('Multiplicative Polynomial Degree', logcube[0].header['PPXFMDEG'])\n",
    "\n"
   ]
  },
  {
   "cell_type": "code",
   "execution_count": 4,
   "metadata": {
    "collapsed": false
   },
   "outputs": [
    {
     "name": "stdout",
     "output_type": "stream",
     "text": [
      "(4563, 42, 42)\n"
     ]
    }
   ],
   "source": [
    "print(shape(logcube[6].data))"
   ]
  },
  {
   "cell_type": "code",
   "execution_count": 5,
   "metadata": {
    "collapsed": false
   },
   "outputs": [
    {
     "data": {
      "image/png": "[encoded data removed]",
      "text/plain": [
       "<matplotlib.figure.Figure at 0x107c2bc18>"
      ]
     },
     "metadata": {},
     "output_type": "display_data"
    }
   ],
   "source": [
    "stellar_cont=logcube[6].data-logcube[7].data-logcube[8].data\n",
    "plt.plot(logcube[4].data,stellar_cont[:,20,20],lw=3, label='Stellar Continuum')\n",
    "plt.plot(logcube[4].data,logcube[6].data[:,20,20],lw=2, label='Model')\n",
    "plt.legend()\n",
    "#plt.xlim([5400,5600])\n",
    "plt.show()"
   ]
  },
  {
   "cell_type": "code",
   "execution_count": 8,
   "metadata": {
    "collapsed": false
   },
   "outputs": [
    {
     "name": "stdout",
     "output_type": "stream",
     "text": [
      "(4563,)\n"
     ]
    }
   ],
   "source": [
    "xs=logcube[4].data\n",
    "ys=logcube[1].data[:,20,20]\n",
    "noise=logcube[2].data[:,20,20]\n",
    "mask=logcube[3].data[:,20,20]\n",
    "\n",
    "print(shape(mask))\n"
   ]
  },
  {
   "cell_type": "code",
   "execution_count": 9,
   "metadata": {
    "collapsed": false
   },
   "outputs": [],
   "source": [
    "\n",
    "import sys \n",
    "\n",
    "sys.path.append('/usr/local/lib/python2.7/site-packages/ppxf')\n",
    "sys.path\n",
    "\n",
    "from __future__ import print_function\n",
    "\n",
    "from astropy.io import fits\n",
    "import numpy as np\n",
    "import glob\n",
    "from time import clock\n",
    "from os import path\n",
    "\n",
    "from ppxf import ppxf\n",
    "import ppxf_util as util\n",
    "plt.clf()"
   ]
  },
  {
   "cell_type": "code",
   "execution_count": 61,
   "metadata": {
    "collapsed": false
   },
   "outputs": [
    {
     "data": {
      "image/png": "[encoded data removed]",
      "text/plain": [
       "<matplotlib.figure.Figure at 0x130bcd4a8>"
      ]
     },
     "metadata": {},
     "output_type": "display_data"
    },
    {
     "name": "stdout",
     "output_type": "stream",
     "text": [
      "wavelengths [ 3621.59598486  3622.42998417  3623.26417553 ...,  7404.57267451\n",
      "  7406.27783668  7407.98339153]\n",
      "frac 1.00023028502 3622.42998417 3621.59598486\n",
      "<class 'numpy.ndarray'>\n",
      "velscale 69.0297644781\n"
     ]
    },
    {
     "name": "stderr",
     "output_type": "stream",
     "text": [
      "/Users/beckynevin/anaconda/lib/python3.6/site-packages/ipykernel/__main__.py:75: VisibleDeprecationWarning: using a non-integer number instead of an integer will result in an error in the future\n"
     ]
    },
    {
     "name": "stdout",
     "output_type": "stream",
     "text": [
      "must improve chi2 by:  72.6223106215\n",
      "input vel 21648.163\n",
      "Best Fit:       Vel     sigma        h3        h4\n",
      " comp. 0:     21010       101    -0.077     0.119\n",
      "chi2/DOF: 3.049\n",
      "Function evaluations: 111 Status: 1\n",
      "Nonzero Templates:  5  /  156\n",
      "Formal errors:\n",
      "     dV    dsigma   dh3      dh4\n",
      "      39      65    0.34    0.55\n",
      "Elapsed time in PPXF: 15.02 s\n"
     ]
    },
    {
     "data": {
      "image/png": "[encoded data removed]",
      "text/plain": [
       "<matplotlib.figure.Figure at 0x1311b40f0>"
      ]
     },
     "metadata": {},
     "output_type": "display_data"
    }
   ],
   "source": [
    "y=ppxf_miles(xs,ys,noise,mask,1,'no',0,'yes',-1,0,0,0, logcube[0].header['SCINPVEL'],  logcube[0].header['SCINPSIG'])"
   ]
  },
  {
   "cell_type": "code",
   "execution_count": 59,
   "metadata": {
    "collapsed": true
   },
   "outputs": [],
   "source": [
    "def ppxf_miles(t,flux,noise,mask,vr, plot, bs, conv, dg, regularization, redo_noise, last_chi,input_vel, input_sig ):\n",
    "\n",
    "    file_dir = '../ppxf'  # path of this procedure\n",
    "    c=2.99792458e5\n",
    "    input_z=np.exp( input_vel     /c)-1\n",
    "\n",
    "    if plot=='yes':\n",
    "        plt.plot(mask)\n",
    "        plt.show()\n",
    "        \n",
    "        \n",
    "        \n",
    "    '''step 1: Mask with the Manga Mask'''\n",
    "    #flux = ma.masked_array(flux, mask=mask)\n",
    "    #t = ma.masked_array(t, mask=mask)\n",
    "    #noise = ma.masked_array(noise, mask=mask)\n",
    "    #print('wavelengths 1', t)\n",
    "    #plt.plot(t, flux)\n",
    "    #plt.show()\n",
    "    '''step 2: Mask with the other mask to restrict wavelengths'''\n",
    "    mask_2 =  (t < 7409)#(t < 3540) &\n",
    "    \n",
    "    flux=flux[mask_2]\n",
    "    t=t[mask_2]\n",
    "    noise=noise[mask_2]\n",
    "    \n",
    "    plt.plot(t, flux)\n",
    "    plt.show()\n",
    "    \n",
    "    print('wavelengths',t)\n",
    "    \n",
    "    \n",
    "    var = 1/np.sqrt(noise)\n",
    "    var_scaled=var#/np.median(flux)\n",
    "    \n",
    "    if plot=='yes':\n",
    "        fig=plt.figure()\n",
    "        ax1=fig.add_subplot(2,1,1)\n",
    "        ax1.plot(var, label='Noise')\n",
    "        plt.legend()\n",
    "        ax2=fig.add_subplot(2,1,2)\n",
    "        ax2.plot(flux, label='flux')\n",
    "        plt.legend()\n",
    "        plt.show()\n",
    "    galaxy = flux#apparently we don't need the normalization\n",
    "    #/np.median(flux)   # Normalize spectrum to avoid numerical issues\n",
    "\n",
    "    \n",
    "    loglam_gal = np.log(t)\n",
    "    lam_gal = t\n",
    "    \n",
    "\n",
    "\n",
    "    if plot=='yes':\n",
    "        plt.plot(lam_gal, galaxy, label='Air')\n",
    "        \n",
    "        plt.legend()\n",
    "        plt.show()\n",
    "    \n",
    "    \n",
    "    if redo_noise == 0:\n",
    "        noise = var_scaled\n",
    "    else:\n",
    "        noise = var_scaled*np.sqrt(last_chi)\n",
    "\n",
    "    c = 299792.458                  # speed of light in km/s\n",
    "    frac = lam_gal[100]/lam_gal[99]    # Constant lambda fraction per pixel\n",
    "    \n",
    "    print('frac', frac, lam_gal[1], lam_gal[0])\n",
    "    dlam_gal = (frac - 1)*lam_gal   # Size of every pixel in Angstrom\n",
    "    #wdisp = t['wdisp'][mask]        # Intrinsic dispersion of every pixel, in pixels units\n",
    "    #print('wdisp',len(wdisp), 'lam_gal', len(lam_gal))\n",
    "    print(type(lam_gal))\n",
    "    xs=np.linspace(0,len(lam_gal)-1,len(lam_gal))\n",
    "    fwhm_gal = [(2.355*(lam_gal[x]))/2000 for x in xs] # Resolution FWHM of every pixel, in Angstroms\n",
    "    \n",
    "    #resolution is 2000\n",
    "    #\n",
    "    \n",
    "    if plot=='yes':\n",
    "        plt.plot(lam_gal, fwhm_gal)\n",
    "        plt.xlabel('Lambdas')\n",
    "        plt.ylabel('Interp FWHM')\n",
    "        plt.show()\n",
    "    \n",
    "    \n",
    "    velscale = np.log(frac)*c       # Constant velocity scale in km/s per pixel\n",
    "    print('velscale', velscale)\n",
    "    # If the galaxy is at a significant redshift (z > 0.03), one would need to apply\n",
    "    # a large velocity shift in PPXF to match the template to the galaxy spectrum.\n",
    "    # This would require a large initial value for the velocity (V > 1e4 km/s)\n",
    "    # in the input parameter START = [V,sig]. This can cause PPXF to stop!\n",
    "    # The solution consists of bringing the galaxy spectrum roughly to the\n",
    "    # rest-frame wavelength, before calling PPXF. In practice there is no\n",
    "    # need to modify the spectrum in any way, given that a red shift\n",
    "    # corresponds to a linear shift of the log-rebinned spectrum.\n",
    "    # One just needs to compute the wavelength range in the rest-frame\n",
    "    # and adjust the instrumental resolution of the galaxy observations.\n",
    "    # This is done with the following three commented lines:\n",
    "    #\n",
    "    #lam_gal = lam_gal/(1+z)  # Compute approximate restframe wavelength\n",
    "    #fwhm_gal = fwhm_gal/(1+z)   # Adjust resolution in Angstrom\n",
    "\n",
    "    # Read the list of filenames from the Single Stellar Population library\n",
    "    # by Vazdekis (2010, MNRAS, 404, 1639) http://miles.iac.es/. A subset\n",
    "    # of the library is included for this example with permission\n",
    " \n",
    "    \n",
    "    file_dir = glob.glob('../ppxf/miles_models/Mun*.fits')\n",
    "\n",
    "    \n",
    "\n",
    "    hdu = fits.open(file_dir[0])\n",
    "    ssp = hdu[0].data\n",
    "    h2 = hdu[0].header\n",
    "    \n",
    "    if plot=='yes':\n",
    "        plt.plot(ssp)\n",
    "        plt.title('Template')\n",
    "        plt.show()\n",
    "    \n",
    "    lam_temp = h2['CRVAL1'] + h2['CDELT1']*np.arange(h2['NAXIS1'])\n",
    "    lamRange_temp = [np.min(lam_temp), np.max(lam_temp)]\n",
    "    sspNew_1 = util.log_rebin(lamRange_temp, ssp, velscale=velscale/vr)[0]\n",
    "    templates = np.empty((sspNew_1.size, len(file_dir)))\n",
    "    \n",
    "    fwhm_tem = 2.5\n",
    "\n",
    "    # Interpolates the galaxy spectral resolution at the location of every pixel\n",
    "    # of the templates. Outside the range of the galaxy spectrum the resolution\n",
    "    # will be extrapolated, but this is irrelevant as those pixels cannot be\n",
    "    # used in the fit anyway.\n",
    "    fwhm_gal = np.interp(lam_temp, lam_gal, fwhm_gal)\n",
    "    \n",
    "    \n",
    "    #print('fwhm_gal', fwhm_gal)\n",
    "    # Convolve the whole Vazdekis library of spectral templates\n",
    "    # with the quadratic difference between the SDSS and the\n",
    "    # Vazdekis instrumental resolution. Logarithmically rebin\n",
    "    # and store each template as a column in the array TEMPLATES.\n",
    "\n",
    "    # Quadratic sigma difference in pixels Vazdekis --> SDSS\n",
    "    # The formula below is rigorously valid if the shapes of the\n",
    "    # instrumental spectral profiles are well approximated by Gaussians.\n",
    "    #\n",
    "    # In the line below, the fwhm_dif is set to zero when fwhm_gal < fwhm_tem.\n",
    "    # In principle it should never happen and a higher resolution template should be used.\n",
    "    #\n",
    "    fwhm_dif = np.sqrt((fwhm_gal**2 - fwhm_tem**2).clip(0))\n",
    "    sigma = fwhm_dif/2.355/h2['CDELT1'] # Sigma difference in pixels\n",
    "\n",
    "    for j, fname in enumerate(file_dir):\n",
    "        hdu = fits.open(fname)\n",
    "        ssp = hdu[0].data\n",
    "        if conv=='yes':\n",
    "            ssp = util.gaussian_filter1d(ssp, sigma)  # perform convolution with variable sigma\n",
    "        sspNew = util.log_rebin(lamRange_temp, ssp, velscale=velscale/vr)[0]\n",
    "        templates[:, j] = sspNew/np.median(sspNew) # Normalizes templates\n",
    "    if plot=='yes':\n",
    "        fig=plt.figure()\n",
    "        ax1=fig.add_subplot(211)\n",
    "        ax1.plot(lam_gal, galaxy, label='Gal')\n",
    "        ax1.set_xlim([5850,5950])\n",
    "        ax1.set_ylim([0.5,2.0])\n",
    "        ax2=fig.add_subplot(212)\n",
    "        ax2.plot(lam_temp, ssp, label='Template')\n",
    "        ax2.set_xlim([5850,5950])\n",
    "        plt.legend()\n",
    "        plt.show()\n",
    "    # The galaxy and the template spectra do not have the same starting wavelength.\n",
    "    # For this reason an extra velocity shift DV has to be applied to the template\n",
    "    # to fit the galaxy spectrum. We remove this artificial shift by using the\n",
    "    # keyword VSYST in the call to PPXF below, so that all velocities are\n",
    "    # measured with respect to DV. This assume the redshift is negligible.\n",
    "    # In the case of a high-redshift galaxy one should de-redshift its\n",
    "    # wavelength to the rest frame before using the line below (see above).\n",
    "    #\n",
    "    c = 299792.458\n",
    "    dv = np.log(lam_temp[0]/lam_gal[0])*c    # km/s\n",
    "    \n",
    "    #z=0\n",
    "    '''goodpix also have to be adjusted for the redshift'''\n",
    "    goodpixels = util.determine_goodpixels(np.log(lam_gal), lamRange_temp, input_z)\n",
    "    print('must improve chi2 by: ', np.sqrt(2*len(goodpixels)))\n",
    "\n",
    "    # Here the actual fit starts. The best fit is plotted on the screen.\n",
    "    # Gas emission lines are excluded from the pPXF fit using the GOODPIXELS keyword.\n",
    "    #\n",
    "    vel = c*np.log(1 + input_z)   # Initial estimate of the galaxy velocity in km/s\n",
    "    print('input vel', vel)\n",
    "    start = [vel, input_sig]  # (km/s), starting guess for [V, sigma]\n",
    "    #start = [0,200]\n",
    "    t = clock()\n",
    "\n",
    "    pp = ppxf(templates, galaxy, noise, velscale, start,\n",
    "              goodpixels=goodpixels, bias=bs, plot=True, moments=4,\n",
    "              degree=dg, vsyst=dv, velscale_ratio=vr, regul=regularization)#was degree=12\n",
    "\n",
    "    print(\"Formal errors:\")\n",
    "    print(\"     dV    dsigma   dh3      dh4\")\n",
    "    print(\"\".join(\"%8.2g\" % f for f in pp.error*np.sqrt(pp.chi2)))\n",
    "\n",
    "    print('Elapsed time in PPXF: %.2f s' % (clock() - t))\n",
    "\n",
    "    # If the galaxy is at significant redshift z and the wavelength has been\n",
    "    # de-redshifted with the three lines \"z = 1.23...\" near the beginning of\n",
    "    # this procedure, the best-fitting redshift is now given by the following\n",
    "    # commented line (equation 2 of Cappellari et al. 2009, ApJ, 704, L34):\n",
    "    #\n",
    "    #print, 'Best-fitting redshift z:', (z + 1)*(1 + sol[0]/c) - 1\n",
    "\n",
    "#------------------------------------------------------------------------------\n",
    "    #plt.xlim([1800,2200])\n",
    "    #plt.ylim([0,2])\n",
    "    plt.show()\n",
    "    return lam_gal, galaxy, pp.error[0], pp.chi2\n",
    "\n",
    "\n"
   ]
  },
  {
   "cell_type": "code",
   "execution_count": null,
   "metadata": {
    "collapsed": true
   },
   "outputs": [],
   "source": []
  }
 ],
 "metadata": {
  "kernelspec": {
   "display_name": "Python 3",
   "language": "python",
   "name": "python3"
  },
  "language_info": {
   "codemirror_mode": {
    "name": "ipython",
    "version": 3
   },
   "file_extension": ".py",
   "mimetype": "text/x-python",
   "name": "python",
   "nbconvert_exporter": "python",
   "pygments_lexer": "ipython3",
   "version": "3.6.0"
  }
 },
 "nbformat": 4,
 "nbformat_minor": 2
}
