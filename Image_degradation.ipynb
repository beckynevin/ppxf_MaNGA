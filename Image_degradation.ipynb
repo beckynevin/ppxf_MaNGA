{
 "cells": [
  {
   "cell_type": "markdown",
   "metadata": {},
   "source": [
    "This is the overall code to:\n",
    "    1) Take the broadband r image, convert to nanomaggies and AB mags\n",
    "    2) Add in background\n",
    "    3) Produce an error image according to Poisson statistics (+ background + readnoise)\n",
    "    4) Produce an error spectrum according to the same statistics (at each wavelength)\n",
    "    5) Prepare to entre into ppxf according to the MaNGA specs"
   ]
  },
  {
   "cell_type": "raw",
   "metadata": {},
   "source": [
    "~~~~LAURA'S NOTES~~~~\n",
    "\n",
    "I've made SDSS images at z=0.03 for two different merger simulations, for 8 snapshots in each simulation spread throughout the merger. Each snapshot has Sunrise data for 7 isotropically-distributed viewing angles (labeled 'camera[0-6]').\n",
    "\n",
    "A file broadband_[xxx].fits is generated for each snapshot (designated by snapshot number). It contains a lot of hdu's with data about the simulation setup, but the main one's you'll be interested in are:\n",
    "\n",
    "'FILTERS', which contains total magnitudes and luminosities (integrated over the whole image) for each filter and viewing angle. \n",
    "\n",
    "'CAMERA[N]-BROADBAND', which are data cubes of dimension [300 pixels] x [300 pixels] x [5 sdss filters]  and contain the actual images\n",
    "\n",
    "'CAMERA[N]-BROADBAND-NONSCATTER', which are the same as above, but for the emission *without* any scattering or attenuation by dust. \n",
    "\n",
    "The simulation q0.5_fg0.3_allrx10 is a mass ratio 0.5 merger with an initial gas fraction of 0.3, and both galaxies are initially bulgeless disks. The simulation q0.5_fg0.3_BT0.2_allrx10 is a very similar setup, but with a stellar bulge in each progenitor galaxy with a bulge-to-total mass ratio of 0.2. The BH merger happens at ~ snapshot 210 in the first simulation, and ~ snapshot 220 in the second. \n",
    "\n",
    "Finally, I'm including one file from the first simulation with the full IFU data cubes so you can see the data format and start playing around with it if you like. The file is named 'mcrx_200.fits' (mcrx is shorthand for 'monte carlo radiative transfer'). This is the output of the radiative transfer calculation, with full SEDs for each pixel and each camera angle. These 'mcrx' files are what is processed by the code to produce the 'broadband' files with the broadband images. The most relevant HDU's in this file will be 'CAMERA[N]', 'CAMERA[N]-NONSCATTER', which are named similarly as the broadband HDUs, but here they are 300 x 300 x n_wavelengths arrays (these runs have about 1000 wavelengths over the UV-IR range). There are also 'CAMERA[N]-IR' HDUs, which are data cubes that include the dust re-emission in the IR, but this doesn't really matter since you're only looking at the optical. "
   ]
  },
  {
   "cell_type": "code",
   "execution_count": 5,
   "metadata": {
    "collapsed": true
   },
   "outputs": [],
   "source": [
    "import pyfits\n",
    "import matplotlib.pyplot as plt\n",
    "\n",
    "import heapq\n",
    "import pyfits\n",
    "import matplotlib as plt\n",
    "from pylab import *\n",
    "import numpy as np\n",
    "from decimal import *\n",
    "import numpy\n",
    "from scipy.optimize import curve_fit\n",
    "from scipy.integrate import quad\n",
    "import matplotlib.pyplot as plt\n",
    "from astropy.modeling import models, fitting\n",
    "from pylab import *\n",
    "from scipy import stats\n",
    "from scipy.stats import chisquare\n",
    "import matplotlib.patches as patches\n",
    "from astropy.io import fits\n",
    "\n",
    "\n",
    "from astropy.cosmology import WMAP9 as cosmo\n",
    "\n",
    "import pyfits\n",
    "import matplotlib.pyplot as plt\n",
    "\n",
    "import heapq\n",
    "import pyfits\n",
    "import matplotlib as plt\n",
    "from pylab import *\n",
    "import numpy as np\n",
    "from decimal import *\n",
    "import numpy\n",
    "from scipy.optimize import curve_fit\n",
    "from scipy.integrate import quad\n",
    "import matplotlib.pyplot as plt\n",
    "from astropy.modeling import models, fitting\n",
    "from pylab import *\n",
    "from scipy import stats\n",
    "from scipy.stats import chisquare\n",
    "import matplotlib.patches as patches\n",
    "\n",
    "import sys \n",
    "\n",
    "sys.path.append('/usr/local/lib/python2.7/site-packages/ppxf')\n",
    "sys.path\n",
    "\n",
    "from __future__ import print_function\n",
    "\n",
    "from astropy.io import fits\n",
    "import numpy as np\n",
    "import glob\n",
    "from time import clock\n",
    "from os import path\n",
    "\n",
    "from ppxf import ppxf\n",
    "import ppxf_util as util\n",
    "plt.clf()\n",
    "\n",
    "\n"
   ]
  },
  {
   "cell_type": "code",
   "execution_count": 6,
   "metadata": {
    "collapsed": false
   },
   "outputs": [],
   "source": [
    "'''This code block reads in the broadband images and then will open the broadband extension,\n",
    "...\n",
    "'''\n",
    "a=pyfits.open('q0.5_fg0.3_allrx10/broadband_200.fits')\n",
    "\n",
    "\n",
    "#So the shape of thie CAMERA(#)-BROADBAND is 5x300x300 where each \n",
    "#of the first dimension is the SDSS filter (ugriz) [we want 2]\n",
    "\n",
    "'''Next try to extract the broadband filters'''\n",
    "''''CAMERA[N]-BROADBAND', which are data cubes of dimension \n",
    "[300 pixels] x [300 pixels] x [5 sdss filters]  and contain \n",
    "the actual images\n",
    "Units are surface brightness in units of: \n",
    "IMUNIT  = 'W/m/m^2/sr'         / Pixel quantity is surface brightness           \n",
    "UNITCONV= 9.45238524920703E-35 / [m^2/(kpc^2)]\n",
    "\n",
    "Spatially, each pixel is 0.5 kpc for the early stage and 0.1666 kpc for the late stage'''\n",
    "\n",
    "plt.clf()\n",
    "\n",
    "camera_data = a['CAMERA0-BROADBAND'].data\n",
    "camera_header = a['CAMERA0-BROADBAND'].header\n",
    "\n",
    "\n",
    "\n",
    "xs = np.linspace(0,shape(camera_data[0])[0]-1,shape(camera_data[0])[0])\n",
    "xs_kpc = [0.1666*x for x in xs]\n",
    "\n",
    "'''First make a plot of all the different filters side by side'''\n",
    "fig=plt.figure()\n",
    "ax0=fig.add_subplot(1,5,1)\n",
    "ax0.imshow(camera_data[0], vmin=0, vmax=15)\n",
    "ax0.set_title('u band')\n",
    "plt.axis('off')\n",
    "\n",
    "ax1=fig.add_subplot(1,5,2)\n",
    "ax1.imshow(camera_data[1], vmin=0, vmax=15)\n",
    "ax1.set_title('g band')\n",
    "plt.axis('off')\n",
    "\n",
    "ax2=fig.add_subplot(1,5,3)\n",
    "ax2.imshow(camera_data[2], vmin=0, vmax=15)\n",
    "ax2.set_title('r band')\n",
    "plt.axis('off')\n",
    "\n",
    "ax3=fig.add_subplot(1,5,4)\n",
    "im3=ax3.imshow(camera_data[3], vmin=0, vmax=15)\n",
    "ax3.set_title('i band')\n",
    "#plt.colorbar(im3, orientation='horizontal')\n",
    "plt.axis('off')\n",
    "\n",
    "ax4=fig.add_subplot(1,5,5)\n",
    "ax4.imshow(camera_data[4], vmin=0, vmax=15)\n",
    "ax4.set_title('z band')\n",
    "plt.axis('off')\n",
    "savefig('../MaNGA_papers/Paper_I/all_filters.pdf')\n",
    "\n",
    "\n"
   ]
  },
  {
   "cell_type": "code",
   "execution_count": 70,
   "metadata": {
    "collapsed": false
   },
   "outputs": [
    {
     "name": "stdout",
     "output_type": "stream",
     "text": [
      "Angluar-diameter distance to z=0.03 is 125146.00822706954 kpc\n",
      "Comoving distance to z=0.03 is 128900.38847388163 kpc\n",
      "Luminosity distance to z=0.03 is 132767.4001280981 kpc\n"
     ]
    },
    {
     "name": "stderr",
     "output_type": "stream",
     "text": [
      "WARNING: AstropyDeprecationWarning: \"clobber\" was deprecated in version 1.3 and will be removed in a future version. Use argument \"overwrite\" instead. [astropy.utils.decorators]\n"
     ]
    }
   ],
   "source": [
    "'''Now I have to convert the units of LAURAS sims into nanomaggies and AB mags (mags of DR7 and DR13)\n",
    "'''\n",
    "#first, go from specific intensity (because we have per steradian) to \n",
    "#janskies (W/Hz/m^2)\n",
    "c = 299792.458*1000#to get into m/s\n",
    "\n",
    "#this 1.35e-6 comes from the arcsin(R_sky/Distance to object)\n",
    "#the answer needs to be in radians\n",
    "\n",
    "#J=10^-26 W/m^2/Hz, so units of flux density\n",
    "#reference site: http://www.cv.nrao.edu/course/astr534/Brightness.html\n",
    "#We need to go from a spectral brightness (I_nu) which is in m units\n",
    "#To a flux density (S_nu) which is in units of Janskies (W/m^2/Hz)\n",
    "\n",
    "#So you need to multiply the Fν by c / λ^2 to convert it into Fλ. \n",
    "#But we are not done yet! Recalling from above, the units of Fλ \n",
    "#are not an energy density. You need to get another factor of λ \n",
    "#in there to make the units work out to be energy density: \n",
    "#calculate λFλ to get units of ergs/s/cm^2.\n",
    "\n",
    "#1.35e-6 comes from: sin^-1(pixelscale=0.166666#kpc/pix/ comoving distance in kpc)\n",
    "pixelscale=0.166666#kpc/pix/\n",
    "d_a = cosmo.angular_diameter_distance(0.03).value#, **fidcosmo)\n",
    "d_co = cosmo.comoving_distance(0.03).value\n",
    "d_lum = cosmo.luminosity_distance(0.03).value \n",
    "print(\"Angluar-diameter distance to z=0.03 is\", 1000*(d_a), 'kpc')\n",
    "print(\"Comoving distance to z=0.03 is\", 1000*((d_co)), 'kpc')\n",
    "print(\"Luminosity distance to z=0.03 is\", 1000*((d_lum)), 'kpc')\n",
    "\n",
    "\n",
    "\n",
    "#here's a good review of all the different distances\n",
    "#http://www.astro.ufl.edu/~guzman/ast7939/projects/project01.html\n",
    "\n",
    "\n",
    "Janskies=np.array(10**(26)*camera_data[2]*(pixelscale/(1000*d_lum))**2*np.pi*((6185.2*10**(-10))**2/c), dtype='>f4')\n",
    "#A Jansky is 10−26 watts per square metre per hertz.\n",
    "\n",
    "\n",
    "\n",
    "nanomaggy=Janskies/(3.631*10**(-6))\n",
    "\n",
    "\n",
    "\n",
    "\n",
    "plt.imshow(np.flipud(nanomaggy),vmin=0, vmax=2)\n",
    "plt.ylabel(r'kpc [0.1666/pix]')\n",
    "plt.xlabel(r'kpc [0.1666/pix]')\n",
    "cb1=plt.colorbar()\n",
    "cb1.set_label('r-band Flux Density [nanomaggies]')\n",
    "savefig('pyplots_q0.5_fg0.3_allrx10/200_CAMERA0_2_nanomaggy.pdf')\n",
    "\n",
    "'''Now convert into the correct background:)'''\n",
    "\n",
    "#nanomaggies and stuff: (Finkbeiner et al. 2004)\n",
    "\n",
    "'''The average background and std as well as the readnoise and gain\n",
    "are from another code of mine:\n",
    "    SDSS_noise_imaging/SDSS_r_imaging.ipynb'''\n",
    "    \n",
    "\n",
    "sky_resids_mine=np.random.normal(0.01955593,0.0042225,shape(nanomaggy))\n",
    "poisson_plus = np.sqrt((np.flipud(nanomaggy)+ 0.004701377)/1367.29546)+sky_resids_mine\n",
    "poisson_plus_nanomags = poisson_plus*1367.29546\n",
    "fig=plt.figure()\n",
    "ax0=fig.add_subplot(1,2,1)\n",
    "\n",
    "im0=ax0.imshow(np.flipud(nanomaggy), vmin=0, vmax=5)\n",
    "ax0.set_title(r'Before')\n",
    "plt.colorbar(im0,label=r'Flux [Nanomaggies]', orientation='horizontal')\n",
    "\n",
    "ax1=fig.add_subplot(1,2,2)\n",
    "\n",
    "\n",
    "im1=ax1.imshow(np.flipud(nanomaggy)+1367.29546*sky_resids_mine**2, vmin=0, vmax=5)\n",
    "ax1.set_title(r'After')\n",
    "plt.colorbar(im1,label=r'Flux [Nanomaggies]', orientation='horizontal')\n",
    "plt.tight_layout()\n",
    "savefig('../MaNGA_papers/Paper_I/background_added.pdf')\n",
    "\n",
    "\n",
    "fig=plt.figure()\n",
    "ax1=fig.add_subplot(1,1,1)\n",
    "\n",
    "\n",
    "im1=ax1.imshow(poisson_plus, vmin=0, vmax=0.1)\n",
    "ax1.set_title(r'Error Image')\n",
    "plt.colorbar(im1,label=r'Flux [Counts]', orientation='vertical')\n",
    "plt.tight_layout()\n",
    "savefig('../MaNGA_papers/Paper_I/error_fake.pdf')\n",
    "\n",
    "\n",
    "mag=22.5-2.5*np.log10(nanomaggy)\n",
    "\n",
    "fig=plt.figure()\n",
    "ax1=fig.add_subplot(1,1,1)\n",
    "\n",
    "\n",
    "im1=ax1.imshow(np.flipud(mag), cmap='afmhot_r', vmin=0, vmax=40)\n",
    "#ax1.set_title(r'Magnitude Image')\n",
    "cb1=plt.colorbar(im1,label=r'Flux [m$_{\\mathrm{AB}}$]', orientation='vertical')\n",
    "\n",
    "cb1.ax.invert_yaxis()\n",
    "plt.tight_layout()\n",
    "savefig('../MaNGA_papers/Paper_I/magnitude.pdf')\n",
    "\n",
    "\n",
    "'''write it out so that GALFIT can use it'''\n",
    "outfile = 'q0.5_fg0.3_allrx10/test_out.fits'\n",
    "\n",
    "hdu = fits.PrimaryHDU(np.flipud(nanomaggy)+1367.29546*sky_resids_mine**2)\n",
    "hdu.writeto(outfile, clobber=True)\n",
    "\n",
    "outfile = 'q0.5_fg0.3_allrx10/test_out_error.fits'\n",
    "\n",
    "hdu = fits.PrimaryHDU(poisson_plus)\n",
    "hdu.writeto(outfile, clobber=True)\n",
    "\n"
   ]
  },
  {
   "cell_type": "code",
   "execution_count": 92,
   "metadata": {
    "collapsed": false
   },
   "outputs": [
    {
     "name": "stdout",
     "output_type": "stream",
     "text": [
      "kernel 2.488741675955623\n"
     ]
    },
    {
     "data": {
      "image/png": "[encoded data removed]",
      "text/plain": [
       "<matplotlib.figure.Figure at 0x121716f60>"
      ]
     },
     "metadata": {},
     "output_type": "display_data"
    },
    {
     "data": {
      "image/png": "[encoded data removed]",
      "text/plain": [
       "<matplotlib.figure.Figure at 0x12044c898>"
      ]
     },
     "metadata": {},
     "output_type": "display_data"
    },
    {
     "name": "stderr",
     "output_type": "stream",
     "text": [
      "WARNING: AstropyDeprecationWarning: \"clobber\" was deprecated in version 1.3 and will be removed in a future version. Use argument \"overwrite\" instead. [astropy.utils.decorators]\n"
     ]
    }
   ],
   "source": [
    "'''Now, I need to convolve them with the Gaussian Kernel that represents the size of the PSF'''\n",
    "#PSF = 1.61 arcsec\n",
    "plt.clf()\n",
    "\n",
    "from astropy.convolution import convolve, convolve_fft\n",
    "import matplotlib.pyplot as plt\n",
    "from astropy.convolution import Gaussian2DKernel\n",
    "from astropy.convolution import Gaussian1DKernel\n",
    "from astropy.convolution import convolve\n",
    "\n",
    "kpc_arcmin=cosmo.kpc_proper_per_arcmin(0.03)#insert the redshift to get the kpc/arcmin scaling\n",
    "\n",
    "sigma=1.61/2.355#apparently the preimage sigma is not large :)\n",
    "##kpc/pix is the pixelscale\n",
    "##conversion factor is kpc/\"\n",
    "#1.61 is the FWHM in arcsec of the psf\n",
    "#pixelscale is kpc/pix\n",
    "kernel_sigma_pix=(sigma*(kpc_arcmin.value/60))/pixelscale\n",
    "print('kernel', kernel_sigma_pix)\n",
    "\n",
    "gaussian_2D_kernel = Gaussian2DKernel(kernel_sigma_pix)#standard deviation in pixels\n",
    "\n",
    "\n",
    "\n",
    "#result = convolve(np.sum(CAMERA0.data[:,:,:],axis=0), gaussian_2D_kernel)\n",
    "result = convolve(np.flipud(nanomaggy)+1367.29546*sky_resids_mine**2, gaussian_2D_kernel)\n",
    "result_error = convolve((poisson_plus_nanomags), gaussian_2D_kernel)\n",
    "#result_2 = convolve_fft(np.sum(CAMERA0.data[:,:,:],axis=0), gaussian_2D_kernel)\n",
    "result_counts = convolve((np.flipud(nanomaggy)+1367.29546*sky_resids_mine**2), gaussian_2D_kernel)\n",
    "result_counts_error = convolve((poisson_plus), gaussian_2D_kernel)\n",
    "#poisson plus is the error on counts\n",
    "plt.imshow(result)\n",
    "plt.show()\n",
    "plt.imshow(result_error)\n",
    "plt.show()\n",
    "\n",
    "\n",
    "fig=plt.figure()\n",
    "\n",
    "ax3=fig.add_subplot(1,3,1)\n",
    "im3=ax3.imshow((nanomaggy), vmin=0, vmax=5, cmap='viridis_r',interpolation='none',origin='lower')\n",
    "ax3.set_title(r'')\n",
    "plt.colorbar(im3, orientation='horizontal')\n",
    "plt.axis('off')\n",
    "\n",
    "ax0=fig.add_subplot(1,3,2)\n",
    "\n",
    "\n",
    "\n",
    "im0=ax0.imshow((nanomaggy)+1367.29546*sky_resids_mine**2, vmin=0, vmax=5, cmap='viridis_r',interpolation='none',origin='lower')\n",
    "ax0.set_title(r'Background Added')\n",
    "plt.colorbar(im0,label=r'Flux [Nanomaggies]', orientation='horizontal')\n",
    "plt.axis('off')\n",
    "ax1=fig.add_subplot(1,3,3)\n",
    "\n",
    "\n",
    "im1=ax1.imshow(np.flipud(result), vmin=0, vmax=5, cmap='viridis_r',interpolation='none',origin='lower')\n",
    "ax1.set_title(r'PSF Applied')\n",
    "plt.colorbar(im1, orientation='horizontal')\n",
    "#plt.tight_layout()\n",
    "plt.axis('off')\n",
    "savefig('../MaNGA_papers/Paper_I/background_added_convolved.pdf')\n",
    "\n",
    "\n",
    "outfile = 'out_convolved.fits'\n",
    "hdu = fits.PrimaryHDU(result)\n",
    "hdu.writeto(outfile, clobber=True)\n",
    "\n",
    "outfile = 'out_sigma_convolved.fits'\n",
    "hdu = fits.PrimaryHDU(result_error)\n",
    "hdu.writeto(outfile, clobber=True)"
   ]
  },
  {
   "cell_type": "raw",
   "metadata": {},
   "source": [
    "What do you actually feed into the GALFIT code?\n"
   ]
  },
  {
   "cell_type": "code",
   "execution_count": 93,
   "metadata": {
    "collapsed": false
   },
   "outputs": [
    {
     "data": {
      "text/plain": [
       "0"
      ]
     },
     "execution_count": 93,
     "metadata": {},
     "output_type": "execute_result"
    }
   ],
   "source": [
    "import subprocess\n",
    "#subprocess.call(\"cd GALFIT_folder/\", shell=True)\n",
    "subprocess.call(\"galfit galfit.feedme\", shell=True)\n",
    "\n"
   ]
  },
  {
   "cell_type": "code",
   "execution_count": 94,
   "metadata": {
    "collapsed": false
   },
   "outputs": [
    {
     "name": "stdout",
     "output_type": "stream",
     "text": [
      "Effective Radius in pixels 56.4946 +/- 1.0401\n"
     ]
    },
    {
     "data": {
      "text/plain": [
       "<matplotlib.figure.Figure at 0x11f1ade10>"
      ]
     },
     "metadata": {},
     "output_type": "display_data"
    },
    {
     "data": {
      "image/png": "[encoded data removed]",
      "text/plain": [
       "<matplotlib.figure.Figure at 0x120579358>"
      ]
     },
     "metadata": {},
     "output_type": "display_data"
    }
   ],
   "source": [
    "'''Now open the galfit result and get the effective radius '''\n",
    "\n",
    "plt.clf()\n",
    "output='imgblock_convolved.fits'\n",
    "out=pyfits.open(output)\n",
    "#2 is model\n",
    "#3 is residual map\n",
    "\n",
    "print('Effective Radius in pixels',out[2].header['1_RE'])\n",
    "#also, galfit.xx is the final output\n",
    "#fit.log has the chi squared values and stuff\n",
    "\n",
    "fig=plt.figure()\n",
    "\n",
    "plt.imshow(out[2].data)\n",
    "plt.show()\n",
    "\n",
    "\n",
    "galfit_input=out[1].data\n",
    "galfit_model=out[2].data\n",
    "galfit_resid=out[3].data\n",
    "fig=plt.figure()\n",
    "\n",
    "ax1 = fig.add_subplot(131, aspect='equal')\n",
    "ax1.set_title('Data')\n",
    "\n",
    "pixelscale=0.166666#kpc/pix\n",
    "#spacing=((kpc_arcmin.value/60))/pixelscale\n",
    "#axis is 100x100 pixels\n",
    "ticklocs=[0,25,50,75,100]\n",
    "\n",
    "v = np.linspace(0, 0.01, 2, endpoint=True)\n",
    "\n",
    "kpc=[round(pixelscale*(x-50),1) for x in ticklocs]\n",
    "\n",
    "im1=ax1.imshow(galfit_input[75:175,150:250], cmap='viridis_r', vmin=0, vmax=7)\n",
    "ax1.set_xticks(ticklocs)\n",
    "ax1.set_xticklabels(kpc)\n",
    "ax1.set_yticks(ticklocs)\n",
    "ax1.set_yticklabels(kpc)\n",
    "plt.colorbar(im1, orientation='horizontal')\n",
    "\n",
    "\n",
    "ax2 = fig.add_subplot(132, aspect='equal')\n",
    "ax2.set_title('Galfit Model')\n",
    "im2=ax2.imshow(galfit_model[75:175,150:250], cmap='viridis_r', vmin=0, vmax=7)\n",
    "ax2.set_xticks(ticklocs)\n",
    "ax2.set_xticklabels(kpc)\n",
    "ax2.set_yticks(ticklocs)\n",
    "ax2.set_yticklabels(kpc)\n",
    "plt.colorbar(im2, orientation='horizontal', label=r'Flux [nanomaggies]')\n",
    "\n",
    "\n",
    "ax3 = fig.add_subplot(133, aspect='equal')\n",
    "ax3.set_title('Residuals')\n",
    "im3=ax3.imshow(galfit_resid[75:175,150:250], cmap='viridis_r', vmin=-1, vmax=1)\n",
    "v=np.linspace(-1,1,3)\n",
    "ax3.set_xticks(ticklocs)\n",
    "ax3.set_xticklabels(kpc)\n",
    "ax3.set_yticks(ticklocs)\n",
    "ax3.set_yticklabels(kpc)\n",
    "plt.colorbar(im3, orientation='horizontal', ticks=v)\n",
    "plt.tight_layout()\n",
    "savefig('../MaNGA_papers/Paper_I/Galfit_ex.pdf')\n"
   ]
  },
  {
   "cell_type": "code",
   "execution_count": 34,
   "metadata": {
    "collapsed": false
   },
   "outputs": [],
   "source": [
    "'''Nice, now its time to think about convolving the spectrum itself'''"
   ]
  },
  {
   "cell_type": "code",
   "execution_count": null,
   "metadata": {
    "collapsed": true
   },
   "outputs": [],
   "source": []
  }
 ],
 "metadata": {
  "kernelspec": {
   "display_name": "Python 3",
   "language": "python",
   "name": "python3"
  },
  "language_info": {
   "codemirror_mode": {
    "name": "ipython",
    "version": 3
   },
   "file_extension": ".py",
   "mimetype": "text/x-python",
   "name": "python",
   "nbconvert_exporter": "python",
   "pygments_lexer": "ipython3",
   "version": "3.6.0"
  }
 },
 "nbformat": 4,
 "nbformat_minor": 2
}
