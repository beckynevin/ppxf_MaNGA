{
 "cells": [
  {
   "cell_type": "raw",
   "metadata": {},
   "source": [
    "I've made SDSS images at z=0.03 for two different merger simulations, for 8 snapshots in each simulation spread throughout the merger. Each snapshot has Sunrise data for 7 isotropically-distributed viewing angles (labeled 'camera[0-6]').\n",
    "\n",
    "A file broadband_[xxx].fits is generated for each snapshot (designated by snapshot number). It contains a lot of hdu's with data about the simulation setup, but the main one's you'll be interested in are:\n",
    "\n",
    "'FILTERS', which contains total magnitudes and luminosities (integrated over the whole image) for each filter and viewing angle. \n",
    "\n",
    "'CAMERA[N]-BROADBAND', which are data cubes of dimension [300 pixels] x [300 pixels] x [5 sdss filters]  and contain the actual images\n",
    "\n",
    "'CAMERA[N]-BROADBAND-NONSCATTER', which are the same as above, but for the emission *without* any scattering or attenuation by dust. \n",
    "\n",
    "The simulation q0.5_fg0.3_allrx10 is a mass ratio 0.5 merger with an initial gas fraction of 0.3, and both galaxies are initially bulgeless disks. The simulation q0.5_fg0.3_BT0.2_allrx10 is a very similar setup, but with a stellar bulge in each progenitor galaxy with a bulge-to-total mass ratio of 0.2. The BH merger happens at ~ snapshot 210 in the first simulation, and ~ snapshot 220 in the second. \n",
    "\n",
    "Finally, I'm including one file from the first simulation with the full IFU data cubes so you can see the data format and start playing around with it if you like. The file is named 'mcrx_200.fits' (mcrx is shorthand for 'monte carlo radiative transfer'). This is the output of the radiative transfer calculation, with full SEDs for each pixel and each camera angle. These 'mcrx' files are what is processed by the code to produce the 'broadband' files with the broadband images. The most relevant HDU's in this file will be 'CAMERA[N]', 'CAMERA[N]-NONSCATTER', which are named similarly as the broadband HDUs, but here they are 300 x 300 x n_wavelengths arrays (these runs have about 1000 wavelengths over the UV-IR range). There are also 'CAMERA[N]-IR' HDUs, which are data cubes that include the dust re-emission in the IR, but this doesn't really matter since you're only looking at the optical. "
   ]
  },
  {
   "cell_type": "code",
   "execution_count": 2,
   "metadata": {
    "collapsed": false
   },
   "outputs": [],
   "source": [
    "import pyfits\n",
    "import matplotlib.pyplot as plt\n",
    "\n",
    "import heapq\n",
    "import pyfits\n",
    "import matplotlib as plt\n",
    "from pylab import *\n",
    "import numpy as np\n",
    "from decimal import *\n",
    "import numpy\n",
    "from scipy.optimize import curve_fit\n",
    "from scipy.integrate import quad\n",
    "import matplotlib.pyplot as plt\n",
    "from astropy.modeling import models, fitting\n",
    "from pylab import *\n",
    "from scipy import stats\n",
    "from scipy.stats import chisquare\n",
    "import matplotlib.patches as patches\n",
    "from astropy.io import fits\n",
    "\n",
    "\n",
    "from astropy.cosmology import WMAP9 as cosmo\n",
    "\n",
    "import pyfits\n",
    "import matplotlib.pyplot as plt\n",
    "\n",
    "import heapq\n",
    "import pyfits\n",
    "import matplotlib as plt\n",
    "from pylab import *\n",
    "import numpy as np\n",
    "from decimal import *\n",
    "import numpy\n",
    "from scipy.optimize import curve_fit\n",
    "from scipy.integrate import quad\n",
    "import matplotlib.pyplot as plt\n",
    "from astropy.modeling import models, fitting\n",
    "from pylab import *\n",
    "from scipy import stats\n",
    "from scipy.stats import chisquare\n",
    "import matplotlib.patches as patches\n",
    "\n",
    "import sys \n",
    "\n",
    "sys.path.append('/usr/local/lib/python2.7/site-packages/ppxf')\n",
    "sys.path\n",
    "\n",
    "from __future__ import print_function\n",
    "\n",
    "from astropy.io import fits\n",
    "import numpy as np\n",
    "import glob\n",
    "from time import clock\n",
    "from os import path\n",
    "\n",
    "from ppxf import ppxf\n",
    "import ppxf_util as util\n",
    "plt.clf()\n",
    "\n",
    "\n"
   ]
  },
  {
   "cell_type": "code",
   "execution_count": 3,
   "metadata": {
    "collapsed": false
   },
   "outputs": [
    {
     "name": "stdout",
     "output_type": "stream",
     "text": [
      "SIMPLE  =                    T / file does conform to FITS standard             BITPIX  =                    8 / number of bits per data pixel                  NAXIS   =                    0 / number of data axes                            EXTEND  =                    T / FITS dataset may contain extensions            COMMENT   FITS (Flexible Image Transport System) format is defined in 'AstronomyCOMMENT   and Astrophysics', volume 376, page 359; bibcode: 2001A&A...376..359H FILETYPE= 'BROADBAND'          / File contains broadband colors                 DATATYPE= 'GRID    '           / Data is on a grid                              NOBJECT =                    2 / Number of objects contained in this snapshot   SFRCODE = 'SFRHIST '           / See HDU SFRHIST for SFR history calculation setNBODYCOD= 'GADGET  '           / See HDU GADGET for nbody code setup            L-INDEP = 'LAMBDA  '           / See HDU LAMBDA for SED wavelengths             OBJECT  = 'GALAXY  '           / This snapshot contains an isolated object      HIERARCH TRANSFERCODE = 'MCRX    ' / See HDU MCRX for radiative transfer setup  HIERARCH MCRX_INIT =         T / Initialization stage complete                  MCRXNONS=                    T                                                  MCRXSCAT=                    T                                                  MCRXAUXG=                    T                                                  MCRXAUXP=                    T                                                  MCRXIRIN=                    T                                                  MCRXIR  =                    T                                                  MCRX_PP1=                    T / Postprocessing stage 1 complete                HIERARCH FILTERCODE = 'BROADBAND' / See HDU BROADBAND for filter setup          HIERARCH BROADBAND_COMPLETE = T / Broadband calculation completed.              END                                                                                                                                                                                                                                                                                                                                                                                                                                                                                                                                                                                                                                                                                                                                                                                                                                                                                                                                                                                             \n"
     ]
    }
   ],
   "source": [
    "a=pyfits.open('q0.5_fg0.3_allrx10/broadband_200.fits')\n",
    "print(a[0].header)\n",
    "#scidata=a['CAMERA-AUX'].data"
   ]
  },
  {
   "cell_type": "code",
   "execution_count": 3,
   "metadata": {
    "collapsed": false
   },
   "outputs": [
    {
     "data": {
      "text/plain": [
       "\"'FILTERS', which contains total magnitudes and luminosities \\n(integrated over the whole image) for each filter and viewing angle. \""
      ]
     },
     "execution_count": 3,
     "metadata": {},
     "output_type": "execute_result"
    }
   ],
   "source": [
    "filter_data = a['FILTERS'].data\n",
    "\n",
    "''''FILTERS', which contains total magnitudes and luminosities \n",
    "(integrated over the whole image) for each filter and viewing angle. '''"
   ]
  },
  {
   "cell_type": "code",
   "execution_count": 4,
   "metadata": {
    "collapsed": false
   },
   "outputs": [
    {
     "name": "stdout",
     "output_type": "stream",
     "text": [
      "J [[  1.68539731e-11   6.81990286e-09   2.14920928e-11 ...,   2.72177801e-11\n",
      "    3.22294760e-11   3.32618585e-11]\n",
      " [  9.75856640e-09   2.96833971e-08   7.94439625e-09 ...,   1.09424053e-10\n",
      "    4.79846067e-12   2.06423184e-10]\n",
      " [  3.17087556e-09   1.28491555e-08   3.22727578e-09 ...,   4.51214170e-11\n",
      "    7.05370276e-11   1.18630300e-10]\n",
      " ..., \n",
      " [  2.59786307e-11   3.84888163e-11   4.35838973e-13 ...,   3.39060655e-11\n",
      "    9.82289095e-09   4.25583870e-08]\n",
      " [  4.92303594e-11   1.20603159e-12   1.44496452e-14 ...,   3.76605058e-08\n",
      "    3.35581340e-08   3.44084850e-09]\n",
      " [  4.08609500e-11   2.10289295e-12   2.45555030e-12 ...,   1.58288245e-08\n",
      "    2.68703886e-08   2.34718550e-10]]\n",
      "[[  2.30673704e-05   9.33413301e-03   2.94153833e-05 ...,   3.72519062e-05\n",
      "    4.41112170e-05   4.55241970e-05]\n",
      " [  1.33561660e-02   4.06264998e-02   1.08731827e-02 ...,   1.49764397e-04\n",
      "    6.56746442e-06   2.82523310e-04]\n",
      " [  4.33985284e-03   1.75861344e-02   4.41704551e-03 ...,   6.17559126e-05\n",
      "    9.65412619e-05   1.62364624e-04]\n",
      " ..., \n",
      " [  3.55559314e-05   5.26781296e-05   5.96515690e-07 ...,   4.64059012e-05\n",
      "    1.34442048e-02   5.82479909e-02]\n",
      " [  6.73796603e-05   1.65064807e-06   1.97766621e-08 ...,   5.15444539e-02\n",
      "    4.59297001e-02   4.70935414e-03]\n",
      " [  5.59247783e-05   2.87814692e-06   3.36081530e-06 ...,   2.16642898e-02\n",
      "    3.67764458e-02   3.21250060e-04]]\n"
     ]
    },
    {
     "name": "stderr",
     "output_type": "stream",
     "text": [
      "WARNING: AstropyDeprecationWarning: \"clobber\" was deprecated in version 1.3 and will be removed in a future version. Use argument \"overwrite\" instead. [astropy.utils.decorators]\n"
     ]
    }
   ],
   "source": [
    "'''Next try to extract the broadband filters'''\n",
    "''''CAMERA[N]-BROADBAND', which are data cubes of dimension \n",
    "[300 pixels] x [300 pixels] x [5 sdss filters]  and contain \n",
    "the actual images\n",
    "Units are surface brightness in units of: \n",
    "IMUNIT  = 'W/m/m^2/sr'         / Pixel quantity is surface brightness           \n",
    "UNITCONV= 9.45238524920703E-35 / [m^2/(kpc^2)]\n",
    "\n",
    "Spatially, each pixel is 0.5 kpc for the early stage and 0.1666 kpc for the late stage'''\n",
    "\n",
    "plt.clf()\n",
    "\n",
    "camera_data = a['CAMERA0-BROADBAND'].data\n",
    "camera_header = a['CAMERA0-BROADBAND'].header\n",
    "\n",
    "#So for example 0 is #1\n",
    "#Need to take an extension ie [0] because there are 5 filters here\n",
    "\n",
    "xs = np.linspace(0,shape(camera_data[0])[0]-1,shape(camera_data[0])[0])\n",
    "xs_kpc = [0.1666*x for x in xs]\n",
    "\n",
    "#first, go from specific intensity (because we have per steradian) to \n",
    "#janskies (W/Hz/m^2)\n",
    "c = 299792.458*1000#to get into m/s\n",
    "\n",
    "Janskies=np.array(10**(26)*camera_data[2]*(1.35e-6)**2*np.pi*((6185.2*10**(-10))**2/c), dtype='>f4')\n",
    "\n",
    "\n",
    "#Janskies=np.array(camera_data[2]*10**(26)*4*np.pi*60*1111.2, dtype='>f4')\n",
    "print('J',Janskies)\n",
    "print(camera_data[2])\n",
    "\n",
    "b=1.2*10**(-10)\n",
    "#b=6.53661*10**(-1806152081)\n",
    "\n",
    "arg=(Janskies/(3631*2*b))+np.log(b)\n",
    "\n",
    "\n",
    "mag=(-2.5/np.log(10))*np.arcsinh(arg)\n",
    "\n",
    "#zeropoint for the r filter of pogson is apparently slightly different\n",
    "mag_pogson=-2.5*np.log10(Janskies/(4539.82))\n",
    "\n",
    "nanomaggy=Janskies/(3.631*10**(-6))\n",
    "\n",
    "\n",
    "\n",
    "\n",
    "plt.imshow(np.flipud(nanomaggy), vmax=1)\n",
    "plt.ylabel(r'kpc [0.1666/unit]')\n",
    "plt.xlabel(r'kpc [0.1666/unit]')\n",
    "cb1=plt.colorbar()\n",
    "cb1.set_label('r-band Flux Density [mag]')\n",
    "savefig('pyplots_q0.5_fg0.3_allrx10/200_CAMERA0_2_nanomaggy.pdf')\n",
    "\n",
    "\n",
    "'''write it out so that GALFIT can use it'''\n",
    "outfile = 'q0.5_fg0.3_allrx10/test_out.fits'\n",
    "\n",
    "hdu = fits.PrimaryHDU(np.flipud(camera_data[0]))\n",
    "hdu.writeto(outfile, clobber=True)\n",
    "\n"
   ]
  },
  {
   "cell_type": "code",
   "execution_count": 5,
   "metadata": {
    "collapsed": false
   },
   "outputs": [],
   "source": [
    "'''CAMERA[N]-BROADBAND-NONSCATTER\n",
    "for the effects without dust effects (scattering, attenuation)'''\n",
    "\n",
    "plt.clf()\n",
    "\n",
    "camera_data = a['CAMERA0-BROADBAND-NONSCATTER'].data\n",
    "camera_header = a['CAMERA0-BROADBAND-NONSCATTER'].header\n",
    "#print(camera_header)\n",
    "#So for example 0 is #1\n",
    "#Need to take an extension ie [0] because there are 5 filters here\n",
    "\n",
    "xs = np.linspace(0,shape(camera_data[0])[0]-1,shape(camera_data[0])[0])\n",
    "xs_kpc = [0.5*x for x in xs]\n",
    "#print(shape(camera_data[0]))\n",
    "plt.imshow(np.flipud(camera_data[4]))\n",
    "plt.ylabel(r'kpc [0.5/unit]')\n",
    "plt.xlabel(r'kpc [0.5/unit]')\n",
    "plt.colorbar()\n",
    "savefig('pyplots_q0.5_fg0.3_allrx10/020_CAMERA0_4_NONSCATTER.pdf')\n"
   ]
  },
  {
   "cell_type": "code",
   "execution_count": 6,
   "metadata": {
    "collapsed": false
   },
   "outputs": [
    {
     "name": "stdout",
     "output_type": "stream",
     "text": [
      "Filename: q0.5_fg0.3_allrx10_sunruns/mcrx_200.fits\n",
      "No.    Name         Type      Cards   Dimensions   Format\n",
      "0    PRIMARY     PrimaryHDU      20   ()              \n",
      "1    SCATTERING_LAMBDAS  BinTableHDU     33   0R x 5C      [J, D, L, D, J]   \n",
      "2    BHMODEL     BinTableHDU     14   0R x 0C      []   \n",
      "3    GADGET      BinTableHDU     94   0R x 0C      []   \n",
      "4    GRIDSTRUCTURE  BinTableHDU     20   1795657R x 1C   [L]   \n",
      "5    LAMBDA      BinTableHDU     16   970R x 2C    [D, D]   \n",
      "6    MAKEGRID    BinTableHDU     30   0R x 0C      []   \n",
      "7    SFRHIST     BinTableHDU     83   0R x 0C      []   \n",
      "8    STELLARMODEL  BinTableHDU     60   0R x 0C      []   \n",
      "9    MCRX        BinTableHDU     62   0R x 0C      []   \n",
      "10   CAMERA0-PARAMETERS  ImageHDU        33   (300, 300)   float32   \n",
      "11   CAMERA1-PARAMETERS  ImageHDU        33   (300, 300)   float32   \n",
      "12   CAMERA2-PARAMETERS  ImageHDU        33   (300, 300)   float32   \n",
      "13   CAMERA3-PARAMETERS  ImageHDU        33   (300, 300)   float32   \n",
      "14   CAMERA4-PARAMETERS  ImageHDU        33   (300, 300)   float32   \n",
      "15   CAMERA5-PARAMETERS  ImageHDU        33   (300, 300)   float32   \n",
      "16   CAMERA6-PARAMETERS  ImageHDU        33   (300, 300)   float32   \n",
      "17   RANDOM_STATE  BinTableHDU     11   24R x 1C     [2557B]   \n",
      "18   CAMERA0-NONSCATTER  ImageHDU        28   (300, 300, 970)   float32   \n",
      "19   CAMERA1-NONSCATTER  ImageHDU        28   (300, 300, 970)   float32   \n",
      "20   CAMERA2-NONSCATTER  ImageHDU        28   (300, 300, 970)   float32   \n",
      "21   CAMERA3-NONSCATTER  ImageHDU        28   (300, 300, 970)   float32   \n",
      "22   CAMERA4-NONSCATTER  ImageHDU        28   (300, 300, 970)   float32   \n",
      "23   CAMERA5-NONSCATTER  ImageHDU        28   (300, 300, 970)   float32   \n",
      "24   CAMERA6-NONSCATTER  ImageHDU        28   (300, 300, 970)   float32   \n",
      "25   CAMERA0     ImageHDU        28   (300, 300, 970)   float32   \n",
      "26   CAMERA1     ImageHDU        28   (300, 300, 970)   float32   \n",
      "27   CAMERA2     ImageHDU        28   (300, 300, 970)   float32   \n",
      "28   CAMERA3     ImageHDU        28   (300, 300, 970)   float32   \n",
      "29   CAMERA4     ImageHDU        28   (300, 300, 970)   float32   \n",
      "30   CAMERA5     ImageHDU        28   (300, 300, 970)   float32   \n",
      "31   CAMERA6     ImageHDU        28   (300, 300, 970)   float32   \n",
      "32   CAMERA0-AUX  ImageHDU        45   (300, 300, 10)   float64   \n",
      "33   CAMERA1-AUX  ImageHDU        45   (300, 300, 10)   float64   \n",
      "34   CAMERA2-AUX  ImageHDU        45   (300, 300, 10)   float64   \n",
      "35   CAMERA3-AUX  ImageHDU        45   (300, 300, 10)   float64   \n",
      "36   CAMERA4-AUX  ImageHDU        45   (300, 300, 10)   float64   \n",
      "37   CAMERA5-AUX  ImageHDU        45   (300, 300, 10)   float64   \n",
      "38   CAMERA6-AUX  ImageHDU        45   (300, 300, 10)   float64   \n",
      "39   INTEGRATED_QUANTITIES  BinTableHDU    111   970R x 25C   [D, D, D, D, D, D, D, D, D, D, D, D, D, D, D, D, D, D, D, D, D, D, D, D, D]   \n",
      "None\n",
      "(970, 300, 300)\n"
     ]
    }
   ],
   "source": [
    "'''Trying to tackle the freaking spectrum/SED file'''\n",
    "#mcrx_200.fits\n",
    "spec=pyfits.open('q0.5_fg0.3_allrx10/mcrx_200.fits')\n",
    "'''The higher resolution one is here:'''\n",
    "spec=pyfits.open('q0.5_fg0.3_allrx10_sunruns/mcrx_200.fits')\n",
    "#These contain spectra from the 200th snapshot, for all camera angles\n",
    "\n",
    "print(spec.info())\n",
    "#So spec[25] is a camera HDU\n",
    "print(shape(spec[25]))\n"
   ]
  },
  {
   "cell_type": "code",
   "execution_count": 32,
   "metadata": {
    "collapsed": false
   },
   "outputs": [],
   "source": [
    "#print(spec[0].header)"
   ]
  },
  {
   "cell_type": "code",
   "execution_count": 7,
   "metadata": {
    "collapsed": false
   },
   "outputs": [
    {
     "name": "stdout",
     "output_type": "stream",
     "text": [
      "(970, 300, 300)\n",
      "(970,)\n",
      "header info XTENSION= 'BINTABLE'           / binary table extension                         BITPIX  =                    8 / 8-bit bytes                                    NAXIS   =                    2 / 2-dimensional binary table                     NAXIS1  =                   16 / width of table in bytes                        NAXIS2  =                  970 / number of rows in table                        PCOUNT  =                    0 / size of special data area                      GCOUNT  =                    1 / one data group (required keyword)              TFIELDS =                    2 / number of fields in each row                   EXTNAME = 'LAMBDA  '           / name of this binary table extension            TTYPE1  = 'lambda  '           / label for field                                TFORM1  = 'D       '           / format of field                                TUNIT1  = 'm       '                                                            TTYPE2  = 'lambda_intensity'   / label for field                                TFORM2  = 'D       '           / format of field                                TUNIT2  = 'm       '                                                            HIERARCH NLAMBDA_INTENSITY = 25 / Number of wavelengths in intensity grid       END                                                                                                                                                                                                                                                                                                                                                                                                                                                                                                                                                                                                                                                                                                                                                                                                                                                                                                                                                                                                                                                                                                                                                                                                                                                                                                                                                                                                                                                                                                                                                                                                                                                             \n"
     ]
    },
    {
     "data": {
      "image/png": "[encoded data removed]",
      "text/plain": [
       "<matplotlib.figure.Figure at 0x1126a7320>"
      ]
     },
     "metadata": {},
     "output_type": "display_data"
    }
   ],
   "source": [
    "CAMERA0=spec[25]\n",
    "#This is Camera 0 with an IFU datacube\n",
    "print(shape(CAMERA0))\n",
    "\n",
    "#practice extracting an aperture from this galaxy\n",
    "\n",
    "'''How do you get the 968 dimension?'''\n",
    "print(shape(CAMERA0.data[:,150,150]))#this is the middle pixel of the simulation\n",
    "#print(CAMERA0.header)\n",
    "#wavelengths are in HDU LAMBDA = 5th extension\n",
    "#print('HDU Lambda',spec[5].data)\n",
    "#print('WAVELENGTH info', spec['LAMBDA'].data)\n",
    "'''Wavelength, you need to take the 0th dimension, not sure what the second one is'''\n",
    "\n",
    "print('header info', spec[5].header)\n",
    "#plt.imshow(CAMERA0.data[0])\n",
    "#plt.show()\n",
    "Ang=[x[0]*10**(10) for x in spec[5].data]#\n",
    "plt.clf()\n",
    "plt.plot(Ang,CAMERA0.data[:,150,150])\n",
    "plt.xlim([3000,8000])\n",
    "plt.xlabel(r'$\\lambda$ [nm]')\n",
    "plt.ylabel(r'Surface Brightness [$W/m/m^2/sr$]')\n",
    "plt.show()"
   ]
  },
  {
   "cell_type": "code",
   "execution_count": 8,
   "metadata": {
    "collapsed": false
   },
   "outputs": [],
   "source": [
    "'''Now, I'm going to integrate the spectrum from the 200th snapshot'''\n",
    "\n",
    "\n",
    "xmin=150\n",
    "xmax=200\n",
    "ymin=175\n",
    "ymax=225\n",
    "\n",
    "integrated=np.sum(CAMERA0.data[:,xmin:xmax,ymin:ymax],axis=(1,2))\n",
    "#use a tuple to sum along two different axes\n",
    "\n",
    "\n",
    "\n",
    "plt.clf()\n",
    "\n",
    "\n",
    "#Try to figure out where you're targeting on the thing\n",
    "\n",
    "\n",
    "f, axarr = plt.subplots(2)\n",
    "axarr[0].plot(Ang,(integrated))\n",
    "axarr[0].set_xlim([0,30000])\n",
    "axarr[0].set_title('Integrated Spectrum')\n",
    "axarr[0].set_xlabel(r'$\\lambda$ [$\\AA$]')\n",
    "axarr[0].set_ylabel(r'Surface Brightness [$W/m/m^2/sr$]')\n",
    "\n",
    "#now draw a box where you're making the SED cuts\n",
    "rect = patches.Rectangle((xmin+(xmax-xmin)/2,ymin-(ymax-ymin)/2),(xmax-xmin),(ymax-ymin),linewidth=1,edgecolor='red',facecolor='none')\n",
    "# (upper left corner in x and y, x length, y length)\n",
    "# Add the patch to the Axes\n",
    "axarr[1].add_patch(rect)\n",
    "\n",
    "\n",
    "\n",
    "#plot the broadband thing\n",
    "'''broadband=np.sum(CAMERA0.data,axis=0)\n",
    "print(broadband)\n",
    "ax1=axarr[1].imshow((broadband),vmax=10000)\n",
    "axarr[1].axhline(y=100, color='red')\n",
    "axarr[1].axvline(x=100, color='red')\n",
    "\n",
    "axarr[1].axhline(y=200, color='red')\n",
    "axarr[1].axvline(x=200, color='red')\n",
    "\n",
    "\n",
    "plt.colorbar(ax1)'''\n",
    "\n",
    "\n",
    "broadband_cut=np.sum(CAMERA0.data[:,xmin:xmax,ymin:ymax],axis=0)\n",
    "#MIDDLE DIMENSION IS ACTUALLY THE YS\n",
    "ax2=axarr[1].imshow(np.sum(CAMERA0.data[:,:,:],axis=0),vmax=10000)\n",
    "#axarr[1].axhline(y=xmin,  color='white')\n",
    "#axarr[1].axhline(y=xmax,  color='white')\n",
    "#axarr[1].axvline(x=ymin, color='white')\n",
    "#axarr[1].axvline(x=ymax, color='white')\n",
    "axarr[1].set_xlabel(r'0.166 / kpc')\n",
    "plt.tight_layout()\n",
    "#plt.show()\n",
    "savefig('pyplots_q0.5_fg0.3_allrx10/200_SED_fiber.pdf')"
   ]
  },
  {
   "cell_type": "code",
   "execution_count": 11,
   "metadata": {
    "collapsed": false
   },
   "outputs": [
    {
     "name": "stdout",
     "output_type": "stream",
     "text": [
      "0.6067249692472986\n",
      "arcs_totes 30.96118638945177 Number of fibers 91\n",
      "0 0.0 0\n",
      "1 0.5 4.550455471176623\n",
      "2 1.0 0\n",
      "3 1.5 4.550455471176623\n",
      "4 2.0 0\n",
      "5 2.5 4.550455471176623\n",
      "doin geometry 0.866025403784\n"
     ]
    },
    {
     "ename": "NameError",
     "evalue": "name 'result' is not defined",
     "output_type": "error",
     "traceback": [
      "\u001b[0;31m---------------------------------------------------------------------------\u001b[0m",
      "\u001b[0;31mNameError\u001b[0m                                 Traceback (most recent call last)",
      "\u001b[0;32m<ipython-input-11-f9febd646821>\u001b[0m in \u001b[0;36m<module>\u001b[0;34m()\u001b[0m\n\u001b[1;32m     66\u001b[0m \u001b[0;31m#MIDDLE DIMENSION IS ACTUALLY THE YS\u001b[0m\u001b[0;34m\u001b[0m\u001b[0;34m\u001b[0m\u001b[0m\n\u001b[1;32m     67\u001b[0m \u001b[0;31m#ax1.imshow(np.sum(CAMERA0.data[:,:,:],axis=0),vmax=10000)\u001b[0m\u001b[0;34m\u001b[0m\u001b[0;34m\u001b[0m\u001b[0m\n\u001b[0;32m---> 68\u001b[0;31m \u001b[0max1\u001b[0m\u001b[0;34m.\u001b[0m\u001b[0mimshow\u001b[0m\u001b[0;34m(\u001b[0m\u001b[0mresult\u001b[0m\u001b[0;34m,\u001b[0m\u001b[0mvmax\u001b[0m\u001b[0;34m=\u001b[0m\u001b[0;36m10000\u001b[0m\u001b[0;34m)\u001b[0m\u001b[0;34m\u001b[0m\u001b[0m\n\u001b[0m\u001b[1;32m     69\u001b[0m \u001b[0;31m#axarr[1].axhline(y=xmin,  color='white')\u001b[0m\u001b[0;34m\u001b[0m\u001b[0;34m\u001b[0m\u001b[0m\n\u001b[1;32m     70\u001b[0m \u001b[0;31m#axarr[1].axhline(y=xmax,  color='white')\u001b[0m\u001b[0;34m\u001b[0m\u001b[0;34m\u001b[0m\u001b[0m\n",
      "\u001b[0;31mNameError\u001b[0m: name 'result' is not defined"
     ]
    }
   ],
   "source": [
    "'''Now I'm going to use plotting_fiber to make a pretty overlay of the MaNGA fiber as \n",
    "I begin to MaNGA-ize everything'''\n",
    "\n",
    "cosmo.H(0)  \n",
    "#Quantity 69.32 km / (Mpc s)>\n",
    "kpc_arcmin=cosmo.kpc_proper_per_arcmin(0.03)#insert the redshift  \n",
    "print(kpc_arcmin.value/60)\n",
    "\n",
    "fig = plt.figure()\n",
    "ax1 = fig.add_subplot(111, aspect='equal')\n",
    "\n",
    "pixelscale=0.166666#kpc/pix\n",
    "spacing=(2.5*(kpc_arcmin.value/60))/pixelscale\n",
    "radius = (1*(kpc_arcmin.value/60))/pixelscale\n",
    "correction = (0.25*(kpc_arcmin.value/60))/pixelscale\n",
    "\n",
    "\n",
    "'''plotting_fiber(91)\n",
    "\n",
    "\n",
    "\n",
    "The fibers in each bundle are 2.5\" apart\n",
    "\n",
    "\n",
    "\n",
    "\n",
    "#now draw a box where you're making the SED cuts\n",
    "\n",
    "print('doin geometry',np.sin(math.radians(60)))\n",
    "\n",
    "\n",
    "    \n",
    "\n",
    "\n",
    "\n",
    "broadband_cut=np.sum(CAMERA0.data[:,xmin:xmax,ymin:ymax],axis=0)\n",
    "#MIDDLE DIMENSION IS ACTUALLY THE YS\n",
    "ax1.imshow(np.sum(CAMERA0.data[:,:,:],axis=0),vmax=10000)\n",
    "#axarr[1].axhline(y=xmin,  color='white')\n",
    "#axarr[1].axhline(y=xmax,  color='white')\n",
    "#axarr[1].axvline(x=ymin, color='white')\n",
    "#axarr[1].axvline(x=ymax, color='white')\n",
    "ax1.set_xlabel(r'0.166 / kpc')\n",
    "plt.tight_layout()\n",
    "plt.show()\n",
    "\n",
    "plt.clf()'''\n",
    "\n",
    "plotting_fibers_r_e(37.57)#input is the effective radius in pixels FROM GALFIT\n",
    "\n",
    "'''The fibers in each bundle are 2.5\" apart'''\n",
    "\n",
    "\n",
    "\n",
    "\n",
    "#now draw a box where you're making the SED cuts\n",
    "\n",
    "print('doin geometry',np.sin(math.radians(60)))\n",
    "\n",
    "\n",
    "    \n",
    "\n",
    "\n",
    "\n",
    "broadband_cut=np.sum(CAMERA0.data[:,xmin:xmax,ymin:ymax],axis=0)\n",
    "#MIDDLE DIMENSION IS ACTUALLY THE YS\n",
    "#ax1.imshow(np.sum(CAMERA0.data[:,:,:],axis=0),vmax=10000)\n",
    "ax1.imshow(result,vmax=10000)\n",
    "#axarr[1].axhline(y=xmin,  color='white')\n",
    "#axarr[1].axhline(y=xmax,  color='white')\n",
    "#axarr[1].axvline(x=ymin, color='white')\n",
    "#axarr[1].axvline(x=ymax, color='white')\n",
    "ax1.set_xlabel(r'0.166 / kpc')\n",
    "#plt.tight_layout()\n",
    "#plt.show()\n",
    "\n",
    "savefig('pyplots_q0.5_fg0.3_allrx10/Simulated_fiber_convolved.pdf')"
   ]
  },
  {
   "cell_type": "code",
   "execution_count": 10,
   "metadata": {
    "collapsed": false
   },
   "outputs": [],
   "source": [
    "def extract_spec( xmax, ymin, rad):\n",
    "    \n",
    "    plt.clf()\n",
    "    '''This one is going to extract spectra and then convolve them with a Gaussian Kernal\n",
    "    with resolution 72 km/s'''\n",
    "    '''Also convolves with a Gaussian'''\n",
    "    center_x=xmax\n",
    "    center_y=ymin\n",
    "    \n",
    "    radius = arc_to_pix(rad)\n",
    "    \n",
    "    '''Step 1: Make a new image of just that spec'''\n",
    "    #np.sum(CAMERA0.data[:,xmin:xmax,ymin:ymax],axis=0)\n",
    "    x_coords=[]\n",
    "    y_coords=[]\n",
    "    new_cube=[]\n",
    "    '''create an empty masked array'''\n",
    "    mask_2d=np.zeros((len(CAMERA0.data[:,0,0]),len(CAMERA0.data[0,:,0]),len(CAMERA0.data[0,0,:])))\n",
    "\n",
    "    #    masked_stel_vel=ma.masked_where((1/np.sqrt(data_stel_vel_ivar)) > 100 , data_stel_vel)\n",
    "    for i in range(len(CAMERA0.data[0,:,0])):\n",
    "        for j in range(len(CAMERA0.data[0,0,:])):\n",
    "            if (center_x-i)**2+(center_y-j)**2 < radius**2:\n",
    "                x_coords.append(i)\n",
    "                y_coords.append(j)\n",
    "                new_cube.append(CAMERA0.data[:,i,j])\n",
    "                \n",
    "            else:\n",
    "                mask_2d[:,j,i]=1\n",
    "    masked_cube= ma.masked_array(CAMERA0.data[:,:,:], mask=mask_2d)\n",
    "    '''plt.imshow(np.sum(masked_cube,axis=0), interpolation='None', vmin=0, vmax=1e4)\n",
    "    plt.colorbar()\n",
    "    plt.show()\n",
    "    \n",
    "    plt.clf()'''\n",
    "\n",
    "\n",
    "#Try to figure out where you're targeting on the thing\n",
    "\n",
    "    integrated=np.sum(masked_cube,axis=(1,2))\n",
    "    \n",
    "    g = Gaussian1DKernel(0.01)\n",
    "\n",
    "    # Convolve data\n",
    "    z = convolve(integrated, g, boundary='extend')\n",
    "    \n",
    "    '''f, axarr = plt.subplots(2)\n",
    "    axarr[0].plot(Ang,(integrated))\n",
    "    axarr[0].plot(Ang,z,'red')\n",
    "    axarr[0].set_xlim([3000,8000])\n",
    "    axarr[0].set_title('Integrated Spectrum')\n",
    "    axarr[0].set_xlabel(r'$\\lambda$ [$\\AA$]')\n",
    "    axarr[0].set_ylabel(r'Surface Brightness [$W/m/m^2/sr$]')\n",
    "    \n",
    "    #now draw a box where you're making the SED cuts\n",
    "    rect = patches.Circle((center_x,center_y),radius,linewidth=2,edgecolor='red',facecolor='none')\n",
    "    axarr[1].add_patch(rect)\n",
    "    \n",
    "  \n",
    "    \n",
    "    \n",
    "    broadband_cut=np.sum(masked_cube,axis=0)\n",
    "    #MIDDLE DIMENSION IS ACTUALLY THE YS\n",
    "    ax2=axarr[1].imshow(np.sum(masked_cube,axis=0), interpolation='None')\n",
    "    #axarr[1].axhline(y=xmin,  color='white')\n",
    "    #axarr[1].axhline(y=xmax,  color='white')\n",
    "    #axarr[1].axvline(x=ymin, color='white')\n",
    "    #axarr[1].axvline(x=ymax, color='white')\n",
    "    axarr[1].set_xlabel(r'0.166 / kpc')\n",
    "    plt.tight_layout()\n",
    "    plt.show()'''\n",
    "    #savefig('pyplots_q0.5_fg0.3_allrx10/extract_fiber.pdf')\n",
    "    \n",
    "    #image=CAMERA0.data[:,center_x-]\n",
    "    #rect = patches.Circle((xmin+(xmax-xmin)+xs[k]*spacing-corr,ymin+i*np.sin(math.radians(60))*spacing),arc_to_pix(1),linewidth=2,edgecolor='white',facecolor='none')\n",
    "    #            ax1.add_patch(rect)\n",
    "    return Ang, integrated, z\n",
    "\n",
    "def arc_to_pix(arc):\n",
    "    return (arc*(kpc_arcmin.value/60))/pixelscale\n",
    "\n",
    "def plotting_fiber(n_fibers):\n",
    "    \n",
    "    if n_fibers==19:\n",
    "        index_1=[-2,-1,-1]\n",
    "        index_2=[2,2,1]\n",
    "        index_3=[5,4,3]\n",
    "    \n",
    "    if n_fibers==37:\n",
    "        index_1=[-3,-2,-2,-1]\n",
    "        index_2=[3,3,2,2]\n",
    "        index_3=[7,6,5,4]\n",
    "    \n",
    "    if n_fibers==61:\n",
    "        index_1=[-4,-3,-3,-2,-2]\n",
    "        index_2=[4,4,3,3,2,2]\n",
    "        index_3=[9,8,7,6,5]\n",
    "    \n",
    "    if n_fibers==91:\n",
    "        xs_0=[-5,5,11]\n",
    "        xs_1=[-4,5,10]\n",
    "        xs_2=[-4,4,9]\n",
    "        xs_3=[-3,4,8]\n",
    "        xs_4=[-3,3,7]\n",
    "        xs_5=[-2,3,6]\n",
    "        \n",
    "        '''Converting into a better format'''\n",
    "        index_1=[-5,-4,-4,-3,-3,-2]\n",
    "        index_2=[5,5,4,4,3,3]\n",
    "        index_3=[11,10,9,8,7,6]\n",
    "\n",
    "    if n_fibers==127:\n",
    "        index_1=[-6,-5,-5,-4,-4,-3,-3]\n",
    "        index_2=[6,6,5,5,4,4,3]\n",
    "        index_3=[13,12,11,10,9,8,7]\n",
    "    \n",
    "\n",
    "        \n",
    "    for i in range(len(index_1)):\n",
    "        xs=np.linspace(index_1[i],index_2[i],index_3[i])\n",
    "        xs=np.array(xs)\n",
    "        if i % 2 == 0:#n % 2 == 0\n",
    "                #in other words, if its an odd index you need to play with spacing\n",
    "            \n",
    "            corr=0   \n",
    "        else:\n",
    "            \n",
    "            corr=radius+correction\n",
    "        print(i,i/2,corr)\n",
    "        \n",
    "        for k in range(len(xs)):\n",
    "            if i==0:#this is to only plot once for the middle row\n",
    "                rect = patches.Circle((xmin+(xmax-xmin)+xs[k]*spacing-corr,ymin+i*np.sin(math.radians(60))*spacing),arc_to_pix(1),linewidth=2,edgecolor='white',facecolor='none')\n",
    "                ax1.add_patch(rect)\n",
    "            else:\n",
    "                rect = patches.Circle((xmin+(xmax-xmin)+xs[k]*spacing-corr,ymin+i*np.sin(math.radians(60))*spacing),arc_to_pix(1),linewidth=2,edgecolor='white',facecolor='none')\n",
    "                #if (xrows[2]-xsub)/2 == 0:#in other words, if its odd\n",
    "                ax1.add_patch(rect)\n",
    "                rect = patches.Circle((xmin+(xmax-xmin)+xs[k]*spacing-corr,ymin-i*np.sin(math.radians(60))*spacing),arc_to_pix(1),linewidth=2,edgecolor='white',facecolor='none')\n",
    "                #if (xrows[2]-xsub)/2 == 0:#in other words, if its odd\n",
    "                ax1.add_patch(rect)\n",
    "    '''I'd also like to plot a huge line scale for the full diameter of the packet (in kpc and \"?)'''\n",
    "    #ax1.axhline(y=ymin+(len(index_1)+2)*np.sin(math.radians(60))*spacing,xlim=(xmin+(xmax-xmin)+index_1[0]*spacing,xmin+(xmax-xmin)+index_2[0]*spacing), color='white', lw=2)\n",
    "    from matplotlib import collections  as mc\n",
    "\n",
    "    lines = [[(xmin+(xmax-xmin)+index_1[0]*spacing-radius-arc_to_pix(0.25),ymin+(len(index_1)+2)*np.sin(math.radians(60))*spacing),(xmin+(xmax-xmin)+index_2[0]*spacing+radius+arc_to_pix(0.25),ymin+(len(index_1)+2)*np.sin(math.radians(60))*spacing)]]\n",
    "    \n",
    "    #lines = [[(xmin+(xmax-xmin)+index_1[0]*spacing-radius,ymin),(xmin+(xmax-xmin)+index_2[0]*spacing+radius,ymin)]]\n",
    "    \n",
    "    length=(xmin+(xmax-xmin)+index_2[0]*spacing+radius+arc_to_pix(0.25))-(xmin+(xmax-xmin)+index_1[0]*spacing-radius-arc_to_pix(0.25))\n",
    "    '''This is a length in pixels'''\n",
    "    length_kpc=length*pixelscale\n",
    "    '''Now its in kpc'''\n",
    "    length_arc=length_kpc/(kpc_arcmin.value/60)\n",
    "    ax1.annotate(str(length_arc)+r'$^{\\prime\\prime}$',xy=(xmin+(xmax-xmin)+index_1[0]*spacing-radius,ymin+(len(index_1)+1.5)*np.sin(math.radians(60))*spacing),xycoords='data', size=15, color='white')\n",
    "    \n",
    "    lc = mc.LineCollection(lines, colors='white', linewidths=2)\n",
    "    \n",
    "    ax1.add_collection(lc)\n",
    "    \n",
    "    \n",
    "    #plt.segments(x0=xmin+(xmax-xmin)+index_1[0]*spacing,x1=xmin+(xmax-xmin)+index_2[0]*spacing,y0=ymin+(len(index_1)+2)*np.sin(math.radians(60))*spacing)\n",
    "    \n",
    "    \n",
    "    \n",
    "def plotting_fibers_r_e(effective_radius):\n",
    "    \n",
    "    '''input is the effective radius\n",
    "    1) Convert r_e to arcsec\n",
    "    2) Determine which fiber to use'''\n",
    "    arcs_totes=((2*1.5*effective_radius)*pixelscale)/(kpc_arcmin.value/60)#pixelscale is kpc/pix\n",
    "    #arcs_totes=1.5*((effective_radius*(kpc_arcmin.value/60))/pixelscale)\n",
    "    \n",
    "    \n",
    "    '''Fibers are spaced as follows:\n",
    "    19: 12.5\n",
    "    37: 17.5\n",
    "    61: 22.5\n",
    "    91: 27.5\n",
    "    127: 32.5'''\n",
    "    \n",
    "    if arcs_totes > 32.5:\n",
    "        n_fibers=127\n",
    "    else:\n",
    "        if arcs_totes > 27.5:\n",
    "            n_fibers=91\n",
    "        else:\n",
    "            if arcs_totes > 22.5:\n",
    "                n_fibers=61\n",
    "            else:\n",
    "                if arcs_totes > 17.5:\n",
    "                    n_fibers=37\n",
    "                else:\n",
    "                    n_fibers=19\n",
    "    print('arcs_totes', arcs_totes, 'Number of fibers', n_fibers)\n",
    "    \n",
    "    if n_fibers==19:\n",
    "        index_1=[-2,-1,-1]\n",
    "        index_2=[2,2,1]\n",
    "        index_3=[5,4,3]\n",
    "    \n",
    "    if n_fibers==37:\n",
    "        index_1=[-3,-2,-2,-1]\n",
    "        index_2=[3,3,2,2]\n",
    "        index_3=[7,6,5,4]\n",
    "    \n",
    "    if n_fibers==61:\n",
    "        index_1=[-4,-3,-3,-2,-2]\n",
    "        index_2=[4,4,3,3,2,2]\n",
    "        index_3=[9,8,7,6,5]\n",
    "    \n",
    "    if n_fibers==91:\n",
    "        xs_0=[-5,5,11]\n",
    "        xs_1=[-4,5,10]\n",
    "        xs_2=[-4,4,9]\n",
    "        xs_3=[-3,4,8]\n",
    "        xs_4=[-3,3,7]\n",
    "        xs_5=[-2,3,6]\n",
    "        \n",
    "        '''Converting into a better format'''\n",
    "        index_1=[-5,-4,-4,-3,-3,-2]\n",
    "        index_2=[5,5,4,4,3,3]\n",
    "        index_3=[11,10,9,8,7,6]\n",
    "\n",
    "    if n_fibers==127:\n",
    "        index_1=[-6,-5,-5,-4,-4,-3,-3]\n",
    "        index_2=[6,6,5,5,4,4,3]\n",
    "        index_3=[13,12,11,10,9,8,7]\n",
    "    \n",
    "\n",
    "        \n",
    "    for i in range(len(index_1)):\n",
    "        xs=np.linspace(index_1[i],index_2[i],index_3[i])\n",
    "        xs=np.array(xs)\n",
    "        if i % 2 == 0:#n % 2 == 0\n",
    "                #in other words, if its an odd index you need to play with spacing\n",
    "            \n",
    "            corr=0   \n",
    "        else:\n",
    "            \n",
    "            corr=radius+correction\n",
    "        print(i,i/2,corr)\n",
    "        \n",
    "        for k in range(len(xs)):\n",
    "            if i==0:#this is to only plot once for the middle row\n",
    "                rect = patches.Circle((xmin+(xmax-xmin)+xs[k]*spacing-corr,ymin+i*np.sin(math.radians(60))*spacing),arc_to_pix(1),linewidth=2,edgecolor='white',facecolor='none')\n",
    "                ax1.add_patch(rect)\n",
    "            else:\n",
    "                rect = patches.Circle((xmin+(xmax-xmin)+xs[k]*spacing-corr,ymin+i*np.sin(math.radians(60))*spacing),arc_to_pix(1),linewidth=2,edgecolor='white',facecolor='none')\n",
    "                #if (xrows[2]-xsub)/2 == 0:#in other words, if its odd\n",
    "                ax1.add_patch(rect)\n",
    "                rect = patches.Circle((xmin+(xmax-xmin)+xs[k]*spacing-corr,ymin-i*np.sin(math.radians(60))*spacing),arc_to_pix(1),linewidth=2,edgecolor='white',facecolor='none')\n",
    "                #if (xrows[2]-xsub)/2 == 0:#in other words, if its odd\n",
    "                ax1.add_patch(rect)\n",
    "    '''I'd also like to plot a huge line scale for the full diameter of the packet (in kpc and \"?)'''\n",
    "    #ax1.axhline(y=ymin+(len(index_1)+2)*np.sin(math.radians(60))*spacing,xlim=(xmin+(xmax-xmin)+index_1[0]*spacing,xmin+(xmax-xmin)+index_2[0]*spacing), color='white', lw=2)\n",
    "    from matplotlib import collections  as mc\n",
    "\n",
    "    lines = [[(xmin+(xmax-xmin)+index_1[0]*spacing-radius-arc_to_pix(0.25),ymin+(len(index_1)+2)*np.sin(math.radians(60))*spacing),(xmin+(xmax-xmin)+index_2[0]*spacing+radius+arc_to_pix(0.25),ymin+(len(index_1)+2)*np.sin(math.radians(60))*spacing)]]\n",
    "    \n",
    "    #lines = [[(xmin+(xmax-xmin)+index_1[0]*spacing-radius,ymin),(xmin+(xmax-xmin)+index_2[0]*spacing+radius,ymin)]]\n",
    "    \n",
    "    length=(xmin+(xmax-xmin)+index_2[0]*spacing+radius+arc_to_pix(0.25))-(xmin+(xmax-xmin)+index_1[0]*spacing-radius-arc_to_pix(0.25))\n",
    "    '''This is a length in pixels'''\n",
    "    length_kpc=length*pixelscale\n",
    "    '''Now its in kpc'''\n",
    "    length_arc=length_kpc/(kpc_arcmin.value/60)\n",
    "    ax1.annotate(str(length_arc)+r'$^{\\prime\\prime}$',xy=(xmin+(xmax-xmin)+index_1[0]*spacing-radius,ymin+(len(index_1)+1.5)*np.sin(math.radians(60))*spacing),xycoords='data', size=15, color='white')\n",
    "    \n",
    "    lc = mc.LineCollection(lines, colors='white', linewidths=2)\n",
    "    \n",
    "    ax1.add_collection(lc)\n",
    "    \n",
    "    \n",
    "    #plt.segments(x0=xmin+(xmax-xmin)+index_1[0]*spacing,x1=xmin+(xmax-xmin)+index_2[0]*spacing,y0=ymin+(len(index_1)+2)*np.sin(math.radians(60))*spacing)\n",
    "    \n",
    "    \n",
    "    \n",
    "       "
   ]
  },
  {
   "cell_type": "code",
   "execution_count": 147,
   "metadata": {
    "collapsed": false
   },
   "outputs": [],
   "source": [
    "'''now trying to take that extracted spectrum and fit pPXF'''\n",
    "\n",
    "xmin=150\n",
    "xmax=200\n",
    "ymin=175\n",
    "ymax=225\n",
    "\n",
    "\n",
    "y=extract_spec(xmax,ymin,0.01)\n",
    "xs=y[0]\n",
    "loglam_xs=[np.log10(x) for x in xs]\n",
    "loglam_xs=np.array(loglam_xs)\n",
    "spec_non_convolved=y[1]\n",
    "spec_convolved=y[2]\n",
    "\n",
    "\n",
    "plt.clf()\n",
    "\n"
   ]
  },
  {
   "cell_type": "code",
   "execution_count": 252,
   "metadata": {
    "collapsed": false
   },
   "outputs": [
    {
     "name": "stderr",
     "output_type": "stream",
     "text": [
      "/Users/beckynevin/anaconda/lib/python3.6/site-packages/ipykernel/__main__.py:18: VisibleDeprecationWarning: using a non-integer number instead of an integer will result in an error in the future\n",
      "/Users/beckynevin/anaconda/lib/python3.6/site-packages/ipykernel/__main__.py:103: RuntimeWarning: invalid value encountered in sqrt\n"
     ]
    },
    {
     "name": "stdout",
     "output_type": "stream",
     "text": [
      "Outliers: 395\n",
      "Outliers: 10\n",
      "Outliers: 3\n",
      "Outliers: 1\n",
      "Outliers: 1\n",
      "Outliers: 401\n",
      "Outliers: 11\n",
      "Outliers: 1\n",
      "Outliers: 405\n",
      "Outliers: 11\n",
      "Outliers: 2\n",
      "Outliers: 1\n",
      "Outliers: 404\n",
      "Outliers: 11\n",
      "Outliers: 2\n",
      "Outliers: 1\n",
      "Outliers: 403\n",
      "Outliers: 10\n",
      "Outliers: 3\n",
      "Outliers: 1\n",
      "Best Fit:       Vel     sigma        h3        h4\n",
      " comp. 0:     11735      1000    -0.086     0.190\n",
      "chi2/DOF: 1.562\n",
      "Function evaluations: 42 Status: 1\n",
      "Nonzero Templates:  3  /  156\n"
     ]
    },
    {
     "data": {
      "image/png": "[encoded data removed]",
      "text/plain": [
       "<matplotlib.figure.Figure at 0x240806240>"
      ]
     },
     "metadata": {},
     "output_type": "display_data"
    },
    {
     "name": "stdout",
     "output_type": "stream",
     "text": [
      "stellar velocity offset -21.9832358082\n",
      "Outliers: 340\n",
      "Outliers: 1\n",
      "Outliers: 1\n",
      "Outliers: 336\n",
      "Outliers: 2\n",
      "Outliers: 333\n",
      "Outliers: 1\n",
      "Outliers: 1\n",
      "Outliers: 333\n",
      "Outliers: 1\n",
      "Outliers: 332\n",
      "Outliers: 1\n",
      "Outliers: 1\n",
      "Best Fit:       Vel     sigma        h3        h4\n",
      " comp. 0:     11607      1000    -0.209     0.051\n",
      "chi2/DOF: 1.878\n",
      "Function evaluations: 37 Status: 1\n",
      "Nonzero Templates:  4  /  156\n"
     ]
    },
    {
     "data": {
      "image/png": "[encoded data removed]",
      "text/plain": [
       "<matplotlib.figure.Figure at 0x119824eb8>"
      ]
     },
     "metadata": {},
     "output_type": "display_data"
    },
    {
     "name": "stdout",
     "output_type": "stream",
     "text": [
      "stellar velocity offset -145.1470998\n",
      "Outliers: 352\n",
      "Outliers: 6\n",
      "Outliers: 2\n",
      "Outliers: 349\n",
      "Outliers: 5\n",
      "Outliers: 5\n",
      "Outliers: 351\n",
      "Outliers: 5\n",
      "Outliers: 2\n",
      "Outliers: 1\n",
      "Outliers: 351\n",
      "Outliers: 5\n",
      "Outliers: 352\n",
      "Outliers: 4\n",
      "Best Fit:       Vel     sigma        h3        h4\n",
      " comp. 0:     11632      1000    -0.169     0.129\n",
      "chi2/DOF: 1.792\n",
      "Function evaluations: 37 Status: 1\n",
      "Nonzero Templates:  2  /  156\n"
     ]
    },
    {
     "data": {
      "image/png": "[encoded data removed]",
      "text/plain": [
       "<matplotlib.figure.Figure at 0x241f87ac8>"
      ]
     },
     "metadata": {},
     "output_type": "display_data"
    },
    {
     "name": "stdout",
     "output_type": "stream",
     "text": [
      "stellar velocity offset -121.263413014\n",
      "Outliers: 397\n",
      "Outliers: 10\n",
      "Outliers: 4\n",
      "Outliers: 3\n",
      "Outliers: 403\n",
      "Outliers: 11\n",
      "Outliers: 3\n",
      "Outliers: 411\n",
      "Outliers: 10\n",
      "Outliers: 3\n",
      "Outliers: 2\n",
      "Outliers: 411\n",
      "Outliers: 9\n",
      "Outliers: 3\n",
      "Outliers: 3\n",
      "Best Fit:       Vel     sigma        h3        h4\n",
      " comp. 0:     11745      1000    -0.112     0.180\n",
      "chi2/DOF: 1.498\n",
      "Function evaluations: 37 Status: 1\n",
      "Nonzero Templates:  3  /  156\n"
     ]
    },
    {
     "data": {
      "image/png": "[encoded data removed]",
      "text/plain": [
       "<matplotlib.figure.Figure at 0x2418a6320>"
      ]
     },
     "metadata": {},
     "output_type": "display_data"
    },
    {
     "name": "stdout",
     "output_type": "stream",
     "text": [
      "stellar velocity offset -13.007403348\n",
      "Outliers: 390\n",
      "Outliers: 9\n",
      "Outliers: 2\n",
      "Outliers: 3\n",
      "Outliers: 390\n",
      "Outliers: 10\n",
      "Outliers: 1\n",
      "Outliers: 1\n",
      "Outliers: 391\n",
      "Outliers: 10\n",
      "Outliers: 2\n",
      "Outliers: 2\n",
      "Outliers: 392\n",
      "Outliers: 9\n",
      "Outliers: 2\n",
      "Outliers: 3\n",
      "Outliers: 392\n",
      "Outliers: 9\n",
      "Outliers: 2\n",
      "Outliers: 3\n",
      "Best Fit:       Vel     sigma        h3        h4\n",
      " comp. 0:     11649      1000    -0.099     0.188\n",
      "chi2/DOF: 1.576\n",
      "Function evaluations: 42 Status: 1\n",
      "Nonzero Templates:  3  /  156\n"
     ]
    },
    {
     "data": {
      "image/png": "[encoded data removed]",
      "text/plain": [
       "<matplotlib.figure.Figure at 0x2431d7588>"
      ]
     },
     "metadata": {},
     "output_type": "display_data"
    },
    {
     "name": "stdout",
     "output_type": "stream",
     "text": [
      "stellar velocity offset -104.478014181\n",
      "Outliers: 328\n",
      "Outliers: 2\n",
      "Outliers: 327\n",
      "Outliers: 1\n",
      "Outliers: 329\n",
      "Outliers: 1\n",
      "Outliers: 332\n",
      "Outliers: 1\n",
      "Outliers: 331\n",
      "Outliers: 1\n",
      "Best Fit:       Vel     sigma        h3        h4\n",
      " comp. 0:     11720      1000    -0.215     0.088\n",
      "chi2/DOF: 1.844\n",
      "Function evaluations: 32 Status: 1\n",
      "Nonzero Templates:  3  /  156\n"
     ]
    },
    {
     "data": {
      "image/png": "[encoded data removed]",
      "text/plain": [
       "<matplotlib.figure.Figure at 0x241d88c88>"
      ]
     },
     "metadata": {},
     "output_type": "display_data"
    },
    {
     "name": "stdout",
     "output_type": "stream",
     "text": [
      "stellar velocity offset -36.3990510602\n",
      "Outliers: 337\n",
      "Outliers: 333\n",
      "Outliers: 1\n",
      "Outliers: 337\n",
      "Outliers: 337\n",
      "Outliers: 336\n",
      "Best Fit:       Vel     sigma        h3        h4\n",
      " comp. 0:     11744      1000    -0.192     0.070\n",
      "chi2/DOF: 1.938\n",
      "Function evaluations: 32 Status: 1\n",
      "Nonzero Templates:  3  /  156\n"
     ]
    },
    {
     "data": {
      "image/png": "[encoded data removed]",
      "text/plain": [
       "<matplotlib.figure.Figure at 0x24166d320>"
      ]
     },
     "metadata": {},
     "output_type": "display_data"
    },
    {
     "name": "stdout",
     "output_type": "stream",
     "text": [
      "stellar velocity offset -13.9365056142\n",
      "Outliers: 337\n",
      "Outliers: 335\n",
      "Outliers: 1\n",
      "Outliers: 336\n",
      "Outliers: 339\n",
      "Outliers: 339\n",
      "Best Fit:       Vel     sigma        h3        h4\n",
      " comp. 0:     11755      1000    -0.186     0.104\n",
      "chi2/DOF: 1.865\n",
      "Function evaluations: 32 Status: 1\n",
      "Nonzero Templates:  3  /  156\n"
     ]
    },
    {
     "data": {
      "image/png": "[encoded data removed]",
      "text/plain": [
       "<matplotlib.figure.Figure at 0x2412ec320>"
      ]
     },
     "metadata": {},
     "output_type": "display_data"
    },
    {
     "name": "stdout",
     "output_type": "stream",
     "text": [
      "stellar velocity offset -2.68659368054\n",
      "Outliers: 345\n",
      "Outliers: 4\n",
      "Outliers: 4\n",
      "Outliers: 3\n",
      "Outliers: 4\n",
      "Outliers: 1\n",
      "Outliers: 344\n",
      "Outliers: 2\n",
      "Outliers: 339\n",
      "Outliers: 5\n",
      "Outliers: 2\n",
      "Outliers: 2\n",
      "Outliers: 340\n",
      "Outliers: 4\n",
      "Outliers: 4\n",
      "Outliers: 1\n",
      "Outliers: 1\n",
      "Outliers: 342\n",
      "Outliers: 5\n",
      "Outliers: 1\n",
      "Outliers: 1\n",
      "Best Fit:       Vel     sigma        h3        h4\n",
      " comp. 0:     11829      1000    -0.244     0.075\n",
      "chi2/DOF: 1.861\n",
      "Function evaluations: 42 Status: 1\n",
      "Nonzero Templates:  3  /  156\n"
     ]
    },
    {
     "data": {
      "image/png": "[encoded data removed]",
      "text/plain": [
       "<matplotlib.figure.Figure at 0x2411fe3c8>"
      ]
     },
     "metadata": {},
     "output_type": "display_data"
    },
    {
     "name": "stdout",
     "output_type": "stream",
     "text": [
      "stellar velocity offset 68.009939003\n",
      "Outliers: 336\n",
      "Outliers: 2\n",
      "Outliers: 335\n",
      "Outliers: 2\n",
      "Outliers: 337\n",
      "Outliers: 1\n",
      "Outliers: 335\n",
      "Outliers: 2\n",
      "Outliers: 335\n",
      "Outliers: 2\n",
      "Best Fit:       Vel     sigma        h3        h4\n",
      " comp. 0:     11847      1000    -0.210     0.085\n",
      "chi2/DOF: 1.864\n",
      "Function evaluations: 42 Status: 1\n",
      "Nonzero Templates:  3  /  156\n"
     ]
    },
    {
     "data": {
      "image/png": "[encoded data removed]",
      "text/plain": [
       "<matplotlib.figure.Figure at 0x240771278>"
      ]
     },
     "metadata": {},
     "output_type": "display_data"
    },
    {
     "name": "stdout",
     "output_type": "stream",
     "text": [
      "stellar velocity offset 85.6924839265\n",
      "Outliers: 359\n",
      "Outliers: 7\n",
      "Outliers: 7\n",
      "Outliers: 1\n",
      "Outliers: 361\n",
      "Outliers: 8\n",
      "Outliers: 5\n",
      "Outliers: 2\n",
      "Outliers: 1\n",
      "Outliers: 1\n",
      "Outliers: 363\n",
      "Outliers: 8\n",
      "Outliers: 2\n",
      "Outliers: 359\n",
      "Outliers: 9\n",
      "Outliers: 4\n",
      "Outliers: 1\n",
      "Outliers: 1\n",
      "Outliers: 357\n",
      "Outliers: 10\n",
      "Outliers: 3\n",
      "Outliers: 2\n",
      "Best Fit:       Vel     sigma        h3        h4\n",
      " comp. 0:     11832      1000    -0.221     0.085\n",
      "chi2/DOF: 1.716\n",
      "Function evaluations: 42 Status: 1\n",
      "Nonzero Templates:  3  /  156\n"
     ]
    },
    {
     "data": {
      "image/png": "[encoded data removed]",
      "text/plain": [
       "<matplotlib.figure.Figure at 0x2728a95c0>"
      ]
     },
     "metadata": {},
     "output_type": "display_data"
    },
    {
     "name": "stdout",
     "output_type": "stream",
     "text": [
      "stellar velocity offset 70.6860051207\n",
      "Outliers: 441\n",
      "Outliers: 5\n",
      "Outliers: 2\n",
      "Outliers: 1\n",
      "Outliers: 1\n",
      "Outliers: 3\n",
      "Outliers: 1\n",
      "Outliers: 438\n",
      "Outliers: 7\n",
      "Outliers: 3\n",
      "Outliers: 1\n",
      "Outliers: 432\n",
      "Outliers: 8\n",
      "Outliers: 3\n",
      "Outliers: 1\n",
      "Outliers: 430\n",
      "Outliers: 8\n",
      "Outliers: 3\n",
      "Outliers: 2\n",
      "Outliers: 433\n",
      "Outliers: 7\n",
      "Outliers: 3\n",
      "Outliers: 3\n",
      "Best Fit:       Vel     sigma        h3        h4\n",
      " comp. 0:     11550      1000    -0.076     0.300\n",
      "chi2/DOF: 2.532\n",
      "Function evaluations: 37 Status: 1\n",
      "Nonzero Templates:  3  /  156\n"
     ]
    },
    {
     "data": {
      "image/png": "[encoded data removed]",
      "text/plain": [
       "<matplotlib.figure.Figure at 0x2728a9208>"
      ]
     },
     "metadata": {},
     "output_type": "display_data"
    },
    {
     "name": "stdout",
     "output_type": "stream",
     "text": [
      "stellar velocity offset -200.042663814\n",
      "Outliers: 553\n",
      "Outliers: 5\n",
      "Outliers: 3\n",
      "Outliers: 554\n",
      "Outliers: 2\n",
      "Outliers: 1\n",
      "Outliers: 1\n",
      "Outliers: 558\n",
      "Outliers: 1\n",
      "Outliers: 558\n",
      "Outliers: 4\n",
      "Outliers: 1\n",
      "Outliers: 555\n",
      "Outliers: 6\n",
      "Outliers: 1\n",
      "Best Fit:       Vel     sigma        h3        h4\n",
      " comp. 0:     11975      1000    -0.099     0.272\n",
      "chi2/DOF: 2.384\n",
      "Function evaluations: 44 Status: 1\n",
      "Nonzero Templates:  2  /  156\n"
     ]
    },
    {
     "data": {
      "image/png": "[encoded data removed]",
      "text/plain": [
       "<matplotlib.figure.Figure at 0x241e2d1d0>"
      ]
     },
     "metadata": {},
     "output_type": "display_data"
    },
    {
     "name": "stdout",
     "output_type": "stream",
     "text": [
      "stellar velocity offset 208.32787559\n",
      "Outliers: 561\n",
      "Outliers: 9\n",
      "Outliers: 1\n",
      "Outliers: 561\n",
      "Outliers: 9\n",
      "Outliers: 3\n",
      "Outliers: 560\n",
      "Outliers: 7\n",
      "Outliers: 3\n",
      "Outliers: 2\n",
      "Outliers: 553\n",
      "Outliers: 10\n",
      "Outliers: 3\n",
      "Outliers: 548\n",
      "Outliers: 10\n",
      "Outliers: 2\n",
      "Best Fit:       Vel     sigma        h3        h4\n",
      " comp. 0:     11178      1000     0.124     0.139\n",
      "chi2/DOF: 2.044\n",
      "Function evaluations: 52 Status: 1\n",
      "Nonzero Templates:  2  /  156\n"
     ]
    },
    {
     "data": {
      "image/png": "[encoded data removed]",
      "text/plain": [
       "<matplotlib.figure.Figure at 0x241fc6940>"
      ]
     },
     "metadata": {},
     "output_type": "display_data"
    },
    {
     "name": "stdout",
     "output_type": "stream",
     "text": [
      "stellar velocity offset -559.013803542\n",
      "Outliers: 554\n",
      "Outliers: 8\n",
      "Outliers: 556\n",
      "Outliers: 6\n",
      "Outliers: 1\n",
      "Outliers: 552\n",
      "Outliers: 6\n",
      "Outliers: 1\n",
      "Outliers: 550\n",
      "Outliers: 4\n",
      "Outliers: 550\n",
      "Outliers: 2\n",
      "Best Fit:       Vel     sigma        h3        h4\n",
      " comp. 0:     11934      1000    -0.154     0.300\n",
      "chi2/DOF: 2.302\n",
      "Function evaluations: 42 Status: 1\n",
      "Nonzero Templates:  3  /  156\n"
     ]
    },
    {
     "data": {
      "image/png": "[encoded data removed]",
      "text/plain": [
       "<matplotlib.figure.Figure at 0x24307be48>"
      ]
     },
     "metadata": {},
     "output_type": "display_data"
    },
    {
     "name": "stdout",
     "output_type": "stream",
     "text": [
      "stellar velocity offset 169.348185589\n",
      "Outliers: 544\n",
      "Outliers: 4\n",
      "Outliers: 3\n",
      "Outliers: 547\n",
      "Outliers: 5\n",
      "Outliers: 1\n",
      "Outliers: 543\n",
      "Outliers: 5\n",
      "Outliers: 1\n",
      "Outliers: 1\n",
      "Outliers: 1\n",
      "Outliers: 1\n",
      "Outliers: 542\n",
      "Outliers: 5\n",
      "Outliers: 2\n",
      "Outliers: 1\n",
      "Outliers: 541\n",
      "Outliers: 5\n",
      "Outliers: 3\n",
      "Outliers: 1\n",
      "Best Fit:       Vel     sigma        h3        h4\n",
      " comp. 0:     11374      1000    -0.002     0.300\n",
      "chi2/DOF: 2.316\n",
      "Function evaluations: 47 Status: 1\n",
      "Nonzero Templates:  3  /  156\n"
     ]
    },
    {
     "data": {
      "image/png": "[encoded data removed]",
      "text/plain": [
       "<matplotlib.figure.Figure at 0x241bc0e48>"
      ]
     },
     "metadata": {},
     "output_type": "display_data"
    },
    {
     "name": "stdout",
     "output_type": "stream",
     "text": [
      "stellar velocity offset -369.716252988\n",
      "Outliers: 553\n",
      "Outliers: 4\n",
      "Outliers: 554\n",
      "Outliers: 3\n",
      "Outliers: 1\n",
      "Outliers: 554\n",
      "Outliers: 3\n",
      "Outliers: 1\n",
      "Outliers: 553\n",
      "Outliers: 3\n",
      "Outliers: 1\n",
      "Outliers: 553\n",
      "Outliers: 3\n",
      "Outliers: 1\n",
      "Best Fit:       Vel     sigma        h3        h4\n",
      " comp. 0:     11724       205     0.108    -0.084\n",
      "chi2/DOF: 2.816\n",
      "Function evaluations: 34 Status: 1\n",
      "Nonzero Templates:  3  /  156\n"
     ]
    },
    {
     "data": {
      "image/png": "[encoded data removed]",
      "text/plain": [
       "<matplotlib.figure.Figure at 0x2416e2a58>"
      ]
     },
     "metadata": {},
     "output_type": "display_data"
    },
    {
     "name": "stdout",
     "output_type": "stream",
     "text": [
      "stellar velocity offset -32.7354128985\n",
      "Outliers: 514\n",
      "Outliers: 4\n",
      "Outliers: 1\n",
      "Outliers: 1\n",
      "Outliers: 1\n",
      "Outliers: 514\n",
      "Outliers: 8\n",
      "Outliers: 511\n",
      "Outliers: 11\n",
      "Outliers: 510\n",
      "Outliers: 9\n",
      "Outliers: 2\n",
      "Outliers: 1\n",
      "Outliers: 1\n",
      "Outliers: 507\n",
      "Outliers: 12\n",
      "Outliers: 2\n",
      "Outliers: 1\n",
      "Best Fit:       Vel     sigma        h3        h4\n",
      " comp. 0:     12065      1000    -0.087     0.298\n",
      "chi2/DOF: 2.292\n",
      "Function evaluations: 47 Status: 1\n",
      "Nonzero Templates:  2  /  156\n"
     ]
    },
    {
     "data": {
      "image/png": "[encoded data removed]",
      "text/plain": [
       "<matplotlib.figure.Figure at 0x240bbfda0>"
      ]
     },
     "metadata": {},
     "output_type": "display_data"
    },
    {
     "name": "stdout",
     "output_type": "stream",
     "text": [
      "stellar velocity offset 294.608895999\n",
      "Outliers: 520\n",
      "Outliers: 10\n",
      "Outliers: 3\n",
      "Outliers: 521\n",
      "Outliers: 4\n",
      "Outliers: 3\n",
      "Outliers: 519\n",
      "Outliers: 7\n",
      "Outliers: 3\n",
      "Outliers: 517\n",
      "Outliers: 7\n",
      "Outliers: 2\n",
      "Outliers: 516\n",
      "Outliers: 7\n",
      "Outliers: 2\n",
      "Best Fit:       Vel     sigma        h3        h4\n",
      " comp. 0:     11909      1000    -0.048     0.232\n",
      "chi2/DOF: 2.422\n",
      "Function evaluations: 47 Status: 1\n",
      "Nonzero Templates:  2  /  156\n"
     ]
    },
    {
     "data": {
      "image/png": "[encoded data removed]",
      "text/plain": [
       "<matplotlib.figure.Figure at 0x241be2fd0>"
      ]
     },
     "metadata": {},
     "output_type": "display_data"
    },
    {
     "name": "stdout",
     "output_type": "stream",
     "text": [
      "stellar velocity offset 144.65553344\n",
      "Outliers: 469\n",
      "Outliers: 8\n",
      "Outliers: 5\n",
      "Outliers: 3\n",
      "Outliers: 2\n",
      "Outliers: 1\n",
      "Outliers: 1\n",
      "Outliers: 1\n",
      "Outliers: 1\n",
      "Outliers: 465\n",
      "Outliers: 7\n",
      "Outliers: 4\n",
      "Outliers: 4\n",
      "Outliers: 2\n",
      "Outliers: 451\n",
      "Outliers: 9\n",
      "Outliers: 8\n",
      "Outliers: 2\n",
      "Outliers: 1\n",
      "Outliers: 447\n",
      "Outliers: 11\n",
      "Outliers: 5\n",
      "Outliers: 2\n",
      "Outliers: 1\n",
      "Outliers: 2\n",
      "Outliers: 443\n",
      "Outliers: 11\n",
      "Outliers: 6\n",
      "Outliers: 3\n",
      "Best Fit:       Vel     sigma        h3        h4\n",
      " comp. 0:     10922      1000     0.020     0.290\n",
      "chi2/DOF: 2.568\n",
      "Function evaluations: 52 Status: 1\n",
      "Nonzero Templates:  2  /  156\n"
     ]
    },
    {
     "data": {
      "image/png": "[encoded data removed]",
      "text/plain": [
       "<matplotlib.figure.Figure at 0x2418d56d8>"
      ]
     },
     "metadata": {},
     "output_type": "display_data"
    },
    {
     "name": "stdout",
     "output_type": "stream",
     "text": [
      "stellar velocity offset -805.794244966\n",
      "Outliers: 341\n",
      "Outliers: 4\n",
      "Outliers: 2\n",
      "Outliers: 344\n",
      "Outliers: 3\n",
      "Outliers: 1\n",
      "Outliers: 344\n",
      "Outliers: 4\n",
      "Best Fit:       Vel     sigma        h3        h4\n",
      " comp. 0:     11738      1000    -0.186     0.014\n",
      "chi2/DOF: 1.767\n",
      "Function evaluations: 37 Status: 1\n",
      "Nonzero Templates:  3  /  156\n"
     ]
    },
    {
     "data": {
      "image/png": "[encoded data removed]",
      "text/plain": [
       "<matplotlib.figure.Figure at 0x2408ed860>"
      ]
     },
     "metadata": {},
     "output_type": "display_data"
    },
    {
     "name": "stdout",
     "output_type": "stream",
     "text": [
      "stellar velocity offset -19.4046013378\n",
      "Outliers: 362\n",
      "Outliers: 10\n",
      "Outliers: 2\n",
      "Outliers: 2\n",
      "Outliers: 369\n",
      "Outliers: 8\n",
      "Outliers: 2\n",
      "Outliers: 368\n",
      "Outliers: 9\n",
      "Outliers: 2\n",
      "Outliers: 370\n",
      "Outliers: 8\n",
      "Outliers: 2\n",
      "Outliers: 1\n",
      "Outliers: 369\n",
      "Outliers: 9\n",
      "Outliers: 1\n",
      "Best Fit:       Vel     sigma        h3        h4\n",
      " comp. 0:     11760      1000    -0.183     0.099\n",
      "chi2/DOF: 1.693\n",
      "Function evaluations: 42 Status: 1\n",
      "Nonzero Templates:  2  /  156\n"
     ]
    },
    {
     "data": {
      "image/png": "[encoded data removed]",
      "text/plain": [
       "<matplotlib.figure.Figure at 0x241b2f630>"
      ]
     },
     "metadata": {},
     "output_type": "display_data"
    },
    {
     "name": "stdout",
     "output_type": "stream",
     "text": [
      "stellar velocity offset 1.7857007762\n",
      "Outliers: 359\n",
      "Outliers: 6\n",
      "Outliers: 2\n",
      "Outliers: 2\n",
      "Outliers: 2\n",
      "Outliers: 358\n",
      "Outliers: 3\n",
      "Outliers: 5\n",
      "Outliers: 2\n",
      "Outliers: 1\n",
      "Outliers: 1\n",
      "Outliers: 359\n",
      "Outliers: 4\n",
      "Outliers: 3\n",
      "Outliers: 2\n",
      "Outliers: 2\n",
      "Outliers: 359\n",
      "Outliers: 6\n",
      "Outliers: 4\n",
      "Outliers: 356\n",
      "Outliers: 10\n",
      "Outliers: 3\n",
      "Outliers: 1\n",
      "Best Fit:       Vel     sigma        h3        h4\n",
      " comp. 0:     11508      1000    -0.128     0.182\n",
      "chi2/DOF: 1.756\n",
      "Function evaluations: 37 Status: 1\n",
      "Nonzero Templates:  2  /  156\n"
     ]
    },
    {
     "data": {
      "image/png": "[encoded data removed]",
      "text/plain": [
       "<matplotlib.figure.Figure at 0x2414095f8>"
      ]
     },
     "metadata": {},
     "output_type": "display_data"
    },
    {
     "name": "stdout",
     "output_type": "stream",
     "text": [
      "stellar velocity offset -241.102290476\n",
      "Outliers: 378\n",
      "Outliers: 6\n",
      "Outliers: 1\n",
      "Outliers: 382\n",
      "Outliers: 6\n",
      "Outliers: 1\n",
      "Outliers: 378\n",
      "Outliers: 9\n",
      "Outliers: 1\n",
      "Outliers: 376\n",
      "Outliers: 10\n",
      "Outliers: 1\n",
      "Outliers: 381\n",
      "Outliers: 7\n",
      "Outliers: 2\n",
      "Outliers: 1\n",
      "Best Fit:       Vel     sigma        h3        h4\n",
      " comp. 0:     11587      1000    -0.087     0.115\n",
      "chi2/DOF: 1.662\n",
      "Function evaluations: 37 Status: 1\n",
      "Nonzero Templates:  4  /  156\n"
     ]
    },
    {
     "data": {
      "image/png": "[encoded data removed]",
      "text/plain": [
       "<matplotlib.figure.Figure at 0x2408e2748>"
      ]
     },
     "metadata": {},
     "output_type": "display_data"
    },
    {
     "name": "stdout",
     "output_type": "stream",
     "text": [
      "stellar velocity offset -164.176141704\n",
      "Outliers: 352\n",
      "Outliers: 10\n",
      "Outliers: 1\n",
      "Outliers: 352\n",
      "Outliers: 9\n",
      "Outliers: 2\n",
      "Outliers: 352\n",
      "Outliers: 5\n",
      "Outliers: 4\n",
      "Outliers: 2\n",
      "Outliers: 1\n",
      "Outliers: 1\n",
      "Outliers: 351\n",
      "Outliers: 7\n",
      "Outliers: 3\n",
      "Outliers: 2\n",
      "Outliers: 1\n",
      "Outliers: 352\n",
      "Outliers: 7\n",
      "Outliers: 3\n",
      "Outliers: 2\n",
      "Outliers: 2\n",
      "Best Fit:       Vel     sigma        h3        h4\n",
      " comp. 0:     11601      1000    -0.143     0.082\n",
      "chi2/DOF: 1.624\n",
      "Function evaluations: 37 Status: 1\n",
      "Nonzero Templates:  2  /  156\n"
     ]
    },
    {
     "data": {
      "image/png": "[encoded data removed]",
      "text/plain": [
       "<matplotlib.figure.Figure at 0x2408121d0>"
      ]
     },
     "metadata": {},
     "output_type": "display_data"
    },
    {
     "name": "stdout",
     "output_type": "stream",
     "text": [
      "stellar velocity offset -150.701354734\n",
      "Outliers: 337\n",
      "Outliers: 2\n",
      "Outliers: 336\n",
      "Outliers: 3\n",
      "Outliers: 1\n",
      "Outliers: 1\n",
      "Outliers: 338\n",
      "Outliers: 1\n",
      "Outliers: 339\n",
      "Outliers: 2\n",
      "Outliers: 339\n",
      "Outliers: 2\n",
      "Best Fit:       Vel     sigma        h3        h4\n",
      " comp. 0:     11722      1000    -0.212     0.051\n",
      "chi2/DOF: 1.926\n",
      "Function evaluations: 32 Status: 1\n",
      "Nonzero Templates:  2  /  156\n"
     ]
    },
    {
     "data": {
      "image/png": "[encoded data removed]",
      "text/plain": [
       "<matplotlib.figure.Figure at 0x241ce9400>"
      ]
     },
     "metadata": {},
     "output_type": "display_data"
    },
    {
     "name": "stdout",
     "output_type": "stream",
     "text": [
      "stellar velocity offset -34.2248033124\n",
      "Outliers: 335\n",
      "Outliers: 333\n",
      "Outliers: 1\n",
      "Outliers: 333\n",
      "Outliers: 2\n",
      "Outliers: 331\n",
      "Outliers: 2\n",
      "Outliers: 331\n",
      "Outliers: 3\n",
      "Outliers: 1\n",
      "Best Fit:       Vel     sigma        h3        h4\n",
      " comp. 0:     11741      1000    -0.204     0.072\n",
      "chi2/DOF: 1.844\n",
      "Function evaluations: 32 Status: 1\n",
      "Nonzero Templates:  3  /  156\n"
     ]
    },
    {
     "data": {
      "image/png": "[encoded data removed]",
      "text/plain": [
       "<matplotlib.figure.Figure at 0x241cc6ef0>"
      ]
     },
     "metadata": {},
     "output_type": "display_data"
    },
    {
     "name": "stdout",
     "output_type": "stream",
     "text": [
      "stellar velocity offset -16.2160717531\n",
      "Outliers: 333\n",
      "Outliers: 1\n",
      "Outliers: 331\n",
      "Outliers: 1\n",
      "Outliers: 330\n",
      "Outliers: 1\n",
      "Outliers: 331\n",
      "Outliers: 332\n",
      "Best Fit:       Vel     sigma        h3        h4\n",
      " comp. 0:     11767      1000    -0.206     0.093\n",
      "chi2/DOF: 1.925\n",
      "Function evaluations: 42 Status: 1\n",
      "Nonzero Templates:  3  /  156\n"
     ]
    },
    {
     "data": {
      "image/png": "[encoded data removed]",
      "text/plain": [
       "<matplotlib.figure.Figure at 0x24111c828>"
      ]
     },
     "metadata": {},
     "output_type": "display_data"
    },
    {
     "name": "stdout",
     "output_type": "stream",
     "text": [
      "stellar velocity offset 8.96624631264\n",
      "Outliers: 368\n",
      "Outliers: 8\n",
      "Outliers: 4\n",
      "Outliers: 1\n",
      "Outliers: 1\n",
      "Outliers: 369\n",
      "Outliers: 6\n",
      "Outliers: 6\n",
      "Outliers: 369\n",
      "Outliers: 8\n",
      "Outliers: 1\n",
      "Outliers: 1\n",
      "Outliers: 2\n",
      "Outliers: 1\n",
      "Outliers: 372\n",
      "Outliers: 10\n",
      "Outliers: 1\n",
      "Outliers: 374\n",
      "Outliers: 10\n",
      "Outliers: 3\n",
      "Outliers: 1\n",
      "Best Fit:       Vel     sigma        h3        h4\n",
      " comp. 0:     11608      1000    -0.143     0.132\n",
      "chi2/DOF: 1.691\n",
      "Function evaluations: 47 Status: 1\n",
      "Nonzero Templates:  2  /  156\n"
     ]
    },
    {
     "data": {
      "image/png": "[encoded data removed]",
      "text/plain": [
       "<matplotlib.figure.Figure at 0x24114dcc0>"
      ]
     },
     "metadata": {},
     "output_type": "display_data"
    },
    {
     "name": "stdout",
     "output_type": "stream",
     "text": [
      "stellar velocity offset -144.15285856\n",
      "Outliers: 334\n",
      "Outliers: 3\n",
      "Outliers: 1\n",
      "Outliers: 332\n",
      "Outliers: 4\n",
      "Outliers: 2\n",
      "Outliers: 330\n",
      "Outliers: 6\n",
      "Outliers: 1\n",
      "Outliers: 331\n",
      "Outliers: 6\n",
      "Best Fit:       Vel     sigma        h3        h4\n",
      " comp. 0:     11768      1000    -0.250     0.183\n",
      "chi2/DOF: 1.791\n",
      "Function evaluations: 51 Status: 1\n",
      "Nonzero Templates:  2  /  156\n"
     ]
    },
    {
     "data": {
      "image/png": "[encoded data removed]",
      "text/plain": [
       "<matplotlib.figure.Figure at 0x2408e2198>"
      ]
     },
     "metadata": {},
     "output_type": "display_data"
    },
    {
     "name": "stdout",
     "output_type": "stream",
     "text": [
      "stellar velocity offset 9.68113186302\n",
      "Outliers: 410\n",
      "Outliers: 7\n",
      "Outliers: 5\n",
      "Outliers: 2\n",
      "Outliers: 4\n",
      "Outliers: 3\n",
      "Outliers: 1\n",
      "Outliers: 413\n",
      "Outliers: 9\n",
      "Outliers: 1\n",
      "Outliers: 418\n",
      "Outliers: 6\n",
      "Outliers: 4\n",
      "Outliers: 2\n",
      "Outliers: 2\n",
      "Outliers: 415\n",
      "Outliers: 7\n",
      "Outliers: 3\n",
      "Outliers: 4\n",
      "Outliers: 413\n",
      "Outliers: 8\n",
      "Outliers: 4\n",
      "Outliers: 2\n",
      "Outliers: 3\n",
      "Best Fit:       Vel     sigma        h3        h4\n",
      " comp. 0:     11679      1000    -0.146     0.272\n",
      "chi2/DOF: 1.447\n",
      "Function evaluations: 47 Status: 1\n",
      "Nonzero Templates:  2  /  156\n"
     ]
    },
    {
     "data": {
      "image/png": "[encoded data removed]",
      "text/plain": [
       "<matplotlib.figure.Figure at 0x24187aba8>"
      ]
     },
     "metadata": {},
     "output_type": "display_data"
    },
    {
     "name": "stdout",
     "output_type": "stream",
     "text": [
      "stellar velocity offset -76.3251201237\n",
      "Outliers: 389\n",
      "Outliers: 10\n",
      "Outliers: 7\n",
      "Outliers: 5\n",
      "Outliers: 1\n",
      "Outliers: 2\n",
      "Outliers: 1\n",
      "Outliers: 393\n",
      "Outliers: 10\n",
      "Outliers: 8\n",
      "Outliers: 4\n",
      "Outliers: 3\n",
      "Outliers: 393\n",
      "Outliers: 11\n",
      "Outliers: 5\n",
      "Outliers: 6\n",
      "Outliers: 2\n",
      "Outliers: 1\n",
      "Outliers: 1\n",
      "Outliers: 395\n",
      "Outliers: 12\n",
      "Outliers: 3\n",
      "Outliers: 3\n",
      "Outliers: 2\n",
      "Outliers: 2\n",
      "Outliers: 1\n",
      "Outliers: 398\n",
      "Outliers: 13\n",
      "Outliers: 2\n",
      "Outliers: 3\n",
      "Outliers: 2\n",
      "Outliers: 1\n",
      "Outliers: 2\n",
      "Outliers: 2\n",
      "Outliers: 2\n",
      "Best Fit:       Vel     sigma        h3        h4\n",
      " comp. 0:     11785      1000    -0.124     0.217\n",
      "chi2/DOF: 1.735\n",
      "Function evaluations: 42 Status: 1\n",
      "Nonzero Templates:  3  /  156\n"
     ]
    },
    {
     "data": {
      "image/png": "[encoded data removed]",
      "text/plain": [
       "<matplotlib.figure.Figure at 0x2409944a8>"
      ]
     },
     "metadata": {},
     "output_type": "display_data"
    },
    {
     "name": "stdout",
     "output_type": "stream",
     "text": [
      "stellar velocity offset 25.6463881452\n",
      "Outliers: 525\n",
      "Outliers: 7\n",
      "Outliers: 2\n",
      "Outliers: 519\n",
      "Outliers: 4\n",
      "Outliers: 2\n",
      "Outliers: 1\n",
      "Outliers: 514\n",
      "Outliers: 6\n",
      "Outliers: 2\n",
      "Outliers: 504\n",
      "Outliers: 7\n",
      "Outliers: 2\n",
      "Outliers: 504\n",
      "Outliers: 4\n",
      "Best Fit:       Vel     sigma        h3        h4\n",
      " comp. 0:     10835      1000     0.092     0.300\n",
      "chi2/DOF: 2.524\n",
      "Function evaluations: 52 Status: 1\n",
      "Nonzero Templates:  3  /  156\n"
     ]
    },
    {
     "data": {
      "image/png": "[encoded data removed]",
      "text/plain": [
       "<matplotlib.figure.Figure at 0x243204160>"
      ]
     },
     "metadata": {},
     "output_type": "display_data"
    },
    {
     "name": "stdout",
     "output_type": "stream",
     "text": [
      "stellar velocity offset -890.515446557\n",
      "Outliers: 562\n",
      "Outliers: 9\n",
      "Outliers: 2\n",
      "Outliers: 564\n",
      "Outliers: 9\n",
      "Outliers: 2\n",
      "Outliers: 558\n",
      "Outliers: 8\n",
      "Outliers: 3\n",
      "Outliers: 554\n",
      "Outliers: 9\n",
      "Outliers: 549\n",
      "Outliers: 10\n",
      "Outliers: 1\n",
      "Best Fit:       Vel     sigma        h3        h4\n",
      " comp. 0:     11159       978     0.109     0.092\n",
      "chi2/DOF: 2.027\n",
      "Function evaluations: 52 Status: 1\n",
      "Nonzero Templates:  2  /  156\n"
     ]
    },
    {
     "data": {
      "image/png": "[encoded data removed]",
      "text/plain": [
       "<matplotlib.figure.Figure at 0x240fd8da0>"
      ]
     },
     "metadata": {},
     "output_type": "display_data"
    },
    {
     "name": "stdout",
     "output_type": "stream",
     "text": [
      "stellar velocity offset -577.368219801\n",
      "Outliers: 556\n",
      "Outliers: 6\n",
      "Outliers: 2\n",
      "Outliers: 2\n",
      "Outliers: 1\n",
      "Outliers: 554\n",
      "Outliers: 8\n",
      "Outliers: 3\n",
      "Outliers: 1\n",
      "Outliers: 554\n",
      "Outliers: 7\n",
      "Outliers: 2\n",
      "Outliers: 2\n",
      "Outliers: 1\n",
      "Outliers: 1\n",
      "Outliers: 550\n",
      "Outliers: 8\n",
      "Outliers: 3\n",
      "Outliers: 2\n",
      "Outliers: 550\n",
      "Outliers: 7\n",
      "Outliers: 4\n",
      "Outliers: 1\n",
      "Best Fit:       Vel     sigma        h3        h4\n",
      " comp. 0:     11560      1000    -0.015     0.131\n",
      "chi2/DOF: 2.095\n",
      "Function evaluations: 47 Status: 1\n",
      "Nonzero Templates:  2  /  156\n"
     ]
    },
    {
     "data": {
      "image/png": "[encoded data removed]",
      "text/plain": [
       "<matplotlib.figure.Figure at 0x24111c8d0>"
      ]
     },
     "metadata": {},
     "output_type": "display_data"
    },
    {
     "name": "stdout",
     "output_type": "stream",
     "text": [
      "stellar velocity offset -190.963617229\n",
      "Outliers: 546\n",
      "Outliers: 9\n",
      "Outliers: 2\n",
      "Outliers: 1\n",
      "Outliers: 1\n",
      "Outliers: 548\n",
      "Outliers: 7\n",
      "Outliers: 4\n",
      "Outliers: 544\n",
      "Outliers: 8\n",
      "Outliers: 2\n",
      "Outliers: 542\n",
      "Outliers: 7\n",
      "Outliers: 5\n",
      "Outliers: 542\n",
      "Outliers: 5\n",
      "Outliers: 2\n",
      "Best Fit:       Vel     sigma        h3        h4\n",
      " comp. 0:     11404      1000     0.050     0.137\n",
      "chi2/DOF: 2.191\n",
      "Function evaluations: 52 Status: 1\n",
      "Nonzero Templates:  2  /  156\n"
     ]
    },
    {
     "data": {
      "image/png": "[encoded data removed]",
      "text/plain": [
       "<matplotlib.figure.Figure at 0x241dd39e8>"
      ]
     },
     "metadata": {},
     "output_type": "display_data"
    },
    {
     "name": "stdout",
     "output_type": "stream",
     "text": [
      "stellar velocity offset -341.178022002\n",
      "Outliers: 574\n",
      "Outliers: 5\n",
      "Outliers: 4\n",
      "Outliers: 2\n",
      "Outliers: 1\n",
      "Outliers: 574\n",
      "Outliers: 5\n",
      "Outliers: 564\n",
      "Outliers: 8\n",
      "Outliers: 2\n",
      "Outliers: 563\n",
      "Outliers: 6\n",
      "Outliers: 3\n",
      "Outliers: 560\n",
      "Outliers: 9\n",
      "Outliers: 2\n",
      "Best Fit:       Vel     sigma        h3        h4\n",
      " comp. 0:     11954       990    -0.090     0.261\n",
      "chi2/DOF: 2.065\n",
      "Function evaluations: 37 Status: 1\n",
      "Nonzero Templates:  2  /  156\n"
     ]
    },
    {
     "data": {
      "image/png": "[encoded data removed]",
      "text/plain": [
       "<matplotlib.figure.Figure at 0x28755c8d0>"
      ]
     },
     "metadata": {},
     "output_type": "display_data"
    },
    {
     "name": "stdout",
     "output_type": "stream",
     "text": [
      "stellar velocity offset 188.382556953\n",
      "Outliers: 573\n",
      "Outliers: 11\n",
      "Outliers: 2\n",
      "Outliers: 572\n",
      "Outliers: 10\n",
      "Outliers: 2\n",
      "Outliers: 567\n",
      "Outliers: 8\n",
      "Outliers: 3\n",
      "Outliers: 1\n",
      "Outliers: 564\n",
      "Outliers: 8\n",
      "Outliers: 2\n",
      "Outliers: 567\n",
      "Outliers: 3\n",
      "Outliers: 3\n",
      "Outliers: 1\n",
      "Best Fit:       Vel     sigma        h3        h4\n",
      " comp. 0:     11973       984    -0.136     0.300\n",
      "chi2/DOF: 1.924\n",
      "Function evaluations: 49 Status: 1\n",
      "Nonzero Templates:  3  /  156\n"
     ]
    },
    {
     "data": {
      "image/png": "[encoded data removed]",
      "text/plain": [
       "<matplotlib.figure.Figure at 0x241b27588>"
      ]
     },
     "metadata": {},
     "output_type": "display_data"
    },
    {
     "name": "stdout",
     "output_type": "stream",
     "text": [
      "stellar velocity offset 206.147745477\n",
      "Outliers: 529\n",
      "Outliers: 11\n",
      "Outliers: 5\n",
      "Outliers: 2\n",
      "Outliers: 527\n",
      "Outliers: 12\n",
      "Outliers: 4\n",
      "Outliers: 2\n",
      "Outliers: 527\n",
      "Outliers: 10\n",
      "Outliers: 6\n",
      "Outliers: 2\n",
      "Outliers: 526\n",
      "Outliers: 12\n",
      "Outliers: 4\n",
      "Outliers: 526\n",
      "Outliers: 9\n",
      "Outliers: 7\n",
      "Outliers: 1\n",
      "Best Fit:       Vel     sigma        h3        h4\n",
      " comp. 0:     11663      1000    -0.056     0.087\n",
      "chi2/DOF: 2.202\n",
      "Function evaluations: 57 Status: 1\n",
      "Nonzero Templates:  2  /  156\n"
     ]
    },
    {
     "data": {
      "image/png": "[encoded data removed]",
      "text/plain": [
       "<matplotlib.figure.Figure at 0x241827780>"
      ]
     },
     "metadata": {},
     "output_type": "display_data"
    },
    {
     "name": "stdout",
     "output_type": "stream",
     "text": [
      "stellar velocity offset -91.9108725251\n",
      "Outliers: 496\n",
      "Outliers: 6\n",
      "Outliers: 3\n",
      "Outliers: 3\n",
      "Outliers: 4\n",
      "Outliers: 2\n",
      "Outliers: 2\n",
      "Outliers: 3\n",
      "Outliers: 5\n",
      "Outliers: 494\n",
      "Outliers: 10\n",
      "Outliers: 4\n",
      "Outliers: 3\n",
      "Outliers: 3\n",
      "Outliers: 3\n",
      "Outliers: 4\n",
      "Outliers: 488\n",
      "Outliers: 10\n",
      "Outliers: 3\n",
      "Outliers: 5\n",
      "Outliers: 3\n",
      "Outliers: 4\n",
      "Outliers: 3\n",
      "Outliers: 486\n",
      "Outliers: 12\n",
      "Outliers: 3\n",
      "Outliers: 2\n",
      "Outliers: 1\n",
      "Outliers: 5\n",
      "Outliers: 2\n",
      "Outliers: 1\n",
      "Outliers: 486\n",
      "Outliers: 11\n",
      "Outliers: 3\n",
      "Outliers: 3\n",
      "Best Fit:       Vel     sigma        h3        h4\n",
      " comp. 0:     11061      1000     0.035     0.300\n",
      "chi2/DOF: 2.207\n",
      "Function evaluations: 52 Status: 1\n",
      "Nonzero Templates:  3  /  156\n"
     ]
    },
    {
     "data": {
      "image/png": "[encoded data removed]",
      "text/plain": [
       "<matplotlib.figure.Figure at 0x272783dd8>"
      ]
     },
     "metadata": {},
     "output_type": "display_data"
    },
    {
     "name": "stdout",
     "output_type": "stream",
     "text": [
      "stellar velocity offset -672.133380598\n",
      "Outliers: 344\n",
      "Outliers: 8\n",
      "Outliers: 1\n",
      "Outliers: 1\n",
      "Outliers: 346\n",
      "Outliers: 8\n",
      "Outliers: 346\n",
      "Outliers: 9\n",
      "Outliers: 3\n",
      "Outliers: 1\n",
      "Outliers: 348\n",
      "Outliers: 10\n",
      "Outliers: 2\n",
      "Outliers: 1\n",
      "Outliers: 347\n",
      "Outliers: 10\n",
      "Outliers: 3\n",
      "Best Fit:       Vel     sigma        h3        h4\n",
      " comp. 0:     11599      1000    -0.147     0.063\n",
      "chi2/DOF: 1.669\n",
      "Function evaluations: 37 Status: 1\n",
      "Nonzero Templates:  3  /  156\n"
     ]
    },
    {
     "data": {
      "image/png": "[encoded data removed]",
      "text/plain": [
       "<matplotlib.figure.Figure at 0x1113390f0>"
      ]
     },
     "metadata": {},
     "output_type": "display_data"
    },
    {
     "name": "stdout",
     "output_type": "stream",
     "text": [
      "stellar velocity offset -153.489645553\n",
      "Outliers: 351\n",
      "Outliers: 8\n",
      "Outliers: 3\n",
      "Outliers: 343\n",
      "Outliers: 9\n",
      "Outliers: 3\n",
      "Outliers: 342\n",
      "Outliers: 8\n",
      "Outliers: 2\n",
      "Outliers: 343\n",
      "Outliers: 8\n",
      "Outliers: 2\n",
      "Outliers: 342\n",
      "Outliers: 8\n",
      "Best Fit:       Vel     sigma        h3        h4\n",
      " comp. 0:     11674      1000    -0.163     0.008\n",
      "chi2/DOF: 1.746\n",
      "Function evaluations: 37 Status: 1\n",
      "Nonzero Templates:  3  /  156\n"
     ]
    },
    {
     "data": {
      "image/png": "[encoded data removed]",
      "text/plain": [
       "<matplotlib.figure.Figure at 0x240884588>"
      ]
     },
     "metadata": {},
     "output_type": "display_data"
    },
    {
     "name": "stdout",
     "output_type": "stream",
     "text": [
      "stellar velocity offset -80.5058445462\n",
      "Outliers: 338\n",
      "Outliers: 4\n",
      "Outliers: 1\n",
      "Outliers: 338\n",
      "Outliers: 4\n",
      "Outliers: 1\n",
      "Outliers: 340\n",
      "Outliers: 4\n",
      "Outliers: 1\n",
      "Outliers: 341\n",
      "Outliers: 5\n",
      "Outliers: 1\n",
      "Outliers: 342\n",
      "Outliers: 4\n",
      "Best Fit:       Vel     sigma        h3        h4\n",
      " comp. 0:     11744      1000    -0.207     0.062\n",
      "chi2/DOF: 1.834\n",
      "Function evaluations: 37 Status: 1\n",
      "Nonzero Templates:  4  /  156\n"
     ]
    },
    {
     "data": {
      "image/png": "[encoded data removed]",
      "text/plain": [
       "<matplotlib.figure.Figure at 0x2409eaf28>"
      ]
     },
     "metadata": {},
     "output_type": "display_data"
    },
    {
     "name": "stdout",
     "output_type": "stream",
     "text": [
      "stellar velocity offset -13.3360607195\n",
      "Outliers: 354\n",
      "Outliers: 8\n",
      "Outliers: 354\n",
      "Outliers: 8\n",
      "Outliers: 1\n",
      "Outliers: 352\n",
      "Outliers: 9\n",
      "Outliers: 1\n",
      "Outliers: 1\n",
      "Outliers: 1\n",
      "Outliers: 352\n",
      "Outliers: 7\n",
      "Outliers: 4\n",
      "Outliers: 1\n",
      "Outliers: 355\n",
      "Outliers: 6\n",
      "Outliers: 1\n",
      "Outliers: 1\n",
      "Outliers: 1\n",
      "Best Fit:       Vel     sigma        h3        h4\n",
      " comp. 0:     11706      1000    -0.156     0.096\n",
      "chi2/DOF: 1.699\n",
      "Function evaluations: 37 Status: 1\n",
      "Nonzero Templates:  3  /  156\n"
     ]
    },
    {
     "data": {
      "image/png": "[encoded data removed]",
      "text/plain": [
       "<matplotlib.figure.Figure at 0x241ac88d0>"
      ]
     },
     "metadata": {},
     "output_type": "display_data"
    },
    {
     "name": "stdout",
     "output_type": "stream",
     "text": [
      "stellar velocity offset -49.7370830407\n",
      "Outliers: 350\n",
      "Outliers: 6\n",
      "Outliers: 2\n",
      "Outliers: 2\n",
      "Outliers: 350\n",
      "Outliers: 5\n",
      "Outliers: 2\n",
      "Outliers: 1\n",
      "Outliers: 348\n",
      "Outliers: 9\n",
      "Outliers: 4\n",
      "Outliers: 348\n",
      "Outliers: 10\n",
      "Outliers: 3\n",
      "Outliers: 344\n",
      "Outliers: 11\n",
      "Outliers: 3\n",
      "Best Fit:       Vel     sigma        h3        h4\n",
      " comp. 0:     11784      1000    -0.187     0.107\n",
      "chi2/DOF: 1.726\n",
      "Function evaluations: 37 Status: 1\n",
      "Nonzero Templates:  2  /  156\n"
     ]
    },
    {
     "data": {
      "image/png": "[encoded data removed]",
      "text/plain": [
       "<matplotlib.figure.Figure at 0x2410f8c88>"
      ]
     },
     "metadata": {},
     "output_type": "display_data"
    },
    {
     "name": "stdout",
     "output_type": "stream",
     "text": [
      "stellar velocity offset 25.4009543433\n",
      "Outliers: 329\n",
      "Outliers: 1\n",
      "Outliers: 1\n",
      "Outliers: 327\n",
      "Outliers: 1\n",
      "Outliers: 333\n",
      "Outliers: 333\n",
      "Outliers: 333\n",
      "Best Fit:       Vel     sigma        h3        h4\n",
      " comp. 0:     11733      1000    -0.192     0.067\n",
      "chi2/DOF: 1.882\n",
      "Function evaluations: 32 Status: 1\n",
      "Nonzero Templates:  3  /  156\n"
     ]
    },
    {
     "data": {
      "image/png": "[encoded data removed]",
      "text/plain": [
       "<matplotlib.figure.Figure at 0x241d93f28>"
      ]
     },
     "metadata": {},
     "output_type": "display_data"
    },
    {
     "name": "stdout",
     "output_type": "stream",
     "text": [
      "stellar velocity offset -24.2000102326\n",
      "Outliers: 343\n",
      "Outliers: 8\n",
      "Outliers: 5\n",
      "Outliers: 3\n",
      "Outliers: 344\n",
      "Outliers: 5\n",
      "Outliers: 3\n",
      "Outliers: 2\n",
      "Outliers: 2\n",
      "Outliers: 347\n",
      "Outliers: 4\n",
      "Outliers: 4\n",
      "Outliers: 1\n",
      "Outliers: 1\n",
      "Outliers: 1\n",
      "Outliers: 349\n",
      "Outliers: 3\n",
      "Outliers: 1\n",
      "Outliers: 1\n",
      "Outliers: 349\n",
      "Outliers: 6\n",
      "Best Fit:       Vel     sigma        h3        h4\n",
      " comp. 0:     11887      1000    -0.183     0.157\n",
      "chi2/DOF: 1.845\n",
      "Function evaluations: 37 Status: 1\n",
      "Nonzero Templates:  3  /  156\n"
     ]
    },
    {
     "data": {
      "image/png": "[encoded data removed]",
      "text/plain": [
       "<matplotlib.figure.Figure at 0x111339860>"
      ]
     },
     "metadata": {},
     "output_type": "display_data"
    },
    {
     "name": "stdout",
     "output_type": "stream",
     "text": [
      "stellar velocity offset 124.001050631\n",
      "Outliers: 347\n",
      "Outliers: 5\n",
      "Outliers: 3\n",
      "Outliers: 1\n",
      "Outliers: 343\n",
      "Outliers: 9\n",
      "Outliers: 1\n",
      "Outliers: 347\n",
      "Outliers: 9\n",
      "Outliers: 2\n",
      "Outliers: 1\n",
      "Outliers: 346\n",
      "Outliers: 8\n",
      "Outliers: 1\n",
      "Outliers: 346\n",
      "Outliers: 7\n",
      "Outliers: 2\n",
      "Best Fit:       Vel     sigma        h3        h4\n",
      " comp. 0:     11745      1000    -0.178     0.103\n",
      "chi2/DOF: 1.77\n",
      "Function evaluations: 32 Status: 1\n",
      "Nonzero Templates:  3  /  156\n"
     ]
    },
    {
     "data": {
      "image/png": "[encoded data removed]",
      "text/plain": [
       "<matplotlib.figure.Figure at 0x240a37908>"
      ]
     },
     "metadata": {},
     "output_type": "display_data"
    },
    {
     "name": "stdout",
     "output_type": "stream",
     "text": [
      "stellar velocity offset -12.2366427696\n",
      "Outliers: 341\n",
      "Outliers: 5\n",
      "Outliers: 341\n",
      "Outliers: 5\n",
      "Outliers: 2\n",
      "Outliers: 1\n",
      "Outliers: 342\n",
      "Outliers: 4\n",
      "Outliers: 3\n",
      "Outliers: 1\n",
      "Outliers: 1\n",
      "Outliers: 340\n",
      "Outliers: 2\n",
      "Outliers: 1\n",
      "Outliers: 1\n",
      "Outliers: 1\n",
      "Outliers: 1\n",
      "Outliers: 2\n",
      "Outliers: 341\n",
      "Outliers: 1\n",
      "Best Fit:       Vel     sigma        h3        h4\n",
      " comp. 0:     11689      1000    -0.197     0.094\n",
      "chi2/DOF: 1.999\n",
      "Function evaluations: 37 Status: 1\n",
      "Nonzero Templates:  3  /  156\n"
     ]
    },
    {
     "data": {
      "image/png": "[encoded data removed]",
      "text/plain": [
       "<matplotlib.figure.Figure at 0x241cde940>"
      ]
     },
     "metadata": {},
     "output_type": "display_data"
    },
    {
     "name": "stdout",
     "output_type": "stream",
     "text": [
      "stellar velocity offset -66.272673666\n",
      "Outliers: 340\n",
      "Outliers: 4\n",
      "Outliers: 3\n",
      "Outliers: 3\n",
      "Outliers: 2\n",
      "Outliers: 337\n",
      "Outliers: 4\n",
      "Outliers: 2\n",
      "Outliers: 1\n",
      "Outliers: 1\n",
      "Outliers: 1\n",
      "Outliers: 2\n",
      "Outliers: 338\n",
      "Outliers: 3\n",
      "Outliers: 4\n",
      "Outliers: 2\n",
      "Outliers: 339\n",
      "Outliers: 4\n",
      "Outliers: 2\n",
      "Outliers: 2\n",
      "Outliers: 1\n",
      "Outliers: 338\n",
      "Outliers: 3\n",
      "Outliers: 3\n",
      "Best Fit:       Vel     sigma        h3        h4\n",
      " comp. 0:     11814      1000    -0.213     0.081\n",
      "chi2/DOF: 1.869\n",
      "Function evaluations: 37 Status: 1\n",
      "Nonzero Templates:  3  /  156\n"
     ]
    },
    {
     "data": {
      "image/png": "[encoded data removed]",
      "text/plain": [
       "<matplotlib.figure.Figure at 0x241799eb8>"
      ]
     },
     "metadata": {},
     "output_type": "display_data"
    },
    {
     "name": "stdout",
     "output_type": "stream",
     "text": [
      "stellar velocity offset 53.334358742\n",
      "Outliers: 337\n",
      "Outliers: 3\n",
      "Outliers: 1\n",
      "Outliers: 1\n",
      "Outliers: 332\n",
      "Outliers: 5\n",
      "Outliers: 2\n",
      "Outliers: 335\n",
      "Outliers: 4\n",
      "Outliers: 1\n",
      "Outliers: 335\n",
      "Outliers: 5\n",
      "Outliers: 1\n",
      "Outliers: 333\n",
      "Outliers: 8\n",
      "Outliers: 1\n",
      "Best Fit:       Vel     sigma        h3        h4\n",
      " comp. 0:     11815      1000    -0.222     0.108\n",
      "chi2/DOF: 1.776\n",
      "Function evaluations: 42 Status: 1\n",
      "Nonzero Templates:  3  /  156\n"
     ]
    },
    {
     "data": {
      "image/png": "[encoded data removed]",
      "text/plain": [
       "<matplotlib.figure.Figure at 0x10f5488d0>"
      ]
     },
     "metadata": {},
     "output_type": "display_data"
    },
    {
     "name": "stdout",
     "output_type": "stream",
     "text": [
      "stellar velocity offset 55.0719200506\n",
      "Outliers: 349\n",
      "Outliers: 6\n",
      "Outliers: 3\n",
      "Outliers: 2\n",
      "Outliers: 348\n",
      "Outliers: 7\n",
      "Outliers: 2\n",
      "Outliers: 1\n",
      "Outliers: 345\n",
      "Outliers: 6\n",
      "Outliers: 7\n",
      "Outliers: 2\n",
      "Outliers: 345\n",
      "Outliers: 5\n",
      "Outliers: 6\n",
      "Outliers: 1\n",
      "Outliers: 1\n",
      "Outliers: 347\n",
      "Outliers: 6\n",
      "Outliers: 3\n",
      "Outliers: 2\n",
      "Outliers: 2\n",
      "Best Fit:       Vel     sigma        h3        h4\n",
      " comp. 0:     11855      1000    -0.212     0.098\n",
      "chi2/DOF: 1.803\n",
      "Function evaluations: 42 Status: 1\n",
      "Nonzero Templates:  3  /  156\n"
     ]
    },
    {
     "data": {
      "image/png": "[encoded data removed]",
      "text/plain": [
       "<matplotlib.figure.Figure at 0x243b957f0>"
      ]
     },
     "metadata": {},
     "output_type": "display_data"
    },
    {
     "name": "stdout",
     "output_type": "stream",
     "text": [
      "stellar velocity offset 92.9830460278\n",
      "Outliers: 489\n",
      "Outliers: 7\n",
      "Outliers: 5\n",
      "Outliers: 1\n",
      "Outliers: 486\n",
      "Outliers: 9\n",
      "Outliers: 1\n",
      "Outliers: 484\n",
      "Outliers: 7\n",
      "Outliers: 2\n",
      "Outliers: 1\n",
      "Outliers: 1\n",
      "Outliers: 476\n",
      "Outliers: 12\n",
      "Outliers: 3\n",
      "Outliers: 1\n",
      "Outliers: 1\n",
      "Outliers: 1\n",
      "Outliers: 473\n",
      "Outliers: 9\n",
      "Outliers: 5\n",
      "Outliers: 4\n",
      "Best Fit:       Vel     sigma        h3        h4\n",
      " comp. 0:     10982      1000    -0.084     0.014\n",
      "chi2/DOF: 2.737\n",
      "Function evaluations: 62 Status: 1\n",
      "Nonzero Templates:  3  /  156\n"
     ]
    },
    {
     "data": {
      "image/png": "[encoded data removed]",
      "text/plain": [
       "<matplotlib.figure.Figure at 0x2412627b8>"
      ]
     },
     "metadata": {},
     "output_type": "display_data"
    },
    {
     "name": "stdout",
     "output_type": "stream",
     "text": [
      "stellar velocity offset -747.776062677\n",
      "Outliers: 544\n",
      "Outliers: 10\n",
      "Outliers: 3\n",
      "Outliers: 546\n",
      "Outliers: 10\n",
      "Outliers: 2\n",
      "Outliers: 544\n",
      "Outliers: 8\n",
      "Outliers: 4\n",
      "Outliers: 1\n",
      "Outliers: 544\n",
      "Outliers: 7\n",
      "Outliers: 3\n",
      "Outliers: 1\n",
      "Outliers: 1\n",
      "Outliers: 545\n",
      "Outliers: 7\n",
      "Outliers: 3\n",
      "Outliers: 1\n",
      "Best Fit:       Vel     sigma        h3        h4\n",
      " comp. 0:     11195      1000    -0.030     0.002\n",
      "chi2/DOF: 2.332\n",
      "Function evaluations: 52 Status: 1\n",
      "Nonzero Templates:  3  /  156\n"
     ]
    },
    {
     "data": {
      "image/png": "[encoded data removed]",
      "text/plain": [
       "<matplotlib.figure.Figure at 0x24087fcf8>"
      ]
     },
     "metadata": {},
     "output_type": "display_data"
    },
    {
     "name": "stdout",
     "output_type": "stream",
     "text": [
      "stellar velocity offset -542.259036319\n",
      "Outliers: 541\n",
      "Outliers: 12\n",
      "Outliers: 2\n",
      "Outliers: 542\n",
      "Outliers: 9\n",
      "Outliers: 4\n",
      "Outliers: 1\n",
      "Outliers: 540\n",
      "Outliers: 11\n",
      "Outliers: 5\n",
      "Outliers: 540\n",
      "Outliers: 10\n",
      "Outliers: 2\n",
      "Outliers: 2\n",
      "Outliers: 534\n",
      "Outliers: 8\n",
      "Outliers: 2\n",
      "Outliers: 1\n",
      "Best Fit:       Vel     sigma        h3        h4\n",
      " comp. 0:     11393      1000     0.072     0.131\n",
      "chi2/DOF: 2.201\n",
      "Function evaluations: 57 Status: 1\n",
      "Nonzero Templates:  3  /  156\n"
     ]
    },
    {
     "data": {
      "image/png": "[encoded data removed]",
      "text/plain": [
       "<matplotlib.figure.Figure at 0x243073390>"
      ]
     },
     "metadata": {},
     "output_type": "display_data"
    },
    {
     "name": "stdout",
     "output_type": "stream",
     "text": [
      "stellar velocity offset -351.537251138\n",
      "Outliers: 553\n",
      "Outliers: 7\n",
      "Outliers: 4\n",
      "Outliers: 552\n",
      "Outliers: 7\n",
      "Outliers: 4\n",
      "Outliers: 550\n",
      "Outliers: 8\n",
      "Outliers: 1\n",
      "Outliers: 1\n",
      "Outliers: 545\n",
      "Outliers: 9\n",
      "Outliers: 4\n",
      "Outliers: 547\n",
      "Outliers: 6\n",
      "Outliers: 2\n",
      "Best Fit:       Vel     sigma        h3        h4\n",
      " comp. 0:     11192      1000     0.079     0.161\n",
      "chi2/DOF: 2.142\n",
      "Function evaluations: 52 Status: 1\n",
      "Nonzero Templates:  2  /  156\n"
     ]
    },
    {
     "data": {
      "image/png": "[encoded data removed]",
      "text/plain": [
       "<matplotlib.figure.Figure at 0x1102aa4e0>"
      ]
     },
     "metadata": {},
     "output_type": "display_data"
    },
    {
     "name": "stdout",
     "output_type": "stream",
     "text": [
      "stellar velocity offset -545.402381761\n",
      "Outliers: 594\n",
      "Outliers: 5\n",
      "Outliers: 2\n",
      "Outliers: 593\n",
      "Outliers: 3\n",
      "Outliers: 1\n",
      "Outliers: 587\n",
      "Outliers: 4\n",
      "Outliers: 1\n",
      "Outliers: 587\n",
      "Outliers: 3\n",
      "Outliers: 1\n",
      "Outliers: 1\n",
      "Outliers: 1\n",
      "Outliers: 588\n",
      "Outliers: 4\n",
      "Best Fit:       Vel     sigma        h3        h4\n",
      " comp. 0:     11679      1000     0.047     0.119\n",
      "chi2/DOF: 2.026\n",
      "Function evaluations: 37 Status: 1\n",
      "Nonzero Templates:  2  /  156\n"
     ]
    },
    {
     "data": {
      "image/png": "[encoded data removed]",
      "text/plain": [
       "<matplotlib.figure.Figure at 0x241d648d0>"
      ]
     },
     "metadata": {},
     "output_type": "display_data"
    },
    {
     "name": "stdout",
     "output_type": "stream",
     "text": [
      "stellar velocity offset -76.0906103934\n",
      "Outliers: 550\n",
      "Outliers: 9\n",
      "Outliers: 4\n",
      "Outliers: 551\n",
      "Outliers: 8\n",
      "Outliers: 2\n",
      "Outliers: 548\n",
      "Outliers: 11\n",
      "Outliers: 1\n",
      "Outliers: 549\n",
      "Outliers: 5\n",
      "Outliers: 543\n",
      "Outliers: 7\n",
      "Outliers: 3\n",
      "Outliers: 1\n",
      "Best Fit:       Vel     sigma        h3        h4\n",
      " comp. 0:     11091      1000     0.038     0.231\n",
      "chi2/DOF: 2.051\n",
      "Function evaluations: 52 Status: 1\n",
      "Nonzero Templates:  2  /  156\n"
     ]
    },
    {
     "data": {
      "image/png": "[encoded data removed]",
      "text/plain": [
       "<matplotlib.figure.Figure at 0x241d65c88>"
      ]
     },
     "metadata": {},
     "output_type": "display_data"
    },
    {
     "name": "stdout",
     "output_type": "stream",
     "text": [
      "stellar velocity offset -642.460590731\n"
     ]
    },
    {
     "ename": "KeyboardInterrupt",
     "evalue": "",
     "output_type": "error",
     "traceback": [
      "\u001b[0;31m---------------------------------------------------------------------------\u001b[0m",
      "\u001b[0;31mKeyboardInterrupt\u001b[0m                         Traceback (most recent call last)",
      "\u001b[0;32m<ipython-input-252-692f23faceb6>\u001b[0m in \u001b[0;36m<module>\u001b[0;34m()\u001b[0m\n\u001b[1;32m     28\u001b[0m         \u001b[0mxs\u001b[0m\u001b[0;34m=\u001b[0m\u001b[0;36m190\u001b[0m\u001b[0;34m+\u001b[0m\u001b[0mi\u001b[0m\u001b[0;34m\u001b[0m\u001b[0m\n\u001b[1;32m     29\u001b[0m         \u001b[0mys\u001b[0m\u001b[0;34m=\u001b[0m\u001b[0;36m165\u001b[0m\u001b[0;34m+\u001b[0m\u001b[0mj\u001b[0m\u001b[0;34m\u001b[0m\u001b[0m\n\u001b[0;32m---> 30\u001b[0;31m         \u001b[0my\u001b[0m\u001b[0;34m=\u001b[0m\u001b[0mextract_spec\u001b[0m\u001b[0;34m(\u001b[0m\u001b[0mxs\u001b[0m\u001b[0;34m,\u001b[0m\u001b[0mys\u001b[0m\u001b[0;34m,\u001b[0m\u001b[0;36m0.01\u001b[0m\u001b[0;34m)\u001b[0m\u001b[0;34m\u001b[0m\u001b[0m\n\u001b[0m\u001b[1;32m     31\u001b[0m         \u001b[0mx\u001b[0m\u001b[0;34m=\u001b[0m\u001b[0my\u001b[0m\u001b[0;34m[\u001b[0m\u001b[0;36m0\u001b[0m\u001b[0;34m]\u001b[0m\u001b[0;34m\u001b[0m\u001b[0m\n\u001b[1;32m     32\u001b[0m         \u001b[0mspec_non_convolved\u001b[0m\u001b[0;34m=\u001b[0m\u001b[0my\u001b[0m\u001b[0;34m[\u001b[0m\u001b[0;36m1\u001b[0m\u001b[0;34m]\u001b[0m\u001b[0;34m\u001b[0m\u001b[0m\n",
      "\u001b[0;32m<ipython-input-137-093426e60c3c>\u001b[0m in \u001b[0;36mextract_spec\u001b[0;34m(xmax, ymin, rad)\u001b[0m\n\u001b[1;32m     38\u001b[0m \u001b[0;31m#Try to figure out where you're targeting on the thing\u001b[0m\u001b[0;34m\u001b[0m\u001b[0;34m\u001b[0m\u001b[0m\n\u001b[1;32m     39\u001b[0m \u001b[0;34m\u001b[0m\u001b[0m\n\u001b[0;32m---> 40\u001b[0;31m     \u001b[0mintegrated\u001b[0m\u001b[0;34m=\u001b[0m\u001b[0mnp\u001b[0m\u001b[0;34m.\u001b[0m\u001b[0msum\u001b[0m\u001b[0;34m(\u001b[0m\u001b[0mmasked_cube\u001b[0m\u001b[0;34m,\u001b[0m\u001b[0maxis\u001b[0m\u001b[0;34m=\u001b[0m\u001b[0;34m(\u001b[0m\u001b[0;36m1\u001b[0m\u001b[0;34m,\u001b[0m\u001b[0;36m2\u001b[0m\u001b[0;34m)\u001b[0m\u001b[0;34m)\u001b[0m\u001b[0;34m\u001b[0m\u001b[0m\n\u001b[0m\u001b[1;32m     41\u001b[0m \u001b[0;34m\u001b[0m\u001b[0m\n\u001b[1;32m     42\u001b[0m     \u001b[0mg\u001b[0m \u001b[0;34m=\u001b[0m \u001b[0mGaussian1DKernel\u001b[0m\u001b[0;34m(\u001b[0m\u001b[0;36m0.01\u001b[0m\u001b[0;34m)\u001b[0m\u001b[0;34m\u001b[0m\u001b[0m\n",
      "\u001b[0;32m/Users/beckynevin/anaconda/lib/python3.6/site-packages/numpy/core/fromnumeric.py\u001b[0m in \u001b[0;36msum\u001b[0;34m(a, axis, dtype, out, keepdims)\u001b[0m\n\u001b[1;32m   1843\u001b[0m             return _methods._sum(a, axis=axis, dtype=dtype,\n\u001b[1;32m   1844\u001b[0m                                 out=out, **kwargs)\n\u001b[0;32m-> 1845\u001b[0;31m         \u001b[0;32mreturn\u001b[0m \u001b[0msum\u001b[0m\u001b[0;34m(\u001b[0m\u001b[0maxis\u001b[0m\u001b[0;34m=\u001b[0m\u001b[0maxis\u001b[0m\u001b[0;34m,\u001b[0m \u001b[0mdtype\u001b[0m\u001b[0;34m=\u001b[0m\u001b[0mdtype\u001b[0m\u001b[0;34m,\u001b[0m \u001b[0mout\u001b[0m\u001b[0;34m=\u001b[0m\u001b[0mout\u001b[0m\u001b[0;34m,\u001b[0m \u001b[0;34m**\u001b[0m\u001b[0mkwargs\u001b[0m\u001b[0;34m)\u001b[0m\u001b[0;34m\u001b[0m\u001b[0m\n\u001b[0m\u001b[1;32m   1846\u001b[0m     \u001b[0;32melse\u001b[0m\u001b[0;34m:\u001b[0m\u001b[0;34m\u001b[0m\u001b[0m\n\u001b[1;32m   1847\u001b[0m         return _methods._sum(a, axis=axis, dtype=dtype,\n",
      "\u001b[0;32m/Users/beckynevin/anaconda/lib/python3.6/site-packages/numpy/ma/core.py\u001b[0m in \u001b[0;36msum\u001b[0;34m(self, axis, dtype, out, keepdims)\u001b[0m\n\u001b[1;32m   4881\u001b[0m         \u001b[0;31m# No explicit output\u001b[0m\u001b[0;34m\u001b[0m\u001b[0;34m\u001b[0m\u001b[0m\n\u001b[1;32m   4882\u001b[0m         \u001b[0;32mif\u001b[0m \u001b[0mout\u001b[0m \u001b[0;32mis\u001b[0m \u001b[0;32mNone\u001b[0m\u001b[0;34m:\u001b[0m\u001b[0;34m\u001b[0m\u001b[0m\n\u001b[0;32m-> 4883\u001b[0;31m             \u001b[0mresult\u001b[0m \u001b[0;34m=\u001b[0m \u001b[0mself\u001b[0m\u001b[0;34m.\u001b[0m\u001b[0mfilled\u001b[0m\u001b[0;34m(\u001b[0m\u001b[0;36m0\u001b[0m\u001b[0;34m)\u001b[0m\u001b[0;34m.\u001b[0m\u001b[0msum\u001b[0m\u001b[0;34m(\u001b[0m\u001b[0maxis\u001b[0m\u001b[0;34m,\u001b[0m \u001b[0mdtype\u001b[0m\u001b[0;34m=\u001b[0m\u001b[0mdtype\u001b[0m\u001b[0;34m,\u001b[0m \u001b[0;34m**\u001b[0m\u001b[0mkwargs\u001b[0m\u001b[0;34m)\u001b[0m\u001b[0;34m\u001b[0m\u001b[0m\n\u001b[0m\u001b[1;32m   4884\u001b[0m             \u001b[0mrndim\u001b[0m \u001b[0;34m=\u001b[0m \u001b[0mgetattr\u001b[0m\u001b[0;34m(\u001b[0m\u001b[0mresult\u001b[0m\u001b[0;34m,\u001b[0m \u001b[0;34m'ndim'\u001b[0m\u001b[0;34m,\u001b[0m \u001b[0;36m0\u001b[0m\u001b[0;34m)\u001b[0m\u001b[0;34m\u001b[0m\u001b[0m\n\u001b[1;32m   4885\u001b[0m             \u001b[0;32mif\u001b[0m \u001b[0mrndim\u001b[0m\u001b[0;34m:\u001b[0m\u001b[0;34m\u001b[0m\u001b[0m\n",
      "\u001b[0;32m/Users/beckynevin/anaconda/lib/python3.6/site-packages/numpy/ma/core.py\u001b[0m in \u001b[0;36mfilled\u001b[0;34m(self, fill_value)\u001b[0m\n\u001b[1;32m   3679\u001b[0m             \u001b[0mresult\u001b[0m \u001b[0;34m=\u001b[0m \u001b[0mself\u001b[0m\u001b[0;34m.\u001b[0m\u001b[0m_data\u001b[0m\u001b[0;34m.\u001b[0m\u001b[0mcopy\u001b[0m\u001b[0;34m(\u001b[0m\u001b[0;34m'K'\u001b[0m\u001b[0;34m)\u001b[0m\u001b[0;34m\u001b[0m\u001b[0m\n\u001b[1;32m   3680\u001b[0m             \u001b[0;32mtry\u001b[0m\u001b[0;34m:\u001b[0m\u001b[0;34m\u001b[0m\u001b[0m\n\u001b[0;32m-> 3681\u001b[0;31m                 \u001b[0mnp\u001b[0m\u001b[0;34m.\u001b[0m\u001b[0mcopyto\u001b[0m\u001b[0;34m(\u001b[0m\u001b[0mresult\u001b[0m\u001b[0;34m,\u001b[0m \u001b[0mfill_value\u001b[0m\u001b[0;34m,\u001b[0m \u001b[0mwhere\u001b[0m\u001b[0;34m=\u001b[0m\u001b[0mm\u001b[0m\u001b[0;34m)\u001b[0m\u001b[0;34m\u001b[0m\u001b[0m\n\u001b[0m\u001b[1;32m   3682\u001b[0m             \u001b[0;32mexcept\u001b[0m \u001b[0;34m(\u001b[0m\u001b[0mTypeError\u001b[0m\u001b[0;34m,\u001b[0m \u001b[0mAttributeError\u001b[0m\u001b[0;34m)\u001b[0m\u001b[0;34m:\u001b[0m\u001b[0;34m\u001b[0m\u001b[0m\n\u001b[1;32m   3683\u001b[0m                 \u001b[0mfill_value\u001b[0m \u001b[0;34m=\u001b[0m \u001b[0mnarray\u001b[0m\u001b[0;34m(\u001b[0m\u001b[0mfill_value\u001b[0m\u001b[0;34m,\u001b[0m \u001b[0mdtype\u001b[0m\u001b[0;34m=\u001b[0m\u001b[0mobject\u001b[0m\u001b[0;34m)\u001b[0m\u001b[0;34m\u001b[0m\u001b[0m\n",
      "\u001b[0;31mKeyboardInterrupt\u001b[0m: "
     ]
    }
   ],
   "source": [
    "'''create a loop to find the stellar velocity at all points'''\n",
    "xmin=150\n",
    "xmax=200\n",
    "ymin=175\n",
    "ymax=225\n",
    "\n",
    "'''mask_2d=np.zeros((len(CAMERA0.data[:,0,0]),len(CAMERA0.data[0,:,0]),len(CAMERA0.data[0,0,:])))\n",
    "\n",
    "#    masked_stel_vel=ma.masked_where((1/np.sqrt(data_stel_vel_ivar)) > 100 , data_stel_vel)\n",
    "for i in range(len(CAMERA0.data[0,:,0])):\n",
    "    for j in range(len(CAMERA0.data[0,0,:])):\n",
    "        if (center_x-i)**2+(center_y-j)**2 < radius**2:\n",
    "            x_coords.append(i)\n",
    "            y_coords.append(j)\n",
    "            new_cube.append(CAMERA0.data[:,i,j])\n",
    "\n",
    "        else:\n",
    "            mask_2d[:,j,i]=1\n",
    "masked_cube= ma.masked_array(CAMERA0.data[:,:,:], mask=mask_2d)'''\n",
    "stell_vel = np.zeros((len(CAMERA0.data[0,:,0]),len(CAMERA0.data[0,0,:])))\n",
    "stell_vel_e = np.zeros((len(CAMERA0.data[0,:,0]),len(CAMERA0.data[0,0,:])))\n",
    "stell_disp = np.zeros((len(CAMERA0.data[0,:,0]),len(CAMERA0.data[0,0,:])))\n",
    "stell_disp_e = np.zeros((len(CAMERA0.data[0,:,0]),len(CAMERA0.data[0,0,:])))\n",
    "#for i in range(len(CAMERA0.data[0,:,0])):\n",
    "#    for j in range(len(CAMERA0.data[0,0,:])):\n",
    "for i in range(20):\n",
    "    for j in range(20):   \n",
    "        xs=190+i\n",
    "        ys=165+j\n",
    "        y=extract_spec(xs,ys,0.01)\n",
    "        x=y[0]\n",
    "        spec_non_convolved=y[1]\n",
    "\n",
    "        y=ppxf_from_J1354(x, spec_non_convolved,'no', 1, 0.04,0,0.01)\n",
    "\n",
    "\n",
    "        '''also calculate the redshift from this'''\n",
    "\n",
    "\n",
    "        z_input=0.04\n",
    "        c=2.99792458e5\n",
    "        red_vel_input=c*np.log(1 + z_input)\n",
    "        \n",
    "        z_stars=np.exp( y[3]     /c)-1\n",
    "\n",
    "        stell_vel[xs,ys]=(y[3]-red_vel_input)/(1+z_stars)\n",
    "        \n",
    "        print('stellar velocity offset', (y[3]-red_vel_input)/(1+z_stars))\n",
    "        #stell_vel_e[xs,ys]=abs((y[2]/y[3])*((y[3]-red_vel_input)/(1+z_stars)))\n",
    "        stell_vel_e[xs,ys]=(y[2])\n",
    "        stell_disp[xs,ys]=y[5]\n",
    "        stell_disp_e[xs,ys]=y[6]\n",
    "        #this is the percent error multiplied by the corrected stellar velocity\n",
    "        \n",
    "  \n",
    "    \n"
   ]
  },
  {
   "cell_type": "code",
   "execution_count": 249,
   "metadata": {
    "collapsed": false
   },
   "outputs": [
    {
     "data": {
      "text/plain": [
       "<matplotlib.figure.Figure at 0x241260630>"
      ]
     },
     "metadata": {},
     "output_type": "display_data"
    },
    {
     "data": {
      "image/png": "[encoded data removed]",
      "text/plain": [
       "<matplotlib.figure.Figure at 0x240a855c0>"
      ]
     },
     "metadata": {},
     "output_type": "display_data"
    },
    {
     "data": {
      "text/plain": [
       "\"print(stell_vel[150][150])\\n\\nfor i in range(300):\\n    for j in range(300):\\n        if stell_vel[i,j]==0:\\n            k=1\\n            print('zero')\\n        else:\\n            k=1\""
      ]
     },
     "execution_count": 249,
     "metadata": {},
     "output_type": "execute_result"
    }
   ],
   "source": [
    "\n",
    "plt.clf()\n",
    "fig=plt.figure()\n",
    "ax1=fig.add_subplot(1,2,1)\n",
    "im1=ax1.imshow(stell_vel[190:210,165:185], vmax=400,vmin=-400)\n",
    "cb1=fig.colorbar(im1)\n",
    "ax2=fig.add_subplot(1,2,2)\n",
    "im2=ax2.imshow(stell_vel_e[190:210,165:185])\n",
    "cb2=fig.colorbar(im2)\n",
    "plt.tight_layout()\n",
    "plt.show()\n",
    "\n",
    "'''print(stell_vel[150][150])\n",
    "\n",
    "for i in range(300):\n",
    "    for j in range(300):\n",
    "        if stell_vel[i,j]==0:\n",
    "            k=1\n",
    "            print('zero')\n",
    "        else:\n",
    "            k=1'''\n",
    "            #print('nonzero', stell_vel[i,j])"
   ]
  },
  {
   "cell_type": "code",
   "execution_count": 256,
   "metadata": {
    "collapsed": false
   },
   "outputs": [
    {
     "data": {
      "text/plain": [
       "<matplotlib.figure.Figure at 0x240f2c7f0>"
      ]
     },
     "metadata": {},
     "output_type": "display_data"
    },
    {
     "data": {
      "image/png": "[encoded data removed]",
      "text/plain": [
       "<matplotlib.figure.Figure at 0x240f2c5f8>"
      ]
     },
     "metadata": {},
     "output_type": "display_data"
    }
   ],
   "source": [
    "\n",
    "plt.clf()\n",
    "fig=plt.figure()\n",
    "ax1=fig.add_subplot(1,2,1)\n",
    "im1=ax1.imshow(stell_vel[180:210,165:185], vmax=400,vmin=-400)\n",
    "cb1=fig.colorbar(im1)\n",
    "ax2=fig.add_subplot(1,2,2)\n",
    "im2=ax2.imshow(stell_vel_e[180:210,165:185])\n",
    "cb2=fig.colorbar(im2)\n",
    "plt.tight_layout()\n",
    "plt.show()\n"
   ]
  },
  {
   "cell_type": "code",
   "execution_count": 223,
   "metadata": {
    "collapsed": false
   },
   "outputs": [
    {
     "name": "stderr",
     "output_type": "stream",
     "text": [
      "/Users/beckynevin/anaconda/lib/python3.6/site-packages/numpy/ma/core.py:3158: VisibleDeprecationWarning: using a boolean instead of an integer will result in an error in the future\n",
      "  dout = self.data[indx]\n",
      "/Users/beckynevin/anaconda/lib/python3.6/site-packages/numpy/ma/core.py:3174: VisibleDeprecationWarning: using a boolean instead of an integer will result in an error in the future\n",
      "  elif _mask is not nomask and _mask[indx]:\n"
     ]
    },
    {
     "ename": "ValueError",
     "evalue": "Number of samples, -1, must be non-negative.",
     "output_type": "error",
     "traceback": [
      "\u001b[0;31m---------------------------------------------------------------------------\u001b[0m",
      "\u001b[0;31mValueError\u001b[0m                                Traceback (most recent call last)",
      "\u001b[0;32m<ipython-input-223-7b065617bece>\u001b[0m in \u001b[0;36m<module>\u001b[0;34m()\u001b[0m\n\u001b[1;32m      2\u001b[0m \u001b[0;32mfrom\u001b[0m \u001b[0mscipy\u001b[0m \u001b[0;32mimport\u001b[0m \u001b[0mndimage\u001b[0m\u001b[0;34m\u001b[0m\u001b[0m\n\u001b[1;32m      3\u001b[0m \u001b[0;31m#noise of 0.01 is fairly typical of sdss right?\u001b[0m\u001b[0;34m\u001b[0m\u001b[0;34m\u001b[0m\u001b[0m\n\u001b[0;32m----> 4\u001b[0;31m \u001b[0my\u001b[0m\u001b[0;34m=\u001b[0m\u001b[0mppxf_from_J1354\u001b[0m\u001b[0;34m(\u001b[0m\u001b[0mxs\u001b[0m\u001b[0;34m,\u001b[0m \u001b[0mspec_non_convolved\u001b[0m\u001b[0;34m,\u001b[0m\u001b[0;34m'no'\u001b[0m\u001b[0;34m,\u001b[0m \u001b[0;36m1\u001b[0m\u001b[0;34m,\u001b[0m \u001b[0;36m0.04\u001b[0m\u001b[0;34m,\u001b[0m\u001b[0;36m0\u001b[0m\u001b[0;34m,\u001b[0m\u001b[0;36m0.01\u001b[0m\u001b[0;34m)\u001b[0m\u001b[0;34m\u001b[0m\u001b[0m\n\u001b[0m\u001b[1;32m      5\u001b[0m \u001b[0;34m\u001b[0m\u001b[0m\n\u001b[1;32m      6\u001b[0m \u001b[0;34m\u001b[0m\u001b[0m\n",
      "\u001b[0;32m<ipython-input-221-da1c9d0dc44e>\u001b[0m in \u001b[0;36mppxf_from_J1354\u001b[0;34m(xs, spec, plot, velscale_ratio, input_z, z, error_percent)\u001b[0m\n\u001b[1;32m     15\u001b[0m \u001b[0;34m\u001b[0m\u001b[0m\n\u001b[1;32m     16\u001b[0m \u001b[0;34m\u001b[0m\u001b[0m\n\u001b[0;32m---> 17\u001b[0;31m     \u001b[0mx_1\u001b[0m\u001b[0;34m=\u001b[0m\u001b[0mnp\u001b[0m\u001b[0;34m.\u001b[0m\u001b[0mlinspace\u001b[0m\u001b[0;34m(\u001b[0m\u001b[0;36m0\u001b[0m\u001b[0;34m,\u001b[0m\u001b[0mlen\u001b[0m\u001b[0;34m(\u001b[0m\u001b[0mlam_gal\u001b[0m\u001b[0;34m)\u001b[0m\u001b[0;34m-\u001b[0m\u001b[0;36m2\u001b[0m\u001b[0;34m,\u001b[0m\u001b[0mlen\u001b[0m\u001b[0;34m(\u001b[0m\u001b[0mlam_gal\u001b[0m\u001b[0;34m)\u001b[0m\u001b[0;34m-\u001b[0m\u001b[0;36m1\u001b[0m\u001b[0;34m)\u001b[0m\u001b[0;34m\u001b[0m\u001b[0m\n\u001b[0m\u001b[1;32m     18\u001b[0m     \u001b[0mfwhm_gal\u001b[0m\u001b[0;34m=\u001b[0m\u001b[0;34m[\u001b[0m\u001b[0mlam_gal\u001b[0m\u001b[0;34m[\u001b[0m\u001b[0mx\u001b[0m\u001b[0;34m+\u001b[0m\u001b[0;36m1\u001b[0m\u001b[0;34m]\u001b[0m\u001b[0;34m-\u001b[0m\u001b[0mlam_gal\u001b[0m\u001b[0;34m[\u001b[0m\u001b[0mx\u001b[0m\u001b[0;34m]\u001b[0m \u001b[0;32mfor\u001b[0m \u001b[0mx\u001b[0m \u001b[0;32min\u001b[0m \u001b[0mx_1\u001b[0m\u001b[0;34m]\u001b[0m\u001b[0;34m\u001b[0m\u001b[0m\n\u001b[1;32m     19\u001b[0m     \u001b[0mfwhm_gal\u001b[0m\u001b[0;34m.\u001b[0m\u001b[0mappend\u001b[0m\u001b[0;34m(\u001b[0m\u001b[0mfwhm_gal\u001b[0m\u001b[0;34m[\u001b[0m\u001b[0mlen\u001b[0m\u001b[0;34m(\u001b[0m\u001b[0mx_1\u001b[0m\u001b[0;34m)\u001b[0m\u001b[0;34m-\u001b[0m\u001b[0;36m1\u001b[0m\u001b[0;34m]\u001b[0m\u001b[0;34m)\u001b[0m\u001b[0;34m\u001b[0m\u001b[0m\n",
      "\u001b[0;32m/Users/beckynevin/anaconda/lib/python3.6/site-packages/numpy/core/function_base.py\u001b[0m in \u001b[0;36mlinspace\u001b[0;34m(start, stop, num, endpoint, retstep, dtype)\u001b[0m\n\u001b[1;32m     84\u001b[0m     \u001b[0mnum\u001b[0m \u001b[0;34m=\u001b[0m \u001b[0mint\u001b[0m\u001b[0;34m(\u001b[0m\u001b[0mnum\u001b[0m\u001b[0;34m)\u001b[0m\u001b[0;34m\u001b[0m\u001b[0m\n\u001b[1;32m     85\u001b[0m     \u001b[0;32mif\u001b[0m \u001b[0mnum\u001b[0m \u001b[0;34m<\u001b[0m \u001b[0;36m0\u001b[0m\u001b[0;34m:\u001b[0m\u001b[0;34m\u001b[0m\u001b[0m\n\u001b[0;32m---> 86\u001b[0;31m         \u001b[0;32mraise\u001b[0m \u001b[0mValueError\u001b[0m\u001b[0;34m(\u001b[0m\u001b[0;34m\"Number of samples, %s, must be non-negative.\"\u001b[0m \u001b[0;34m%\u001b[0m \u001b[0mnum\u001b[0m\u001b[0;34m)\u001b[0m\u001b[0;34m\u001b[0m\u001b[0m\n\u001b[0m\u001b[1;32m     87\u001b[0m     \u001b[0mdiv\u001b[0m \u001b[0;34m=\u001b[0m \u001b[0;34m(\u001b[0m\u001b[0mnum\u001b[0m \u001b[0;34m-\u001b[0m \u001b[0;36m1\u001b[0m\u001b[0;34m)\u001b[0m \u001b[0;32mif\u001b[0m \u001b[0mendpoint\u001b[0m \u001b[0;32melse\u001b[0m \u001b[0mnum\u001b[0m\u001b[0;34m\u001b[0m\u001b[0m\n\u001b[1;32m     88\u001b[0m \u001b[0;34m\u001b[0m\u001b[0m\n",
      "\u001b[0;31mValueError\u001b[0m: Number of samples, -1, must be non-negative."
     ]
    }
   ],
   "source": [
    "import miles_util as lib\n",
    "from scipy import ndimage\n",
    "#noise of 0.01 is fairly typical of sdss right?\n",
    "y=ppxf_from_J1354(xs, spec_non_convolved,'no', 1, 0.04,0,0.01)\n",
    "\n",
    "\n",
    "'''also calculate the redshift from this'''\n",
    "\n",
    "if y[4]==0:\n",
    "    \n",
    "    print('input z was 0')\n",
    "    z_input=0.03\n",
    "    c=2.99792458e5\n",
    "    red_vel_input=c*np.log(1 + z_input)\n",
    "    print('difference',( y[3]-red_vel_input), y[3], red_vel_input)\n",
    "\n",
    "    '''So the redshift should be given by:\n",
    "    z_stars=exp(all.VEL_STARS/ckm)-1.d0'''\n",
    "    z_stars=np.exp( y[3]     /c)-1\n",
    "    print('zstars',z_stars)\n",
    "\n",
    "    print('stellar velocity offset', (y[3]-red_vel_input)/(1+z_input))\n",
    "    #ppxf_example_population_gas_sdss()\n",
    "else:\n",
    "    print('input z was 0.04')\n",
    "    z_input=0.04\n",
    "    c=2.99792458e5\n",
    "    red_vel_input=c*np.log(1 + z_input)\n",
    "    \n",
    "    vel_out=c*np.log(1+y[4])\n",
    "    print('difference',( vel_out-red_vel_input), vel_out, red_vel_input)\n",
    "\n",
    "    '''So the redshift should be given by:\n",
    "    z_stars=exp(all.VEL_STARS/ckm)-1.d0'''\n",
    "    z_stars=y[4]\n",
    "    print('zstars',z_stars)\n",
    "\n",
    "    print('stellar velocity offset', (y[3]-red_vel_input)/(1+z_input))\n",
    "    #ppxf_example_population_gas_sdss()\n",
    "    "
   ]
  },
  {
   "cell_type": "code",
   "execution_count": 250,
   "metadata": {
    "collapsed": false
   },
   "outputs": [],
   "source": [
    "def ppxf_from_J1354(xs,spec,plot, velscale_ratio, input_z, z, error_percent):\n",
    "    file_dir = '/usr/local/Cellar/python/2.7.6/Frameworks/Python.framework/Versions/2.7/lib/python2.7/site-packages/ppxf'  # path of this procedure\n",
    "   \n",
    "    \n",
    "    xs=np.array(xs)\n",
    "    \n",
    "    mask = (xs > 3540) & (xs < 7409)\n",
    "    \n",
    "    gal_lin=np.array(spec[mask])\n",
    "    new_xs=xs[mask]\n",
    "    \n",
    "    lam_gal=np.array(new_xs)\n",
    "    \n",
    "    \n",
    "    \n",
    "    \n",
    "    x_1=np.linspace(0,len(lam_gal)-2,len(lam_gal)-1)\n",
    "    fwhm_gal=[lam_gal[x+1]-lam_gal[x] for x in x_1]\n",
    "    fwhm_gal.append(fwhm_gal[len(x_1)-1])\n",
    "    fwhm_gal=np.array(fwhm_gal)\n",
    "    \n",
    "    if plot=='yes':\n",
    "        plt.plot(lam_gal, fwhm_gal)\n",
    "        plt.axhline(y=(lam_gal[-1]-lam_gal[0])/len(lam_gal))\n",
    "        plt.annotate('Mean FWHM = '+str(round((lam_gal[-1]-lam_gal[0])/len(lam_gal),1)),xy=(0.7,0.9),xycoords='axes fraction')\n",
    "        plt.xlabel('Lambdas')\n",
    "        plt.ylabel('Interp FWHM')\n",
    "        plt.show()\n",
    "    \n",
    "    \n",
    "    lam_gal = lam_gal/(1+input_z) \n",
    "    fwhm_gal = fwhm_gal/(1+input_z)\n",
    "    \n",
    "    \n",
    "    lamRange1=[lam_gal[0],lam_gal[-1]]\n",
    "    \n",
    "\n",
    "    \n",
    "    \n",
    "    #velscale = np.log(frac)*c       # Constant velocity scale in km/s per pixel\n",
    "    galaxy, logLam1, velscale = util.log_rebin(lamRange1, gal_lin)\n",
    "    galaxy = galaxy/np.median(galaxy)\n",
    "    noise = galaxy*error_percent\n",
    "    if plot=='yes':\n",
    "        plt.clf()\n",
    "        plt.plot(logLam1, galaxy, label='Galaxy')\n",
    "        plt.plot(logLam1, noise, label='Noise')\n",
    "        plt.show()\n",
    " \n",
    "    #\n",
    "    #lam_gal = lam_gal/(1+z)  # Compute approximate restframe wavelength\n",
    "    #fwhm_gal = fwhm_gal/(1+z)   # Adjust resolution in Angstrom\n",
    "\n",
    "\n",
    "    \n",
    "    vazdekis = glob.glob(file_dir + '/miles_models/Mun1.30Z*.fits')\n",
    "    fwhm_tem = 2.51 # Vazdekis+10 spectra have a constant resolution FWHM of 2.51A.\n",
    "\n",
    " \n",
    "    hdu = fits.open(vazdekis[0])\n",
    "    ssp = hdu[0].data\n",
    "    h2 = hdu[0].header\n",
    "    lam_temp = h2['CRVAL1'] + h2['CDELT1']*np.arange(h2['NAXIS1'])\n",
    "    lamRange_temp = [lam_temp[0], lam_temp[-1]]\n",
    "    \n",
    "    sspNew_1,logLam2, velscale_temp = util.log_rebin(lamRange_temp, ssp, velscale=velscale/velscale_ratio)\n",
    "    \n",
    "    if plot=='yes':\n",
    "        fig=plt.figure()\n",
    "        ax1=fig.add_subplot(3,1,1)\n",
    "        ax1.plot(lam_temp,ssp, label='before, linear', lw=1, color='turquoise')\n",
    "        plt.legend()\n",
    "        ax2=fig.add_subplot(3,1,2)\n",
    "        ax2.plot(logLam1, galaxy,label='galaxy log', lw=1, color='blue')\n",
    "        plt.legend()\n",
    "        ax3=fig.add_subplot(3,1,3)\n",
    "        ax3.plot(logLam2, sspNew_1,label='after log rebin', lw=1, color='blue')\n",
    "        plt.legend()\n",
    "        plt.show()\n",
    "    \n",
    "    templates = np.empty((sspNew_1.size, len(vazdekis)))\n",
    "\n",
    "    # Interpolates the galaxy spectral resolution at the location of every pixel\n",
    "    # of the templates. Outside the range of the galaxy spectrum the resolution\n",
    "    # will be extrapolated, but this is irrelevant as those pixels cannot be\n",
    "    # used in the fit anyway.\n",
    "    #fwhm_gal = np.interp(lam_temp, lam_gal, fwhm_gal)\n",
    "    \n",
    "    \n",
    "    #print('fwhm_gal', fwhm_gal)\n",
    "    # Convolve the whole Vazdekis library of spectral templates\n",
    "    # with the quadratic difference between the SDSS and the\n",
    "    # Vazdekis instrumental resolution. Logarithmically rebin\n",
    "    # and store each template as a column in the array TEMPLATES.\n",
    "\n",
    "    # Quadratic sigma difference in pixels Vazdekis --> SDSS\n",
    "    # The formula below is rigorously valid if the shapes of the\n",
    "    # instrumental spectral profiles are well approximated by Gaussians.\n",
    "    #\n",
    "    # In the line below, the fwhm_dif is set to zero when fwhm_gal < fwhm_tem.\n",
    "    # In principle it should never happen and a higher resolution template should be used.\n",
    "    #\n",
    "    fwhm_dif = np.sqrt(fwhm_gal**2 - fwhm_tem**2)\n",
    "    sigma = fwhm_dif/2.355/h2['CDELT1'] # Sigma difference in pixels\n",
    "\n",
    "    for j, fname in enumerate(vazdekis):\n",
    "        hdu = fits.open(fname)\n",
    "        ssp = hdu[0].data\n",
    "        #ssp = util.gaussian_filter1d(ssp, sigma)  # perform convolution with variable sigma\n",
    "        sspNew = util.log_rebin(lamRange_temp, ssp, velscale=velscale/velscale_ratio)[0]\n",
    "        templates[:, j] = sspNew/np.median(sspNew) # Normalizes templates\n",
    "\n",
    "    # The galaxy and the template spectra do not have the same starting wavelength.\n",
    "    # For this reason an extra velocity shift DV has to be applied to the template\n",
    "    # to fit the galaxy spectrum. We remove this artificial shift by using the\n",
    "    # keyword VSYST in the call to PPXF below, so that all velocities are\n",
    "    # measured with respect to DV. This assume the redshift is negligible.\n",
    "    # In the case of a high-redshift galaxy one should de-redshift its\n",
    "    # wavelength to the rest frame before using the line below (see above).\n",
    "    #\n",
    "    c = 299792.458\n",
    "    dv = np.log(lam_temp[0]/lam_gal[0])*c    # km/s\n",
    "    \n",
    "  \n",
    "   \n",
    "    \n",
    "    goodpixels = util.determine_goodpixels(logLam1, lamRange_temp, input_z)\n",
    "\n",
    "    # Here the actual fit starts. The best fit is plotted on the screen.\n",
    "    # Gas emission lines are excluded from the pPXF fit using the GOODPIXELS keyword.\n",
    "    #\n",
    "    vel = c*np.log(1 + input_z)   # Initial estimate of the galaxy velocity in km/s\n",
    "   \n",
    "    if plot=='yes':\n",
    "        print('input vel', vel)\n",
    "    start = [vel, 200.]  # (km/s), starting guess for [V, sigma]\n",
    "    #start = [0,200]\n",
    "    t = clock()\n",
    "\n",
    "    pp = ppxf(templates, galaxy, noise, velscale, start,\n",
    "              goodpixels=goodpixels, plot=True, moments=4,\n",
    "              degree=-1, vsyst=dv, velscale_ratio=velscale_ratio,\n",
    "              clean=True)#was degree=12\n",
    "    if plot=='yes':\n",
    "        print(\"Formal errors:\")\n",
    "        print(\"     dV    dsigma   dh3      dh4\")\n",
    "        print(\"\".join(\"%8.2g\" % f for f in pp.error*np.sqrt(pp.chi2)))\n",
    "\n",
    "        print('Elapsed time in PPXF: %.2f s' % (clock() - t))\n",
    "\n",
    "    # If the galaxy is at significant redshift z and the wavelength has been\n",
    "    # de-redshifted with the three lines \"z = 1.23...\" near the beginning of\n",
    "    # this procedure, the best-fitting redshift is now given by the following\n",
    "    # commented line (equation 2 of Cappellari et al. 2009, ApJ, 704, L34):\n",
    "    #\n",
    "    #print, 'Best-fitting redshift z:', (z + 1)*(1 + sol[0]/c) - 1\n",
    "\n",
    "#------------------------------------------------------------------------------\n",
    "    #plt.ylim([-1,2])\n",
    "    \n",
    "    plt.xlim([4000,6000])\n",
    "    plt.show()\n",
    "    if z_input ==0:\n",
    "        red_alt=0\n",
    "    else:\n",
    "        red_alt=(z_input+1)*(1 +pp.sol[0]/c)-1\n",
    "    plt.clf()\n",
    "    return lam_gal, galaxy, pp.error[0], pp.sol[0], red_alt, pp.sol[1], pp.error[1]"
   ]
  },
  {
   "cell_type": "code",
   "execution_count": 222,
   "metadata": {
    "collapsed": false
   },
   "outputs": [
    {
     "data": {
      "text/plain": [
       "'buffer cell'"
      ]
     },
     "execution_count": 222,
     "metadata": {},
     "output_type": "execute_result"
    }
   ],
   "source": [
    "'''buffer cell'''"
   ]
  },
  {
   "cell_type": "code",
   "execution_count": 43,
   "metadata": {
    "collapsed": false
   },
   "outputs": [],
   "source": [
    "\n",
    "\n",
    "\n",
    "def ppxf_sauron_example(xs, spec, plot):\n",
    "    plt.clf()\n",
    "    file_dir = '/usr/local/Cellar/python/2.7.6/Frameworks/Python.framework/Versions/2.7/lib/python2.7/site-packages/ppxf'  # path of this procedure\n",
    "    \n",
    "    # Read a galaxy spectrum and define the wavelength range\n",
    "    #\n",
    "    #\n",
    "    #file = file_dir + '/spectra/NGC4550_SAURON.fits'\n",
    "    #hdu = fits.open(file)\n",
    "    \n",
    "    fig=plt.figure(figsize=(10.0,3.0))\n",
    "    axs1=fig.add_subplot(1,3,1)\n",
    "    axs1.plot(xs,spec)\n",
    "    axs1.set_title('Raw')\n",
    " \n",
    "    xs=np.array(xs)\n",
    "    \n",
    "    mask = (xs > 3540) & (xs < 7409)\n",
    "    \n",
    "    gal_lin = spec[mask]\n",
    "   \n",
    "    lambdas = xs[mask]\n",
    "    \n",
    "    \n",
    "    axs2=fig.add_subplot(1,3,2)\n",
    "    axs2.plot(lambdas,gal_lin)\n",
    "    axs2.set_title('Masked')\n",
    "\n",
    "    #CD=((xs_new[len(xs_new)-1]-xs_new[0])/len(xs_nes))\n",
    "    lamRange1 = [min(lambdas),max(lambdas)]\n",
    "\n",
    "    lambdas=xs\n",
    "    lam_gal=xs\n",
    "    \n",
    "\n",
    "    FWHM_gal = 4.2  # SAURON has an instrumental resolution FWHM of 4.2A.\n",
    "\n",
    "    # If the galaxy is at a significant redshift (z > 0.03), one would need to apply\n",
    "    # a large velocity shift in PPXF to match the template to the galaxy spectrum.\n",
    "    # This would require a large initial value for the velocity (V > 1e4 km/s)\n",
    "    # in the input parameter START = [V,sig]. This can cause PPXF to stop!\n",
    "    # The solution consists of bringing the galaxy spectrum roughly to the\n",
    "    # rest-frame wavelength, before calling PPXF. In practice there is no\n",
    "    # need to modify the spectrum before the usual LOG_REBIN, given that a\n",
    "    # red shift corresponds to a linear shift of the log-rebinned spectrum.\n",
    "    # One just needs to compute the wavelength range in the rest-frame\n",
    "    # and adjust the instrumental resolution of the galaxy observations.\n",
    "    # This is done with the following three commented lines:\n",
    "    #\n",
    "    # z = 1.23 # Initial estimate of the galaxy redshift\n",
    "    # lamRange1 = lamRange1/(1+z) # Compute approximate restframe wavelength range\n",
    "    # FWHM_gal = FWHM_gal/(1+z)   # Adjust resolution in Angstrom\n",
    "\n",
    "    galaxy, logLam1, velscale = util.log_rebin(lamRange1, gal_lin)\n",
    "    \n",
    "    #\n",
    "    #plt.show()\n",
    "    #noise=np.sqrt(galaxy)/np.median(galaxy)\n",
    "    galaxy = galaxy/max(galaxy)  # Normalize spectrum to avoid numerical issues\n",
    "    #noise = np.full_like(galaxy, 0.05)           # Assume constant noise per pixel here#was 0.0047\n",
    "    noise = 0.1*galaxy\n",
    "    \n",
    "    axs3=fig.add_subplot(1,3,3)\n",
    "    axs3.plot(logLam1,galaxy)\n",
    "    axs3.set_title('Logarithmic, Normalized')\n",
    "    plt.tight_layout()\n",
    "    plt.show()\n",
    "    \n",
    "    fig=plt.figure()\n",
    "    ax1 = fig.add_subplot(211)\n",
    "    ax1.plot(logLam1, galaxy, label='Data', color='red')\n",
    "    ax1.plot(logLam1, noise, label='Noise', color='blue')\n",
    "    plt.legend()\n",
    "    # Read the list of filenames from the Single Stellar Population library\n",
    "    # by Vazdekis (2010, MNRAS, 404, 1639) http://miles.iac.es/. A subset\n",
    "    # of the library is included for this example with permission\n",
    "    vazdekis = glob.glob(file_dir + '/miles_models/Mun1.30Z*.fits')\n",
    "    FWHM_tem = 2.51  # Vazdekis+10 spectra have a constant resolution FWHM of 2.51A.\n",
    "    velscale_ratio = 2  # adopts 2x higher spectral sampling for templates than for galaxy\n",
    "\n",
    "    # Extract the wavelength range and logarithmically rebin one spectrum\n",
    "    # to a velocity scale 2x smaller than the SAURON galaxy spectrum, to determine\n",
    "    # the size needed for the array which will contain the template spectra.\n",
    "    #\n",
    "    hdu = fits.open(vazdekis[0])\n",
    "    ssp = hdu[0].data\n",
    "    h2 = hdu[0].header\n",
    "    lamRange2 = h2['CRVAL1'] + np.array([0., h2['CDELT1']*(h2['NAXIS1'] - 1)])\n",
    "    lam_temp = h2['CRVAL1'] + h2['CDELT1']*np.arange(h2['NAXIS1'])\n",
    "    lamRange_temp = [np.min(lam_temp), np.max(lam_temp)]\n",
    "    sspNew, logLam2, velscale_temp = util.log_rebin(lamRange2, ssp, velscale=velscale/velscale_ratio)\n",
    "    templates = np.empty((sspNew.size, len(vazdekis)))\n",
    "\n",
    "    ax2 = fig.add_subplot(212)\n",
    "    ax2.plot(logLam2, sspNew, color='orange',label='Template')\n",
    "    plt.legend()\n",
    "    plt.show()\n",
    "    # Convolve the whole Vazdekis library of spectral templates\n",
    "    # with the quadratic difference between the SAURON and the\n",
    "    # Vazdekis instrumental resolution. Logarithmically rebin\n",
    "    # and store each template as a column in the array TEMPLATES.\n",
    "\n",
    "    # Quadratic sigma difference in pixels Vazdekis --> SAURON\n",
    "    # The formula below is rigorously valid if the shapes of the\n",
    "    # instrumental spectral profiles are well approximated by Gaussians.\n",
    "    #\n",
    "    FWHM_dif = np.sqrt(FWHM_gal**2 - FWHM_tem**2)\n",
    "    sigma = FWHM_dif/2.355/h2['CDELT1']  # Sigma difference in pixels\n",
    "\n",
    "    for j, file in enumerate(vazdekis):\n",
    "        hdu = fits.open(file)\n",
    "        ssp = hdu[0].data\n",
    "        ssp = ndimage.gaussian_filter1d(ssp, sigma)\n",
    "        sspNew, logLam2, velscale_temp = util.log_rebin(lamRange2, ssp, velscale=velscale/velscale_ratio)\n",
    "        templates[:, j] = sspNew/np.median(sspNew)  # Normalizes templates\n",
    "\n",
    "    # The galaxy and the template spectra do not have the same starting wavelength.\n",
    "    # For this reason an extra velocity shift DV has to be applied to the template\n",
    "    # to fit the galaxy spectrum. We remove this artificial shift by using the\n",
    "    # keyword VSYST in the call to PPXF below, so that all velocities are\n",
    "    # measured with respect to DV. This assume the redshift is negligible.\n",
    "    # In the case of a high-redshift galaxy one should de-redshift its\n",
    "    # wavelength to the rest frame before using the line below (see above).\n",
    "    #\n",
    "    c = 299792.458\n",
    "    if velscale_ratio > 1:\n",
    "        dv = (np.mean(logLam2[:velscale_ratio]) - logLam1[0])*c  # km/s\n",
    "    else:\n",
    "        dv = (logLam2[0] - logLam1[0])*c  # km/s\n",
    "\n",
    "    vel = 0.  # Initial estimate of the galaxy velocity in km/s\n",
    "    z = np.exp(vel/c) - 1   # Relation between velocity and redshift in pPXF\n",
    "    print('this is your z', z)\n",
    "    goodPixels = util.determine_goodpixels(logLam1, lamRange_temp, z)\n",
    "    #print('goodPixels', goodPixels)\n",
    "\n",
    "    # Here the actual fit starts. The best fit is plotted on the screen.\n",
    "    # Gas emission lines are excluded from the pPXF fit using the GOODPIXELS keyword.\n",
    "    #\n",
    "    start = [vel, 200.]  # (km/s), starting guess for [V, sigma]\n",
    "    t = clock()\n",
    "\n",
    "    pp = ppxf(templates, galaxy, noise, velscale, start,\n",
    "               plot=True, moments=4,\n",
    "              degree=4, vsyst=dv, velscale_ratio=velscale_ratio)\n",
    "\n",
    "    print(\"Formal errors:\")\n",
    "    print(\"     dV    dsigma   dh3      dh4\")\n",
    "    print(\"\".join(\"%8.2g\" % f for f in pp.error*np.sqrt(pp.chi2)))\n",
    "\n",
    "    print('Elapsed time in PPXF: %.2f s' % (clock() - t))\n",
    "    savefig('../ppxf_sunrise_sauron.pdf')\n",
    "    # If the galaxy is at significant redshift z and the wavelength has been\n",
    "    # de-redshifted with the three lines \"z = 1.23...\" near the beginning of\n",
    "    # this procedure, the best-fitting redshift is now given by the following\n",
    "    # commented line (equation 2 of Cappellari et al. 2009, ApJ, 704, L34;\n",
    "    # http://adsabs.harvard.edu/abs/2009ApJ...704L..34C)\n",
    "    #\n",
    "    #print, 'Best-fitting redshift z:', (z + 1)*(1 + sol[0]/c) - 1\n",
    "\n",
    "\n",
    "def ppxf_my_gal(xs, spec,plot):   \n",
    "    file_dir = '/usr/local/Cellar/python/2.7.6/Frameworks/Python.framework/Versions/2.7/lib/python2.7/site-packages/ppxf'  # path of this procedure\n",
    "\n",
    " \n",
    "    z = 0.0   # SDSS redshift estimate\n",
    "    xs=np.array(xs)\n",
    "    mask = (xs > (3540)) & (xs < (7409))\n",
    "    #mask = (xs > (3600)) & (xs < (5650))\n",
    "    #mask = (xs > 3540) & (xs < 7409)\n",
    "    lambdas=xs[mask]\n",
    "    \n",
    "    \n",
    "    flux = spec[mask]\n",
    "\n",
    "    var = np.sqrt(flux)#poisson noise? For now, this might be a fair assumption\n",
    "    var_scaled=var/np.median(flux)\n",
    "    \n",
    "    galaxy = np.array(flux/np.median(flux))  # Normalize spectrum to avoid numerical issues\n",
    "    \n",
    "    var_scaled=0.1*galaxy\n",
    "    lam_gal = lambdas\n",
    "    \n",
    "    if plot=='yes':\n",
    "        plt.title('Testing variance and flux')\n",
    "        plt.plot(lam_gal,galaxy, label='Flux')\n",
    "        plt.plot(lam_gal, var_scaled, label='Noise')\n",
    "        plt.legend()\n",
    "        plt.show()\n",
    "    \n",
    "    \n",
    "    #noise = np.full_like(galaxy, 0.0166)       # Assume constant noise per pixel here\n",
    "    noise = var_scaled\n",
    "\n",
    "    c = 299792.458                  # speed of light in km/s\n",
    "    frac = lam_gal[1]/lam_gal[0]    # Constant lambda fraction per pixel\n",
    "    dlam_gal = (frac - 1)*lam_gal   # Size of every pixel in Angstrom\n",
    "    #wdisp = t['wdisp'][mask]        # Intrinsic dispersion of every pixel, in pixels units\n",
    "    #print('wdisp',len(wdisp), 'lam_gal', len(lam_gal))\n",
    "    #fwhm_gal = 2.355*wdisp*dlam_gal # Resolution FWHM of every pixel, in Angstroms\n",
    "    \n",
    "    x_1=np.linspace(0,len(lam_gal)-2,len(lam_gal)-1)\n",
    "    fwhm_gal=[lam_gal[x+1]-lam_gal[x] for x in x_1]\n",
    "    fwhm_gal.append(fwhm_gal[len(x_1)-1])\n",
    "    \n",
    "    if plot=='yes':\n",
    "        plt.plot(lam_gal, fwhm_gal)\n",
    "        plt.axhline(y=(lam_gal[len(x_1)]-lam_gal[0])/len(galaxy))\n",
    "        plt.xlabel('Lambdas')\n",
    "        plt.ylabel('Interp FWHM')\n",
    "        plt.show()\n",
    "        \n",
    "    fwhm_gal=np.array(fwhm_gal)\n",
    "    \n",
    "    convolved= util.gaussian_filter1d(galaxy, fwhm_gal)  # perform convolution with variable sigma\n",
    "    if plot=='yes':\n",
    "        plt.plot(lam_gal, convolved)\n",
    "        plt.show()\n",
    "    velscale = np.log(frac)*c       # Constant velocity scale in km/s per pixel\n",
    "    velscale_ratio=1#1.5\n",
    "    #\n",
    "    #lam_gal = lam_gal/(1+z)  # Compute approximate restframe wavelength\n",
    "    #fwhm_gal = fwhm_gal/(1+z)   # Adjust resolution in Angstrom\n",
    "\n",
    "    # Read the list of filenames from the Single Stellar Population library\n",
    "    # by Vazdekis (2010, MNRAS, 404, 1639) http://miles.iac.es/. A subset\n",
    "    # of the library is included for this example with permission\n",
    "    vazdekis = glob.glob(file_dir + '/miles_models/Mun1.30Z*.fits')\n",
    "    fwhm_tem = 2.51 # Vazdekis+10 spectra have a constant resolution FWHM of 2.51A.\n",
    "\n",
    "    # Extract the wavelength range and logarithmically rebin one spectrum\n",
    "    # to the same velocity scale of the SDSS galaxy spectrum, to determine\n",
    "    # the size needed for the array which will contain the template spectra.\n",
    "    #\n",
    "    hdu = fits.open(vazdekis[0])\n",
    "    ssp = hdu[0].data\n",
    "    h2 = hdu[0].header\n",
    "    lam_temp = h2['CRVAL1'] + h2['CDELT1']*np.arange(h2['NAXIS1'])\n",
    "    lamRange2 = h2['CRVAL1'] + np.array([0., h2['CDELT1']*(h2['NAXIS1'] - 1)])\n",
    "    lamRange_temp = [np.min(lam_temp), np.max(lam_temp)]\n",
    "    #sspNew, logLam2, velscale_temp = util.log_rebin(lamRange_temp, ssp, velscale=velscale/velscale_ratio)\n",
    "    sspNew = util.log_rebin(lamRange_temp, ssp, velscale=velscale)[0]\n",
    "    \n",
    "    \n",
    "    templates = np.empty((sspNew.size, len(vazdekis)))\n",
    "\n",
    "    # Interpolates the galaxy spectral resolution at the location of every pixel\n",
    "    # of the templates. Outside the range of the galaxy spectrum the resolution\n",
    "    # will be extrapolated, but this is irrelevant as those pixels cannot be\n",
    "    # used in the fit anyway.\n",
    "    fwhm_gal = np.interp(lam_temp, lam_gal, fwhm_gal)\n",
    "    \n",
    "    \n",
    "    #print('fwhm_gal', fwhm_gal)\n",
    "    # Convolve the whole Vazdekis library of spectral templates\n",
    "    # with the quadratic difference between the SDSS and the\n",
    "    # Vazdekis instrumental resolution. Logarithmically rebin\n",
    "    # and store each template as a column in the array TEMPLATES.\n",
    "\n",
    "    # Quadratic sigma difference in pixels Vazdekis --> SDSS\n",
    "    # The formula below is rigorously valid if the shapes of the\n",
    "    # instrumental spectral profiles are well approximated by Gaussians.\n",
    "    #\n",
    "    # In the line below, the fwhm_dif is set to zero when fwhm_gal < fwhm_tem.\n",
    "    # In principle it should never happen and a higher resolution template should be used.\n",
    "    #\n",
    "    fwhm_dif = np.sqrt((fwhm_gal**2 - fwhm_tem**2).clip(0))\n",
    "    sigma = fwhm_dif/2.355/h2['CDELT1'] # Sigma difference in pixels\n",
    "\n",
    "    for j, fname in enumerate(vazdekis):\n",
    "        hdu = fits.open(fname)\n",
    "        \n",
    "        ssp = hdu[0].data\n",
    "        if plot=='yes':\n",
    "            plt.plot(ssp)\n",
    "        ssp = util.gaussian_filter1d(ssp, sigma)  # perform convolution with variable sigma\n",
    "        sspNew = util.log_rebin(lamRange_temp, ssp, velscale=velscale)[0]\n",
    "        templates[:, j] = sspNew/np.median(sspNew) # Normalizes templates\n",
    "        if plot=='yes':\n",
    "            plt.plot(ssp)\n",
    "    \n",
    "    \n",
    "    plt.show()\n",
    "    \n",
    "    if plot=='yes':\n",
    "        fig=plt.figure()\n",
    "        ax1=fig.add_subplot(211)\n",
    "        ax1.plot(lam_gal, convolved, label='Gal')\n",
    "        #ax1.set_xlim([5850,5950])\n",
    "        #ax1.set_ylim([0.5,2.0])\n",
    "        ax2=fig.add_subplot(212)\n",
    "        ax2.plot(lam_temp, ssp, label='Template')\n",
    "        #ax2.set_xlim([5850,5950])\n",
    "        plt.legend()\n",
    "        plt.show()\n",
    "    # The galaxy and the template spectra do not have the same starting wavelength.\n",
    "    # For this reason an extra velocity shift DV has to be applied to the template\n",
    "    # to fit the galaxy spectrum. We remove this artificial shift by using the\n",
    "    # keyword VSYST in the call to PPXF below, so that all velocities are\n",
    "    # measured with respect to DV. This assume the redshift is negligible.\n",
    "    # In the case of a high-redshift galaxy one should de-redshift its\n",
    "    # wavelength to the rest frame before using the line below (see above).\n",
    "    #\n",
    "    c = 299792.458\n",
    "    dv = np.log(lam_temp[0]/lam_gal[0])*c    # km/s\n",
    "    \n",
    "    goodpixels = util.determine_goodpixels(np.log(lam_gal), lamRange_temp, z)\n",
    "\n",
    "    # Here the actual fit starts. The best fit is plotted on the screen.\n",
    "    # Gas emission lines are excluded from the pPXF fit using the GOODPIXELS keyword.\n",
    "    #\n",
    "    vel = c*np.log(1 + z)   # Initial estimate of the galaxy velocity in km/s\n",
    "    start = [vel, 200.]  # (km/s), starting guess for [V, sigma]\n",
    "    \n",
    "    t = clock()\n",
    "    \n",
    "  \n",
    "    \n",
    "    print(len(galaxy), shape(templates))\n",
    "    pp = ppxf(templates, convolved, noise, velscale, start,\n",
    "              goodpixels=goodpixels, plot=True, moments=4,\n",
    "              degree=4, clean=False, lam=lam_gal)#was degree=12\n",
    "\n",
    "    print(\"Formal errors:\")\n",
    "    print(\"     dV    dsigma   dh3      dh4\")\n",
    "    print(\"\".join(\"%8.2g\" % f for f in pp.error*np.sqrt(pp.chi2)))\n",
    "\n",
    "    print('Elapsed time in PPXF: %.2f s' % (clock() - t))\n",
    "\n",
    "    # If the galaxy is at significant redshift z and the wavelength has been\n",
    "    # de-redshifted with the three lines \"z = 1.23...\" near the beginning of\n",
    "    # this procedure, the best-fitting redshift is now given by the following\n",
    "    # commented line (equation 2 of Cappellari et al. 2009, ApJ, 704, L34):\n",
    "    #\n",
    "    #print, 'Best-fitting redshift z:', (z + 1)*(1 + sol[0]/c) - 1\n",
    "\n",
    "#------------------------------------------------------------------------------\n",
    "    #if plot=='yes':\n",
    "    #plt.ylim([0,0.5])\n",
    "    plt.annotate(r'$\\chi^2$ ='+str(round(pp.chi2,1)), xy=(0.1,0.95),xycoords='axes fraction')\n",
    "    plt.annotate(r'Velocity ='+str(round(pp.sol[0],1))+' $\\pm$ '+str(round(pp.error[0],1)), xy=(0.1,0.9),xycoords='axes fraction')\n",
    "    savefig('../ppxf_sunrise_notlog.pdf')\n",
    "    return lam_gal, galaxy,pp.chi2,pp.sol[0], pp.error[0]\n",
    "\n",
    "\n",
    "\n",
    "\n",
    "def ppxf_my_gal_log(xs, spec,plot):   \n",
    "    file_dir = '/usr/local/Cellar/python/2.7.6/Frameworks/Python.framework/Versions/2.7/lib/python2.7/site-packages/ppxf'  # path of this procedure\n",
    "\n",
    " \n",
    "    z = 0.0   # SDSS redshift estimate\n",
    "    xs=np.array(xs)\n",
    "    mask = (xs > (3540)) & (xs < (7409))\n",
    "    #mask = (xs > (3600)) & (xs < (5650))\n",
    "    #mask = (xs > 3540) & (xs < 7409)\n",
    "    lambdas=xs[mask]\n",
    "    \n",
    "    \n",
    "    flux = spec[mask]\n",
    "\n",
    "    var = np.sqrt(flux)#poisson noise? For now, this might be a fair assumption\n",
    "    #var_scaled=var/np.median(flux)\n",
    "    \n",
    "    #galaxy = np.array(flux/np.median(flux))  # Normalize spectrum to avoid numerical issues\n",
    "    #var_scaled=0.1*galaxy\n",
    "    lam_gal = lambdas\n",
    "\n",
    "\n",
    "    c = 299792.458                  # speed of light in km/s\n",
    "    \n",
    "    \n",
    "    \n",
    "    x_1=np.linspace(0,len(lam_gal)-2,len(lam_gal)-1)\n",
    "    fwhm_gal=[lam_gal[x+1]-lam_gal[x] for x in x_1]\n",
    "    fwhm_gal.append(fwhm_gal[len(x_1)-1])\n",
    "    \n",
    "    if plot=='yes':\n",
    "        plt.plot(lam_gal, fwhm_gal)\n",
    "        plt.axhline(y=(lam_gal[len(x_1)]-lam_gal[0])/len(lam_gal))\n",
    "        plt.xlabel('Lambdas')\n",
    "        plt.ylabel('Interp FWHM')\n",
    "        plt.show()\n",
    "        \n",
    "    lamRange1=[lambdas[0],lambdas[len(lambdas)-1]]\n",
    "  \n",
    "    galaxy, logLam1, velscale = util.log_rebin(lamRange1, flux)\n",
    "    noise, logLam1, velscale1 = util.log_rebin(lamRange1, var)\n",
    "    \n",
    "    \n",
    "    galaxy = galaxy/np.median(galaxy)  # Normalize spectrum to avoid numerical issues\n",
    "    #noise = np.full_like(galaxy, 0.0047)           # Assume constant noise per pixel here\n",
    "    \n",
    "    #noise = noise/np.median(galaxy)\n",
    "    noise=galaxy*0.2\n",
    "    if plot=='yes':\n",
    "        fig=plt.figure()\n",
    "        ax1 = fig.add_subplot(311)\n",
    "        ax1.plot(logLam1, galaxy, label='Data', color='red')\n",
    "        plt.legend()\n",
    "        ax3 = fig.add_subplot(312)\n",
    "        ax3.plot(logLam1, noise, label='Noise', color='orange')\n",
    "        plt.legend()\n",
    "    \n",
    "    #velscale = np.log(frac)*c       # Constant velocity scale in km/s per pixel\n",
    "    velscale_ratio=10#1.5\n",
    "    #\n",
    "    #lam_gal = lam_gal/(1+z)  # Compute approximate restframe wavelength\n",
    "    #fwhm_gal = fwhm_gal/(1+z)   # Adjust resolution in Angstrom\n",
    "\n",
    "    # Read the list of filenames from the Single Stellar Population library\n",
    "    # by Vazdekis (2010, MNRAS, 404, 1639) http://miles.iac.es/. A subset\n",
    "    # of the library is included for this example with permission\n",
    "    vazdekis = glob.glob(file_dir + '/miles_models/Mun1.30Z*.fits')\n",
    "    fwhm_tem = 2.51 # Vazdekis+10 spectra have a constant resolution FWHM of 2.51A.\n",
    "\n",
    "    # Extract the wavelength range and logarithmically rebin one spectrum\n",
    "    # to the same velocity scale of the SDSS galaxy spectrum, to determine\n",
    "    # the size needed for the array which will contain the template spectra.\n",
    "    #\n",
    "    hdu = fits.open(vazdekis[0])\n",
    "    ssp = hdu[0].data\n",
    "    h2 = hdu[0].header\n",
    "    lam_temp = h2['CRVAL1'] + h2['CDELT1']*np.arange(h2['NAXIS1'])\n",
    "    lamRange2 = h2['CRVAL1'] + np.array([0., h2['CDELT1']*(h2['NAXIS1'] - 1)])\n",
    "    lamRange_temp = [np.min(lam_temp), np.max(lam_temp)]\n",
    "    sspNew, logLam2, velscale_temp = util.log_rebin(lamRange2, ssp, velscale=velscale/velscale_ratio)\n",
    "    if plot=='yes':\n",
    "        ax2 = fig.add_subplot(313)\n",
    "        ax2.plot(logLam2, sspNew, color='orange',label='Template')\n",
    "        plt.legend()\n",
    "        plt.show()\n",
    "    \n",
    "    templates = np.empty((sspNew.size, len(vazdekis)))\n",
    "\n",
    "    # Interpolates the galaxy spectral resolution at the location of every pixel\n",
    "    # of the templates. Outside the range of the galaxy spectrum the resolution\n",
    "    # will be extrapolated, but this is irrelevant as those pixels cannot be\n",
    "    # used in the fit anyway.\n",
    "    fwhm_gal = np.interp(lam_temp, lam_gal, fwhm_gal)\n",
    "    \n",
    "    \n",
    "    #print('fwhm_gal', fwhm_gal)\n",
    "    # Convolve the whole Vazdekis library of spectral templates\n",
    "    # with the quadratic difference between the SDSS and the\n",
    "    # Vazdekis instrumental resolution. Logarithmically rebin\n",
    "    # and store each template as a column in the array TEMPLATES.\n",
    "\n",
    "    # Quadratic sigma difference in pixels Vazdekis --> SDSS\n",
    "    # The formula below is rigorously valid if the shapes of the\n",
    "    # instrumental spectral profiles are well approximated by Gaussians.\n",
    "    #\n",
    "    # In the line below, the fwhm_dif is set to zero when fwhm_gal < fwhm_tem.\n",
    "    # In principle it should never happen and a higher resolution template should be used.\n",
    "    #\n",
    "    fwhm_dif = np.sqrt((fwhm_gal**2 - fwhm_tem**2).clip(0))\n",
    "    sigma = fwhm_dif/2.355/h2['CDELT1'] # Sigma difference in pixels\n",
    "\n",
    "    for j, fname in enumerate(vazdekis):\n",
    "        hdu = fits.open(fname)\n",
    "        ssp = hdu[0].data\n",
    "        ssp = util.gaussian_filter1d(ssp, sigma)  # perform convolution with variable sigma\n",
    "        sspNew = util.log_rebin(lamRange_temp, ssp, velscale=velscale/velscale_ratio)[0]\n",
    "        sspNew, logLam2, velscale_temp = util.log_rebin(lamRange2, ssp, velscale=velscale/velscale_ratio)\n",
    "        templates[:, j] = sspNew/np.median(sspNew) # Normalizes templates\n",
    "    \n",
    "    if plot=='yes':\n",
    "        fig=plt.figure()\n",
    "        ax1=fig.add_subplot(211)\n",
    "        ax1.plot(lam_gal, galaxy, label='Gal')\n",
    "        #ax1.set_xlim([5850,5950])\n",
    "        #ax1.set_ylim([0.5,2.0])\n",
    "        ax2=fig.add_subplot(212)\n",
    "        ax2.plot(lam_temp, ssp, label='Template')\n",
    "        #ax2.set_xlim([5850,5950])\n",
    "        plt.legend()\n",
    "        plt.show()\n",
    "    # The galaxy and the template spectra do not have the same starting wavelength.\n",
    "    # For this reason an extra velocity shift DV has to be applied to the template\n",
    "    # to fit the galaxy spectrum. We remove this artificial shift by using the\n",
    "    # keyword VSYST in the call to PPXF below, so that all velocities are\n",
    "    # measured with respect to DV. This assume the redshift is negligible.\n",
    "    # In the case of a high-redshift galaxy one should de-redshift its\n",
    "    # wavelength to the rest frame before using the line below (see above).\n",
    "    #\n",
    "    c = 299792.458\n",
    "    if velscale_ratio > 1:\n",
    "        dv = (np.mean(logLam2[:velscale_ratio]) - logLam1[0])*c  # km/s\n",
    "    else:\n",
    "        dv = (logLam2[0] - logLam1[0])*c  # km/s\n",
    "\n",
    "    vel = 450.  # Initial estimate of the galaxy velocity in km/s\n",
    "    #z = np.exp(vel/c) - 1   # Relation between velocity and redshift in pPXF\n",
    "    vel = c*np.log(1 + z)   # Initial estimate of the galaxy velocity in km/s\n",
    "    goodPixels = util.determine_goodpixels(np.log(lam_gal), lamRange_temp, z)\n",
    "\n",
    "    # Here the actual fit starts. The best fit is plotted on the screen.\n",
    "    # Gas emission lines are excluded from the pPXF fit using the GOODPIXELS keyword.\n",
    "    #\n",
    "   \n",
    "    start = [vel, 200.]  # (km/s), starting guess for [V, sigma]\n",
    "    t = clock()\n",
    "    if plot=='yes':\n",
    "        plt.plot(lam_temp,ssp)\n",
    "        plt.plot(lam_gal,galaxy)\n",
    "        plt.plot(lam_gal,noise)\n",
    "        plt.show()\n",
    "    plt.clf()\n",
    "    \n",
    "    print('shape gal', shape(galaxy), len(galaxy))\n",
    "    print('shape temp', shape(templates))\n",
    "    \n",
    "    pp = ppxf(templates, galaxy, noise, velscale, start,\n",
    "              goodpixels=goodPixels, plot=True, moments=4,\n",
    "              degree=4, vsyst=dv, velscale_ratio=velscale_ratio)\n",
    "\n",
    "    \n",
    "    '''pp = ppxf(templates, galaxy, noise, velscale, start,\n",
    "              goodpixels=goodpixels, plot=True, moments=4,\n",
    "              degree=4, vsyst=dv, velscale_ratio=velscale_ratio, clean=False, lam=lam_gal)#was degree=12'''\n",
    "\n",
    "    print(\"Formal errors:\")\n",
    "    print(\"     dV    dsigma   dh3      dh4\")\n",
    "    print(\"\".join(\"%8.2g\" % f for f in pp.error*np.sqrt(pp.chi2)))\n",
    "\n",
    "    print('Elapsed time in PPXF: %.2f s' % (clock() - t))\n",
    "\n",
    "    # If the galaxy is at significant redshift z and the wavelength has been\n",
    "    # de-redshifted with the three lines \"z = 1.23...\" near the beginning of\n",
    "    # this procedure, the best-fitting redshift is now given by the following\n",
    "    # commented line (equation 2 of Cappellari et al. 2009, ApJ, 704, L34):\n",
    "    #\n",
    "    #print, 'Best-fitting redshift z:', (z + 1)*(1 + sol[0]/c) - 1\n",
    "\n",
    "#------------------------------------------------------------------------------\n",
    "    #if plot=='yes':\n",
    "    #plt.ylim([0,0.5])\n",
    "    plt.annotate(r'$\\chi^2$ ='+str(round(pp.chi2,1)), xy=(0.1,0.95),xycoords='axes fraction')\n",
    "    plt.annotate(r'Velocity ='+str(round(pp.sol[0],1))+' $\\pm$ '+str(round(pp.error[0],1)), xy=(0.1,0.9),xycoords='axes fraction')\n",
    "    savefig('../ppxf_sunrise_log.pdf')\n",
    "    return lam_gal, galaxy,pp.chi2,pp.sol[0], pp.error[0]\n",
    "\n",
    "\n",
    "\n",
    "\n",
    "\n",
    "def ppxf_example_population_gas_sdss():\n",
    "\n",
    "    file_dir = '/usr/local/Cellar/python/2.7.6/Frameworks/Python.framework/Versions/2.7/lib/python2.7/site-packages/ppxf'  # path of this procedure\n",
    "    \n",
    "    # Read SDSS DR8 galaxy spectrum taken from here http://www.sdss3.org/dr8/\n",
    "    # The spectrum is *already* log rebinned by the SDSS DR8\n",
    "    # pipeline and log_rebin should not be used in this case.\n",
    "    #\n",
    "    file = file_dir + '/spectra/NGC3522_SDSS_DR8.fits'\n",
    "    hdu = fits.open(file)\n",
    "    t = hdu[1].data\n",
    "    z = float(hdu[1].header[\"Z\"]) # SDSS redshift estimate\n",
    "\n",
    "    # Only use the wavelength range in common between galaxy and stellar library.\n",
    "    #\n",
    "    mask = (t['wavelength'] > 3540) & (t['wavelength'] < 7409)\n",
    "    flux = t['flux'][mask]\n",
    "    galaxy = flux/np.median(flux)   # Normalize spectrum to avoid numerical issues\n",
    "    wave = t['wavelength'][mask]\n",
    "\n",
    "    # The SDSS wavelengths are in vacuum, while the MILES ones are in air.\n",
    "    # For a rigorous treatment, the SDSS vacuum wavelengths should be\n",
    "    # converted into air wavelengths and the spectra should be resampled.\n",
    "    # To avoid resampling, given that the wavelength dependence of the\n",
    "    # correction is very weak, I approximate it with a constant factor.\n",
    "    #\n",
    "    wave *= np.median(util.vac_to_air(wave)/wave)\n",
    "\n",
    "    # The noise level is chosen to give Chi^2/DOF=1 without regularization (REGUL=0).\n",
    "    # A constant noise is not a bad approximation in the fitted wavelength\n",
    "    # range and reduces the noise in the fit.\n",
    "    #\n",
    "    noise = np.full_like(galaxy, 0.01635)           # Assume constant noise per pixel here\n",
    "\n",
    "    # The velocity step was already chosen by the SDSS pipeline\n",
    "    # and we convert it below to km/s\n",
    "    #\n",
    "    c = 299792.458 # speed of light in km/s\n",
    "    velscale = c*np.log(wave[1]/wave[0])\n",
    "    FWHM_gal = 2.76 # SDSS has an approximate instrumental resolution FWHM of 2.76A.\n",
    "\n",
    "    #------------------- Setup templates -----------------------\n",
    "\n",
    "    pathname = file_dir + '/miles_models/Mun1.30*.fits'\n",
    "    miles = lib.miles(pathname, velscale, FWHM_gal)\n",
    "\n",
    "    # The stellar templates are reshaped into a 2-dim array with each spectrum\n",
    "    # as a column, however we save the original array dimensions, which are\n",
    "    # needed to specify the regularization dimensions\n",
    "    #\n",
    "    reg_dim = miles.templates.shape[1:]\n",
    "    stars_templates = miles.templates.reshape(miles.templates.shape[0], -1)\n",
    "\n",
    "    # See the pPXF documentation for the keyword REGUL,\n",
    "    regul_err = 0.0036  # Desired regularization error\n",
    "\n",
    "    # Construct a set of Gaussian emission line templates.\n",
    "    # Estimate the wavelength fitted range in the rest frame.\n",
    "    #\n",
    "    lam_range_gal = np.array([np.min(wave), np.max(wave)])/(1 + z)\n",
    "    gas_templates, line_names, line_wave =         util.emission_lines(miles.log_lam_temp, lam_range_gal, FWHM_gal)\n",
    "\n",
    "    # Combines the stellar and gaseous templates into a single array\n",
    "    # during the PPXF fit they will be assigned a different kinematic\n",
    "    # COMPONENT value\n",
    "    #\n",
    "    templates = np.column_stack([stars_templates, gas_templates])\n",
    "\n",
    "    #-----------------------------------------------------------\n",
    "\n",
    "    # The galaxy and the template spectra do not have the same starting wavelength.\n",
    "    # For this reason an extra velocity shift DV has to be applied to the template\n",
    "    # to fit the galaxy spectrum. We remove this artificial shift by using the\n",
    "    # keyword VSYST in the call to PPXF below, so that all velocities are\n",
    "    # measured with respect to DV. This assume the redshift is negligible.\n",
    "    # In the case of a high-redshift galaxy one should de-redshift its\n",
    "    # wavelength to the rest frame before using the line below as described\n",
    "    # in PPXF_EXAMPLE_KINEMATICS_SAURON.\n",
    "    #\n",
    "    c = 299792.458\n",
    "    dv = c*(miles.log_lam_temp[0] - np.log(wave[0])) # km/s\n",
    "    vel = c*np.log(1 + z) # Relation between redshift and velocity in pPXF\n",
    "\n",
    "    # Here the actual fit starts. The best fit is plotted on the screen.\n",
    "    #\n",
    "    # IMPORTANT: Ideally one would like not to use any polynomial in the fit\n",
    "    # as the continuum shape contains important information on the population.\n",
    "    # Unfortunately this is often not feasible, due to small calibration\n",
    "    # uncertainties in the spectral shape. To avoid affecting the line strength of\n",
    "    # the spectral features, we exclude additive polynomials (DEGREE=-1) and only use\n",
    "    # multiplicative ones (MDEGREE=10). This is only recommended for population, not\n",
    "    # for kinematic extraction, where additive polynomials are always recommended.\n",
    "    #\n",
    "    start = [vel, 180.]  # (km/s), starting guess for [V, sigma]\n",
    "\n",
    "    t = clock()\n",
    "\n",
    "    # Assign component=0 to the stellar templates and\n",
    "    # component=1 to the gas emission lines templates.\n",
    "    # One can easily assign different kinematic components to different gas species\n",
    "    # e.g. component=1 for the Balmer series, component=2 for the [OIII] doublet, ...)\n",
    "    # Input a negative MOMENTS value to keep fixed the LOSVD of a component.\n",
    "    #\n",
    "    nTemps = stars_templates.shape[1]\n",
    "    nLines = gas_templates.shape[1]\n",
    "    component = [0]*nTemps + [1]*nLines\n",
    "    moments = [4, 2]  # fit (V, sig, h3, h4) for the stars and (V, sig) for the gas\n",
    "    start = [start, start]  # adopt the same starting value for both gas and stars\n",
    "\n",
    "    pp = ppxf(templates, galaxy, noise, velscale, start,\n",
    "              plot=False, moments=moments, degree=-1, mdegree=10, vsyst=dv,\n",
    "              clean=False, regul=1./regul_err, reg_dim=reg_dim, component=component)\n",
    "\n",
    "    # When the two Delta Chi^2 below are the same, the solution is the smoothest\n",
    "    # consistent with the observed spectrum.\n",
    "    #\n",
    "    print('Desired Delta Chi^2: %.4g' % np.sqrt(2*galaxy.size))\n",
    "    print('Current Delta Chi^2: %.4g' % ((pp.chi2 - 1)*galaxy.size))\n",
    "    print('Elapsed time in PPXF: %.2f s' % (clock() - t))\n",
    "\n",
    "    gas = np.array(component) == 1  # Select weights of gas emissions only\n",
    "    print('++++++++++++++++++++++++++++++')\n",
    "    print('Gas V=%.4g and sigma=%.2g km/s' % (pp.sol[1][0], pp.sol[1][1]))  # component=1\n",
    "    print('Emission lines fluxes:')\n",
    "    for name, weight, line in zip(line_names, pp.weights[gas], pp.matrix[:, gas].T):\n",
    "        print('%12s: %.3g' % (name, weight*np.sum(line)))\n",
    "    print('------------------------------')\n",
    "\n",
    "    weights = pp.weights[~gas]  # Exclude weights of the gas templates\n",
    "    weights = weights.reshape(reg_dim)/weights.sum()  # Normalized\n",
    "\n",
    "    miles.mean_age_metal(weights)\n",
    "    miles.mass_to_light(weights, band=\"r\")\n",
    "\n",
    "    # Plot fit results for stars and gas\n",
    "    plt.clf()\n",
    "    plt.subplot(211)\n",
    "    plt.plot(wave, pp.galaxy, 'k')\n",
    "    plt.plot(wave, pp.bestfit, 'b', linewidth=2)\n",
    "    plt.xlabel(\"Observed Wavelength ($\\AA$)\")\n",
    "    plt.ylabel(\"Relative Flux\")\n",
    "    plt.ylim([-0.1, 1.3])\n",
    "    plt.xlim([np.min(wave), np.max(wave)])\n",
    "    plt.plot(wave, pp.galaxy-pp.bestfit, 'd', ms=4, color='LimeGreen', mec='LimeGreen') # fit residuals\n",
    "    plt.axhline(y=-0, linestyle='--', color='k', linewidth=2)\n",
    "    stars = pp.matrix[:, ~gas].dot(pp.weights[~gas])\n",
    "    plt.plot(wave, stars, 'r', linewidth=2)  # overplot stellar templates alone\n",
    "    gas = pp.matrix[:, gas].dot(pp.weights[gas])\n",
    "    plt.plot(wave, gas+0.15, 'b', linewidth=2)  # overplot emission lines alone\n",
    "\n",
    "    # Plot stellar population mass fraction distribution\n",
    "    plt.subplot(212)\n",
    "    miles.plot(weights)\n",
    "    plt.tight_layout()\n",
    "    savefig('../gas_emission_lines_sdss.pdf')"
   ]
  },
  {
   "cell_type": "code",
   "execution_count": 203,
   "metadata": {
    "collapsed": false
   },
   "outputs": [
    {
     "data": {
      "text/plain": [
       "Type help() for interactive help, or help(object) for help about object."
      ]
     },
     "execution_count": 203,
     "metadata": {},
     "output_type": "execute_result"
    }
   ],
   "source": [
    "help "
   ]
  },
  {
   "cell_type": "code",
   "execution_count": 8,
   "metadata": {
    "collapsed": false
   },
   "outputs": [],
   "source": []
  },
  {
   "cell_type": "code",
   "execution_count": 8,
   "metadata": {
    "collapsed": false
   },
   "outputs": [],
   "source": []
  },
  {
   "cell_type": "code",
   "execution_count": 12,
   "metadata": {
    "collapsed": false
   },
   "outputs": [
    {
     "data": {
      "text/plain": [
       "<matplotlib.figure.Figure at 0x2407d6358>"
      ]
     },
     "metadata": {},
     "output_type": "display_data"
    },
    {
     "data": {
      "text/plain": [
       "<matplotlib.figure.Figure at 0x2408d2630>"
      ]
     },
     "metadata": {},
     "output_type": "display_data"
    },
    {
     "data": {
      "image/png": "[encoded data removed]",
      "text/plain": [
       "<matplotlib.figure.Figure at 0x240a76390>"
      ]
     },
     "metadata": {},
     "output_type": "display_data"
    }
   ],
   "source": [
    "import numpy as np\n",
    "import pylab as pl\n",
    "from matplotlib import collections  as mc\n",
    "plt.clf()\n",
    "\n",
    "lines = [[(0, 1), (1, 1)],[(2, 3), (3, 3)]]\n",
    "c = np.array([(1, 0, 0, 1),(0, 1, 0, 1)])\n",
    "\n",
    "lc = mc.LineCollection(lines, colors=c, linewidths=2)\n",
    "fig, ax = pl.subplots()\n",
    "ax.add_collection(lc)\n",
    "ax.autoscale()\n",
    "ax.margins(0.1)\n",
    "plt.show()"
   ]
  },
  {
   "cell_type": "code",
   "execution_count": 13,
   "metadata": {
    "collapsed": false
   },
   "outputs": [
    {
     "data": {
      "image/png": "[encoded data removed]",
      "text/plain": [
       "<matplotlib.figure.Figure at 0x1198c8438>"
      ]
     },
     "metadata": {},
     "output_type": "display_data"
    }
   ],
   "source": [
    "'''convolution example'''\n",
    "import numpy as np\n",
    "import matplotlib.pyplot as plt\n",
    "\n",
    "from astropy.convolution import Gaussian1DKernel\n",
    "from astropy.convolution import convolve\n",
    "\n",
    "# Generate fake data\n",
    "x = np.arange(1000).astype(float)\n",
    "y = np.sin(x / 100.) + np.random.normal(0., 1., x.shape)\n",
    "\n",
    "# Create kernel\n",
    "g = Gaussian1DKernel(50)\n",
    "\n",
    "# Convolve data\n",
    "z = convolve(y, g, boundary='extend')\n",
    "\n",
    "# Plot data before and after convolution\n",
    "plt.plot(x, y, 'k.')\n",
    "#plt.plot(x, z)\n",
    "plt.show()"
   ]
  },
  {
   "cell_type": "code",
   "execution_count": 13,
   "metadata": {
    "collapsed": false
   },
   "outputs": [
    {
     "name": "stdout",
     "output_type": "stream",
     "text": [
      "kernel 1.8549627398427002\n"
     ]
    },
    {
     "data": {
      "text/plain": [
       "<matplotlib.figure.Figure at 0x117b58630>"
      ]
     },
     "metadata": {},
     "output_type": "display_data"
    },
    {
     "data": {
      "image/png": "[encoded data removed]",
      "text/plain": [
       "<matplotlib.figure.Figure at 0x117b58f28>"
      ]
     },
     "metadata": {},
     "output_type": "display_data"
    },
    {
     "data": {
      "image/png": "[encoded data removed]",
      "text/plain": [
       "<matplotlib.figure.Figure at 0x1177c5b38>"
      ]
     },
     "metadata": {},
     "output_type": "display_data"
    },
    {
     "data": {
      "image/png": "[encoded data removed]",
      "text/plain": [
       "<matplotlib.figure.Figure at 0x1177c5978>"
      ]
     },
     "metadata": {},
     "output_type": "display_data"
    }
   ],
   "source": [
    "'''This is the Gaussian 2d Kernel you want ot use'''\n",
    "import matplotlib.pyplot as plt\n",
    "from astropy.convolution import Gaussian2DKernel\n",
    "'''Convert a 2.54\" FWHM thing into pixels and standard deviation'''\n",
    "\n",
    "sigma=1.2/2.355#apparently the preimage sigma is not large :)\n",
    "##kpc/pix is the pixelscale\n",
    "##conversion factor is kpc/\"\n",
    "kernel_sigma_pix=(sigma*(kpc_arcmin.value/60))/pixelscale\n",
    "print('kernel', kernel_sigma_pix)\n",
    "\n",
    "gaussian_2D_kernel = Gaussian2DKernel(kernel_sigma_pix)\n",
    "plt.imshow(gaussian_2D_kernel, interpolation='none', origin='lower')\n",
    "plt.xlabel('x [pixels]')\n",
    "plt.ylabel('y [pixels]')\n",
    "plt.colorbar()\n",
    "plt.show()"
   ]
  },
  {
   "cell_type": "code",
   "execution_count": 14,
   "metadata": {
    "collapsed": false
   },
   "outputs": [
    {
     "data": {
      "image/png": "[encoded data removed]",
      "text/plain": [
       "<matplotlib.figure.Figure at 0x23ebf6be0>"
      ]
     },
     "metadata": {},
     "output_type": "display_data"
    },
    {
     "name": "stderr",
     "output_type": "stream",
     "text": [
      "WARNING: AstropyDeprecationWarning: \"clobber\" was deprecated in version 1.3 and will be removed in a future version. Use argument \"overwrite\" instead. [astropy.utils.decorators]\n"
     ]
    }
   ],
   "source": [
    "from astropy.convolution import convolve, convolve_fft\n",
    "\n",
    "\n",
    "result = convolve(np.sum(CAMERA0.data[:,:,:],axis=0), gaussian_2D_kernel)\n",
    "result_2 = convolve_fft(np.sum(CAMERA0.data[:,:,:],axis=0), gaussian_2D_kernel)\n",
    "\n",
    "plt.imshow(result)\n",
    "plt.show()\n",
    "\n",
    "\n",
    "outfile = 'q0.5_fg0.3_allrx10/test_out_convolved.fits'\n",
    "hdu = fits.PrimaryHDU(np.flipud(result))\n",
    "hdu.writeto(outfile, clobber=True)"
   ]
  },
  {
   "cell_type": "code",
   "execution_count": 3,
   "metadata": {
    "collapsed": false
   },
   "outputs": [],
   "source": [
    "'''this is to to create beautiful images of the galfit modeling'''\n",
    "galfit=pyfits.open('q0.5_fg0.3_allrx10/imgblock.fits')"
   ]
  },
  {
   "cell_type": "code",
   "execution_count": 28,
   "metadata": {
    "collapsed": false
   },
   "outputs": [
    {
     "name": "stderr",
     "output_type": "stream",
     "text": [
      "tight_layout : falling back to Agg renderer\n"
     ]
    }
   ],
   "source": [
    "galfit_input=galfit[1].data\n",
    "galfit_model=galfit[2].data\n",
    "galfit_resid=galfit[3].data\n",
    "fig=plt.figure()\n",
    "\n",
    "ax1 = fig.add_subplot(131, aspect='equal')\n",
    "ax1.set_title('Data')\n",
    "\n",
    "pixelscale=0.166666#kpc/pix\n",
    "#spacing=((kpc_arcmin.value/60))/pixelscale\n",
    "#axis is 100x100 pixels\n",
    "ticklocs=[0,25,50,75,100]\n",
    "\n",
    "kpc=[round(pixelscale*(x-50),1) for x in ticklocs]\n",
    "\n",
    "ax1.imshow(galfit_input[75:175,150:250], vmin=0, vmax=50)\n",
    "ax1.set_xticks(ticklocs)\n",
    "ax1.set_xticklabels(kpc)\n",
    "ax1.set_yticks(ticklocs)\n",
    "ax1.set_yticklabels(kpc)\n",
    "\n",
    "\n",
    "ax2 = fig.add_subplot(132, aspect='equal')\n",
    "ax2.set_title('Galfit Model')\n",
    "ax2.imshow(galfit_model[75:175,150:250], vmin=0, vmax=50)\n",
    "ax2.set_xticks(ticklocs)\n",
    "ax2.set_xticklabels(kpc)\n",
    "ax2.set_yticks(ticklocs)\n",
    "ax2.set_yticklabels(kpc)\n",
    "\n",
    "\n",
    "ax3 = fig.add_subplot(133, aspect='equal')\n",
    "ax3.set_title('Residuals')\n",
    "ax3.imshow(galfit_resid[75:175,150:250], vmin=0, vmax=50)\n",
    "ax3.set_xticks(ticklocs)\n",
    "ax3.set_xticklabels(kpc)\n",
    "ax3.set_yticks(ticklocs)\n",
    "ax3.set_yticklabels(kpc)\n",
    "plt.tight_layout()\n",
    "savefig('../MaNGA_papers/Paper_I/Galfit_ex.pdf')"
   ]
  },
  {
   "cell_type": "code",
   "execution_count": null,
   "metadata": {
    "collapsed": false
   },
   "outputs": [],
   "source": []
  }
 ],
 "metadata": {
  "kernelspec": {
   "display_name": "Python 3",
   "language": "python",
   "name": "python3"
  },
  "language_info": {
   "codemirror_mode": {
    "name": "ipython",
    "version": 3
   },
   "file_extension": ".py",
   "mimetype": "text/x-python",
   "name": "python",
   "nbconvert_exporter": "python",
   "pygments_lexer": "ipython3",
   "version": "3.6.0"
  }
 },
 "nbformat": 4,
 "nbformat_minor": 0
}
